{
 "cells": [
  {
   "cell_type": "markdown",
   "metadata": {},
   "source": [
    "# input : (200,200), VGG16 + fine tuning (Block 5 ~) + Dense drop out O"
   ]
  },
  {
   "cell_type": "code",
   "execution_count": 1,
   "metadata": {},
   "outputs": [],
   "source": [
    "import os\n",
    "import numpy as np\n",
    "import tensorflow as tf"
   ]
  },
  {
   "cell_type": "code",
   "execution_count": 2,
   "metadata": {},
   "outputs": [
    {
     "name": "stdout",
     "output_type": "stream",
     "text": [
      "train : 11507, validation : 1645, test : 3286\n"
     ]
    }
   ],
   "source": [
    "data_path = \"C:\\\\Users\\\\Owner6\\\\workspace\\\\midterm\\\\after_data\"\n",
    "\n",
    "train_path = os.path.join(data_path, 'train')\n",
    "validation_path = os.path.join(data_path, 'validation')\n",
    "test_path = os.path.join(data_path, 'test')\n",
    "\n",
    "train_len = len(os.listdir( os.path.join( train_path, 'normal' ) )) +\\\n",
    "    len(os.listdir( os.path.join( train_path, 'bacteria' ) )) +\\\n",
    "    len(os.listdir( os.path.join( train_path, 'virus' ) )) +\\\n",
    "    len(os.listdir( os.path.join( train_path, 'covid' ) ))\n",
    "    \n",
    "validation_len = len(os.listdir( os.path.join( validation_path, 'normal' ) )) +\\\n",
    "    len(os.listdir( os.path.join( validation_path, 'bacteria' ) )) +\\\n",
    "    len(os.listdir( os.path.join( validation_path, 'virus' ) )) +\\\n",
    "    len(os.listdir( os.path.join( validation_path, 'covid' ) ))\n",
    "    \n",
    "test_len = len(os.listdir( os.path.join( test_path, 'normal' ) )) +\\\n",
    "    len(os.listdir( os.path.join( test_path, 'bacteria' ) )) +\\\n",
    "    len(os.listdir( os.path.join( test_path, 'virus' ) )) +\\\n",
    "    len(os.listdir( os.path.join( test_path, 'covid' ) ))\n",
    "\n",
    "print(f'train : {train_len}, validation : {validation_len}, test : {test_len}')"
   ]
  },
  {
   "cell_type": "code",
   "execution_count": 3,
   "metadata": {},
   "outputs": [
    {
     "name": "stdout",
     "output_type": "stream",
     "text": [
      "Found 11507 images belonging to 4 classes.\n",
      "Found 1645 images belonging to 4 classes.\n",
      "Found 3286 images belonging to 4 classes.\n"
     ]
    }
   ],
   "source": [
    "from tensorflow.keras.preprocessing.image import ImageDataGenerator\n",
    "\n",
    "data_gen = ImageDataGenerator(rescale=1./255)\n",
    "\n",
    "train_data = data_gen.flow_from_directory(\n",
    "    train_path, class_mode='categorical', color_mode='rgb',\n",
    "    target_size=(200,200), batch_size=37 # 11507 = 37 * 311\n",
    ")\n",
    "\n",
    "validation_data = data_gen.flow_from_directory(\n",
    "    validation_path, class_mode='categorical', color_mode='rgb',\n",
    "    target_size=(200,200), batch_size=35 # 1645 = 35 * 47\n",
    ")\n",
    "\n",
    "test_data = data_gen.flow_from_directory(\n",
    "    test_path, class_mode='categorical', color_mode='rgb',\n",
    "    target_size=(200,200), batch_size=31 # 3286 = 31 * 106\n",
    ")\n",
    "\n",
    "# train_x, train_y = train_data.next()\n",
    "# validation_x, validation_y = validation_data.next()\n",
    "# test_x, test_y = test_data.next()\n",
    "\n",
    "# train_x.shape, train_y.shape"
   ]
  },
  {
   "cell_type": "code",
   "execution_count": 4,
   "metadata": {},
   "outputs": [],
   "source": [
    "from tensorflow.keras.applications import VGG16\n",
    "\n",
    "conv_base = VGG16(weights='imagenet',\n",
    "                  include_top=False,\n",
    "                  input_shape=(200, 200, 3))"
   ]
  },
  {
   "cell_type": "code",
   "execution_count": 5,
   "metadata": {},
   "outputs": [
    {
     "name": "stdout",
     "output_type": "stream",
     "text": [
      "Model: \"vgg16\"\n",
      "_________________________________________________________________\n",
      "Layer (type)                 Output Shape              Param #   \n",
      "=================================================================\n",
      "input_1 (InputLayer)         [(None, 200, 200, 3)]     0         \n",
      "_________________________________________________________________\n",
      "block1_conv1 (Conv2D)        (None, 200, 200, 64)      1792      \n",
      "_________________________________________________________________\n",
      "block1_conv2 (Conv2D)        (None, 200, 200, 64)      36928     \n",
      "_________________________________________________________________\n",
      "block1_pool (MaxPooling2D)   (None, 100, 100, 64)      0         \n",
      "_________________________________________________________________\n",
      "block2_conv1 (Conv2D)        (None, 100, 100, 128)     73856     \n",
      "_________________________________________________________________\n",
      "block2_conv2 (Conv2D)        (None, 100, 100, 128)     147584    \n",
      "_________________________________________________________________\n",
      "block2_pool (MaxPooling2D)   (None, 50, 50, 128)       0         \n",
      "_________________________________________________________________\n",
      "block3_conv1 (Conv2D)        (None, 50, 50, 256)       295168    \n",
      "_________________________________________________________________\n",
      "block3_conv2 (Conv2D)        (None, 50, 50, 256)       590080    \n",
      "_________________________________________________________________\n",
      "block3_conv3 (Conv2D)        (None, 50, 50, 256)       590080    \n",
      "_________________________________________________________________\n",
      "block3_pool (MaxPooling2D)   (None, 25, 25, 256)       0         \n",
      "_________________________________________________________________\n",
      "block4_conv1 (Conv2D)        (None, 25, 25, 512)       1180160   \n",
      "_________________________________________________________________\n",
      "block4_conv2 (Conv2D)        (None, 25, 25, 512)       2359808   \n",
      "_________________________________________________________________\n",
      "block4_conv3 (Conv2D)        (None, 25, 25, 512)       2359808   \n",
      "_________________________________________________________________\n",
      "block4_pool (MaxPooling2D)   (None, 12, 12, 512)       0         \n",
      "_________________________________________________________________\n",
      "block5_conv1 (Conv2D)        (None, 12, 12, 512)       2359808   \n",
      "_________________________________________________________________\n",
      "block5_conv2 (Conv2D)        (None, 12, 12, 512)       2359808   \n",
      "_________________________________________________________________\n",
      "block5_conv3 (Conv2D)        (None, 12, 12, 512)       2359808   \n",
      "_________________________________________________________________\n",
      "block5_pool (MaxPooling2D)   (None, 6, 6, 512)         0         \n",
      "=================================================================\n",
      "Total params: 14,714,688\n",
      "Trainable params: 14,714,688\n",
      "Non-trainable params: 0\n",
      "_________________________________________________________________\n"
     ]
    }
   ],
   "source": [
    "# conv_base.trainable = False\n",
    "conv_base.summary()"
   ]
  },
  {
   "cell_type": "code",
   "execution_count": 6,
   "metadata": {},
   "outputs": [],
   "source": [
    "from tensorflow.keras import models, layers\n",
    "\n",
    "model = models.Sequential()\n",
    "model.add(conv_base)\n",
    "# model.add(layers.Conv2D(1024, (3,3), activation='relu', padding='same'))\n",
    "# model.add(layers.Conv2D(1024, (3,3), activation='relu', padding='same'))\n",
    "# model.add(layers.Conv2D(1024, (3,3), activation='relu', padding='same'))\n",
    "# model.add(layers.Conv2D(1024, (3,3), activation='relu', padding='same'))\n",
    "# model.add(layers.MaxPool2D((2,2)))\n",
    "# model.add(layers.Conv2D(1024, (3,3), activation='relu', padding='same'))\n",
    "# model.add(layers.Conv2D(1024, (3,3), activation='relu', padding='same'))\n",
    "# model.add(layers.Conv2D(1024, (3,3), activation='relu', padding='same'))\n",
    "# model.add(layers.Conv2D(1024, (3,3), activation='relu', padding='same'))\n",
    "# model.add(layers.MaxPool2D((2,2)))\n",
    "model.add(layers.Flatten())\n",
    "# model.add(layers.Dense(1024, activation='relu'))\n",
    "# model.add(layers.Dropout(0.3))\n",
    "model.add(layers.Dense(512, activation='relu'))\n",
    "model.add(layers.Dropout(0.3))\n",
    "model.add(layers.Dense(4, activation='softmax'))"
   ]
  },
  {
   "cell_type": "code",
   "execution_count": 7,
   "metadata": {},
   "outputs": [
    {
     "name": "stdout",
     "output_type": "stream",
     "text": [
      "Model: \"sequential\"\n",
      "_________________________________________________________________\n",
      "Layer (type)                 Output Shape              Param #   \n",
      "=================================================================\n",
      "vgg16 (Functional)           (None, 6, 6, 512)         14714688  \n",
      "_________________________________________________________________\n",
      "flatten (Flatten)            (None, 18432)             0         \n",
      "_________________________________________________________________\n",
      "dense (Dense)                (None, 512)               9437696   \n",
      "_________________________________________________________________\n",
      "dropout (Dropout)            (None, 512)               0         \n",
      "_________________________________________________________________\n",
      "dense_1 (Dense)              (None, 4)                 2052      \n",
      "=================================================================\n",
      "Total params: 24,154,436\n",
      "Trainable params: 16,519,172\n",
      "Non-trainable params: 7,635,264\n",
      "_________________________________________________________________\n"
     ]
    }
   ],
   "source": [
    "conv_base.trainable = True\n",
    "\n",
    "set_trainable = False\n",
    "for layer in conv_base.layers:\n",
    "    if layer.name == 'block5_conv1':\n",
    "        set_trainable = True\n",
    "    if set_trainable:\n",
    "        layer.trainable = True\n",
    "    else:\n",
    "        layer.trainable = False\n",
    "model.summary()"
   ]
  },
  {
   "cell_type": "code",
   "execution_count": 8,
   "metadata": {},
   "outputs": [],
   "source": [
    "from tensorflow.keras.callbacks import ModelCheckpoint\n",
    "\n",
    "checkpoint_filepath = 'model/2/{epoch:02d}-{val_accuracy:.5f}.h5'\n",
    "model_checkpoint_callback = ModelCheckpoint(\n",
    "    filepath=checkpoint_filepath,\n",
    "    monitor='val_accuracy',\n",
    "    verbose=1,\n",
    "    save_best_only=True,\n",
    "    mode='auto'\n",
    ")"
   ]
  },
  {
   "cell_type": "code",
   "execution_count": 9,
   "metadata": {},
   "outputs": [],
   "source": [
    "model.compile(optimizer=\"rmsprop\", \\\n",
    "    loss='categorical_crossentropy', \n",
    "    metrics=['accuracy'])\n"
   ]
  },
  {
   "cell_type": "code",
   "execution_count": 10,
   "metadata": {},
   "outputs": [
    {
     "name": "stdout",
     "output_type": "stream",
     "text": [
      "Epoch 1/20\n",
      "311/311 [==============================] - 186s 577ms/step - loss: 1.5899 - accuracy: 0.7506 - val_loss: 0.6883 - val_accuracy: 0.8073\n",
      "\n",
      "Epoch 00001: val_accuracy improved from -inf to 0.80729, saving model to model/2\\01-0.80729.h5\n",
      "Epoch 2/20\n",
      "311/311 [==============================] - 177s 570ms/step - loss: 0.2915 - accuracy: 0.8851 - val_loss: 0.2061 - val_accuracy: 0.9100\n",
      "\n",
      "Epoch 00002: val_accuracy improved from 0.80729 to 0.91003, saving model to model/2\\02-0.91003.h5\n",
      "Epoch 3/20\n",
      "311/311 [==============================] - 177s 570ms/step - loss: 0.2556 - accuracy: 0.9072 - val_loss: 0.1999 - val_accuracy: 0.9100\n",
      "\n",
      "Epoch 00003: val_accuracy did not improve from 0.91003\n",
      "Epoch 4/20\n",
      "311/311 [==============================] - 178s 572ms/step - loss: 0.2050 - accuracy: 0.9223 - val_loss: 0.2516 - val_accuracy: 0.9258\n",
      "\n",
      "Epoch 00004: val_accuracy improved from 0.91003 to 0.92584, saving model to model/2\\04-0.92584.h5\n",
      "Epoch 5/20\n",
      "311/311 [==============================] - 177s 570ms/step - loss: 0.1846 - accuracy: 0.9307 - val_loss: 0.1668 - val_accuracy: 0.9283\n",
      "\n",
      "Epoch 00005: val_accuracy improved from 0.92584 to 0.92827, saving model to model/2\\05-0.92827.h5\n",
      "Epoch 6/20\n",
      "311/311 [==============================] - 177s 569ms/step - loss: 0.1710 - accuracy: 0.9394 - val_loss: 0.2415 - val_accuracy: 0.9264\n",
      "\n",
      "Epoch 00006: val_accuracy did not improve from 0.92827\n",
      "Epoch 7/20\n",
      "311/311 [==============================] - 177s 569ms/step - loss: 0.1633 - accuracy: 0.9423 - val_loss: 0.3319 - val_accuracy: 0.8705\n",
      "\n",
      "Epoch 00007: val_accuracy did not improve from 0.92827\n",
      "Epoch 8/20\n",
      "311/311 [==============================] - 177s 570ms/step - loss: 0.1339 - accuracy: 0.9500 - val_loss: 0.2396 - val_accuracy: 0.9106\n",
      "\n",
      "Epoch 00008: val_accuracy did not improve from 0.92827\n",
      "Epoch 9/20\n",
      "311/311 [==============================] - 177s 569ms/step - loss: 0.1305 - accuracy: 0.9547 - val_loss: 0.3427 - val_accuracy: 0.9252\n",
      "\n",
      "Epoch 00009: val_accuracy did not improve from 0.92827\n",
      "Epoch 10/20\n",
      "311/311 [==============================] - 177s 569ms/step - loss: 0.1190 - accuracy: 0.9628 - val_loss: 0.3820 - val_accuracy: 0.9125\n",
      "\n",
      "Epoch 00010: val_accuracy did not improve from 0.92827\n",
      "Epoch 11/20\n",
      "311/311 [==============================] - 177s 569ms/step - loss: 0.1007 - accuracy: 0.9677 - val_loss: 0.3734 - val_accuracy: 0.9179\n",
      "\n",
      "Epoch 00011: val_accuracy did not improve from 0.92827\n",
      "Epoch 12/20\n",
      "311/311 [==============================] - 177s 569ms/step - loss: 0.1123 - accuracy: 0.9717 - val_loss: 0.5865 - val_accuracy: 0.9052\n",
      "\n",
      "Epoch 00012: val_accuracy did not improve from 0.92827\n",
      "Epoch 13/20\n",
      "311/311 [==============================] - 177s 569ms/step - loss: 0.0889 - accuracy: 0.9758 - val_loss: 0.5014 - val_accuracy: 0.9222\n",
      "\n",
      "Epoch 00013: val_accuracy did not improve from 0.92827\n",
      "Epoch 14/20\n",
      "311/311 [==============================] - 177s 569ms/step - loss: 0.0883 - accuracy: 0.9824 - val_loss: 0.5690 - val_accuracy: 0.9198\n",
      "\n",
      "Epoch 00014: val_accuracy did not improve from 0.92827\n",
      "Epoch 15/20\n",
      "311/311 [==============================] - 177s 569ms/step - loss: 0.0894 - accuracy: 0.9814 - val_loss: 0.4482 - val_accuracy: 0.9155\n",
      "\n",
      "Epoch 00015: val_accuracy did not improve from 0.92827\n",
      "Epoch 16/20\n",
      "311/311 [==============================] - 175s 563ms/step - loss: 0.0831 - accuracy: 0.9840 - val_loss: 0.6817 - val_accuracy: 0.9149\n",
      "\n",
      "Epoch 00016: val_accuracy did not improve from 0.92827\n",
      "Epoch 17/20\n",
      "311/311 [==============================] - 174s 561ms/step - loss: 0.0651 - accuracy: 0.9870 - val_loss: 1.2807 - val_accuracy: 0.9149\n",
      "\n",
      "Epoch 00017: val_accuracy did not improve from 0.92827\n",
      "Epoch 18/20\n",
      "311/311 [==============================] - 174s 561ms/step - loss: 0.0791 - accuracy: 0.9865 - val_loss: 0.9265 - val_accuracy: 0.9125\n",
      "\n",
      "Epoch 00018: val_accuracy did not improve from 0.92827\n",
      "Epoch 19/20\n",
      "311/311 [==============================] - 174s 560ms/step - loss: 0.0705 - accuracy: 0.9863 - val_loss: 1.0548 - val_accuracy: 0.9191\n",
      "\n",
      "Epoch 00019: val_accuracy did not improve from 0.92827\n",
      "Epoch 20/20\n",
      "311/311 [==============================] - 174s 561ms/step - loss: 0.0719 - accuracy: 0.9879 - val_loss: 1.7465 - val_accuracy: 0.9149\n",
      "\n",
      "Epoch 00020: val_accuracy did not improve from 0.92827\n"
     ]
    }
   ],
   "source": [
    "history = model.fit(train_data, steps_per_epoch=311, epochs=20,\\\n",
    "    validation_data=validation_data, validation_steps=47, callbacks=[model_checkpoint_callback])"
   ]
  },
  {
   "cell_type": "code",
   "execution_count": 11,
   "metadata": {},
   "outputs": [
    {
     "data": {
      "text/plain": [
       "dict_keys(['loss', 'accuracy', 'val_loss', 'val_accuracy'])"
      ]
     },
     "execution_count": 11,
     "metadata": {},
     "output_type": "execute_result"
    }
   ],
   "source": [
    "history.history.keys()"
   ]
  },
  {
   "cell_type": "code",
   "execution_count": 12,
   "metadata": {},
   "outputs": [
    {
     "data": {
      "image/png": "[encoded data removed]",
      "text/plain": [
       "<Figure size 432x288 with 1 Axes>"
      ]
     },
     "metadata": {
      "needs_background": "light"
     },
     "output_type": "display_data"
    },
    {
     "data": {
      "image/png": "[encoded data removed]",
      "text/plain": [
       "<Figure size 432x288 with 1 Axes>"
      ]
     },
     "metadata": {
      "needs_background": "light"
     },
     "output_type": "display_data"
    }
   ],
   "source": [
    "import matplotlib.pyplot as plt\n",
    "\n",
    "acc = history.history['accuracy']\n",
    "val_acc = history.history['val_accuracy']\n",
    "loss = history.history['loss']\n",
    "val_loss = history.history['val_loss']\n",
    "\n",
    "epochs = range(len(acc))\n",
    "\n",
    "plt.plot(epochs, acc, 'bo', label='Training acc')\n",
    "plt.plot(epochs, val_acc, 'b', label='Validation acc')\n",
    "plt.title('Training and validation accuracy')\n",
    "plt.legend()\n",
    "\n",
    "plt.figure()\n",
    "\n",
    "plt.plot(epochs, loss, 'bo', label='Training loss')\n",
    "plt.plot(epochs, val_loss, 'b', label='Validation loss')\n",
    "plt.title('Training and validation loss')\n",
    "plt.legend()\n",
    "\n",
    "plt.show()"
   ]
  },
  {
   "cell_type": "code",
   "execution_count": 13,
   "metadata": {},
   "outputs": [
    {
     "name": "stdout",
     "output_type": "stream",
     "text": [
      "106/106 [==============================] - 45s 406ms/step - loss: 2.0356 - accuracy: 0.9163\n"
     ]
    },
    {
     "data": {
      "text/plain": [
       "[2.0355606079101562, 0.9163116216659546]"
      ]
     },
     "execution_count": 13,
     "metadata": {},
     "output_type": "execute_result"
    }
   ],
   "source": [
    "model.evaluate(test_data, steps=3286 // 31)"
   ]
  }
 ],
 "metadata": {
  "interpreter": {
   "hash": "e9ed752a7e505fc75616f810a0f9c48c49c7ebda3966569fad47dcb1585d7300"
  },
  "kernelspec": {
   "display_name": "Python 3.8.12 64-bit ('jh': conda)",
   "name": "python3"
  },
  "language_info": {
   "codemirror_mode": {
    "name": "ipython",
    "version": 3
   },
   "file_extension": ".py",
   "mimetype": "text/x-python",
   "name": "python",
   "nbconvert_exporter": "python",
   "pygments_lexer": "ipython3",
   "version": "3.8.12"
  },
  "orig_nbformat": 4
 },
 "nbformat": 4,
 "nbformat_minor": 2
}
