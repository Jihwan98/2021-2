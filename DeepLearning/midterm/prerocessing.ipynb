{
 "cells": [
  {
   "cell_type": "code",
   "execution_count": 1,
   "metadata": {},
   "outputs": [],
   "source": [
    "import numpy as np\n",
    "import cv2\n",
    "import os"
   ]
  },
  {
   "cell_type": "code",
   "execution_count": 2,
   "metadata": {},
   "outputs": [
    {
     "name": "stdout",
     "output_type": "stream",
     "text": [
      "normal : 8851 , bacteria : 2530 , virus : 1345 , covid : 3709\n"
     ]
    }
   ],
   "source": [
    "data_path = \"C:\\\\Users\\\\Owner6\\\\workspace\\\\dataset\\\\COVID19\\\\new_data\"\n",
    "\n",
    "normal_dir = os.path.join(data_path, \"normal\")\n",
    "normal_list = os.listdir(normal_dir)\n",
    "\n",
    "bacteria_dir = os.path.join(data_path, \"bacteria\")\n",
    "bacteria_list = os.listdir(bacteria_dir)\n",
    "\n",
    "virus_dir = os.path.join(data_path, \"virus\")\n",
    "virus_list = os.listdir(virus_dir)\n",
    "\n",
    "covid_dir = os.path.join(data_path, \"covid\")\n",
    "covid_list = os.listdir(covid_dir)\n",
    "\n",
    "print('normal :', len(normal_list), ', bacteria :', len(bacteria_list), ', virus :', len(virus_list), ', covid :', len(covid_list))"
   ]
  },
  {
   "cell_type": "code",
   "execution_count": 3,
   "metadata": {},
   "outputs": [],
   "source": [
    "def path_builder(path):\n",
    "    try:\n",
    "        os.mkdir(path)\n",
    "    except Exception as err:\n",
    "        print(err)\n",
    "        pass"
   ]
  },
  {
   "cell_type": "code",
   "execution_count": 11,
   "metadata": {},
   "outputs": [],
   "source": [
    "save_path = \"C:\\\\Users\\\\Owner6\\\\workspace\\\\midterm\\\\after_data\"\n",
    "train_path = \"C:\\\\Users\\\\Owner6\\\\workspace\\\\midterm\\\\after_data\\\\train\"\n",
    "validation_path = \"C:\\\\Users\\\\Owner6\\\\workspace\\\\midterm\\\\after_data\\\\validation\"\n",
    "test_path = \"C:\\\\Users\\\\Owner6\\\\workspace\\\\midterm\\\\after_data\\\\test\"\n",
    "\n",
    "path_builder(train_path)\n",
    "path_builder(validation_path)\n",
    "path_builder(test_path)\n",
    "\n",
    "path_builder(os.path.join(train_path, 'normal'))\n",
    "path_builder(os.path.join(train_path, 'bacteria'))\n",
    "path_builder(os.path.join(train_path, 'virus'))\n",
    "path_builder(os.path.join(train_path, 'covid'))\n",
    "\n",
    "path_builder(os.path.join(validation_path, 'normal'))\n",
    "path_builder(os.path.join(validation_path, 'bacteria'))\n",
    "path_builder(os.path.join(validation_path, 'virus'))\n",
    "path_builder(os.path.join(validation_path, 'covid'))\n",
    "\n",
    "path_builder(os.path.join(test_path, 'normal'))\n",
    "path_builder(os.path.join(test_path, 'bacteria'))\n",
    "path_builder(os.path.join(test_path, 'virus'))\n",
    "path_builder(os.path.join(test_path, 'covid'))"
   ]
  },
  {
   "cell_type": "code",
   "execution_count": 12,
   "metadata": {},
   "outputs": [],
   "source": [
    "np.random.shuffle(normal_list)\n",
    "np.random.shuffle(bacteria_list)\n",
    "np.random.shuffle(virus_list)\n",
    "np.random.shuffle(covid_list)"
   ]
  },
  {
   "cell_type": "code",
   "execution_count": 13,
   "metadata": {},
   "outputs": [],
   "source": [
    "normal_train = normal_list[:6196]\n",
    "normal_val = normal_list[6196 : 6196 + 885]\n",
    "normal_test = normal_list[-1770:]\n",
    "\n",
    "bacteria_train = bacteria_list[:1771]\n",
    "bacteria_val = bacteria_list[1771 : 1771 + 256]\n",
    "bacteria_test = bacteria_list[-506:]\n",
    "\n",
    "virus_train = virus_list[:942]\n",
    "virus_val = virus_list[942 : 942 + 134]\n",
    "virus_test = virus_list[-269:]\n",
    "\n",
    "covid_train = covid_list[:2598]\n",
    "covid_val = covid_list[2598 : 2598 + 370]\n",
    "covid_test = covid_list[-741:]"
   ]
  },
  {
   "cell_type": "code",
   "execution_count": 14,
   "metadata": {},
   "outputs": [
    {
     "name": "stdout",
     "output_type": "stream",
     "text": [
      "train preprocess done\n"
     ]
    }
   ],
   "source": [
    "for idx, i in enumerate(normal_train):\n",
    "    img = cv2.imread(os.path.join(normal_dir, i), cv2.IMREAD_GRAYSCALE) # grayscale로 읽기\n",
    "    img_resize = cv2.resize(img, dsize=(1024, 1024)) # (1024, 1024) 로 resize\n",
    "    img_he = cv2.equalizeHist(img_resize) # Globla Equalize Histogram\n",
    "    img_bgr = cv2.cvtColor(img_he, cv2.COLOR_GRAY2BGR) # VGG16모델에 넣기 위해 GRAY to BGR 3채널로 변환\n",
    "    cv2.imwrite(os.path.join(train_path,f'normal\\\\normal_{idx}.jpg'), img_bgr)\n",
    "for idx, i in enumerate(bacteria_train):\n",
    "    img = cv2.imread(os.path.join(bacteria_dir, i), cv2.IMREAD_GRAYSCALE) # grayscale로 읽기\n",
    "    img_resize = cv2.resize(img, dsize=(1024, 1024)) # (1024, 1024) 로 resize\n",
    "    img_he = cv2.equalizeHist(img_resize) # Globla Equalize Histogram\n",
    "    img_bgr = cv2.cvtColor(img_he, cv2.COLOR_GRAY2BGR) # VGG16모델에 넣기 위해 GRAY to BGR 3채널로 변환\n",
    "    cv2.imwrite(os.path.join(train_path,f'bacteria\\\\bacteria_{idx}.jpg'), img_bgr)\n",
    "for idx, i in enumerate(virus_train):\n",
    "    img = cv2.imread(os.path.join(virus_dir, i), cv2.IMREAD_GRAYSCALE) # grayscale로 읽기\n",
    "    img_resize = cv2.resize(img, dsize=(1024, 1024)) # (1024, 1024) 로 resize\n",
    "    img_he = cv2.equalizeHist(img_resize) # Globla Equalize Histogram\n",
    "    img_bgr = cv2.cvtColor(img_he, cv2.COLOR_GRAY2BGR) # VGG16모델에 넣기 위해 GRAY to BGR 3채널로 변환\n",
    "    cv2.imwrite(os.path.join(train_path,f'virus\\\\virus_{idx}.jpg'), img_bgr)\n",
    "for idx, i in enumerate(covid_train):\n",
    "    img = cv2.imread(os.path.join(covid_dir, i), cv2.IMREAD_GRAYSCALE) # grayscale로 읽기\n",
    "    img_resize = cv2.resize(img, dsize=(1024, 1024)) # (1024, 1024) 로 resize\n",
    "    img_he = cv2.equalizeHist(img_resize) # Globla Equalize Histogram\n",
    "    img_bgr = cv2.cvtColor(img_he, cv2.COLOR_GRAY2BGR) # VGG16모델에 넣기 위해 GRAY to BGR 3채널로 변환\n",
    "    cv2.imwrite(os.path.join(train_path,f'covid\\\\covid_{idx}.jpg'), img_bgr)\n",
    "\n",
    "print(\"train preprocess done\")\n",
    "    "
   ]
  },
  {
   "cell_type": "code",
   "execution_count": 15,
   "metadata": {},
   "outputs": [
    {
     "name": "stdout",
     "output_type": "stream",
     "text": [
      "validation preprocess done\n"
     ]
    }
   ],
   "source": [
    "for idx, i in enumerate(normal_val):\n",
    "    img = cv2.imread(os.path.join(normal_dir, i), cv2.IMREAD_GRAYSCALE) # grayscale로 읽기\n",
    "    img_resize = cv2.resize(img, dsize=(1024, 1024)) # (1024, 1024) 로 resize\n",
    "    img_he = cv2.equalizeHist(img_resize) # Globla Equalize Histogram\n",
    "    img_bgr = cv2.cvtColor(img_he, cv2.COLOR_GRAY2BGR) # VGG16모델에 넣기 위해 GRAY to BGR 3채널로 변환\n",
    "    cv2.imwrite(os.path.join(validation_path,f'normal\\\\normal_{idx}.jpg'), img_bgr)\n",
    "for idx, i in enumerate(bacteria_val):\n",
    "    img = cv2.imread(os.path.join(bacteria_dir, i), cv2.IMREAD_GRAYSCALE) # grayscale로 읽기\n",
    "    img_resize = cv2.resize(img, dsize=(1024, 1024)) # (1024, 1024) 로 resize\n",
    "    img_he = cv2.equalizeHist(img_resize) # Globla Equalize Histogram\n",
    "    img_bgr = cv2.cvtColor(img_he, cv2.COLOR_GRAY2BGR) # VGG16모델에 넣기 위해 GRAY to BGR 3채널로 변환\n",
    "    cv2.imwrite(os.path.join(validation_path,f'bacteria\\\\bacteria_{idx}.jpg'), img_bgr)\n",
    "for idx, i in enumerate(virus_val):\n",
    "    img = cv2.imread(os.path.join(virus_dir, i), cv2.IMREAD_GRAYSCALE) # grayscale로 읽기\n",
    "    img_resize = cv2.resize(img, dsize=(1024, 1024)) # (1024, 1024) 로 resize\n",
    "    img_he = cv2.equalizeHist(img_resize) # Globla Equalize Histogram\n",
    "    img_bgr = cv2.cvtColor(img_he, cv2.COLOR_GRAY2BGR) # VGG16모델에 넣기 위해 GRAY to BGR 3채널로 변환\n",
    "    cv2.imwrite(os.path.join(validation_path,f'virus\\\\virus_{idx}.jpg'), img_bgr)\n",
    "for idx, i in enumerate(covid_val):\n",
    "    img = cv2.imread(os.path.join(covid_dir, i), cv2.IMREAD_GRAYSCALE) # grayscale로 읽기\n",
    "    img_resize = cv2.resize(img, dsize=(1024, 1024)) # (1024, 1024) 로 resize\n",
    "    img_he = cv2.equalizeHist(img_resize) # Globla Equalize Histogram\n",
    "    img_bgr = cv2.cvtColor(img_he, cv2.COLOR_GRAY2BGR) # VGG16모델에 넣기 위해 GRAY to BGR 3채널로 변환\n",
    "    cv2.imwrite(os.path.join(validation_path,f'covid\\\\covid_{idx}.jpg'), img_bgr)\n",
    "\n",
    "print(\"validation preprocess done\")\n",
    "    "
   ]
  },
  {
   "cell_type": "code",
   "execution_count": 16,
   "metadata": {},
   "outputs": [
    {
     "name": "stdout",
     "output_type": "stream",
     "text": [
      "test preprocess done\n"
     ]
    }
   ],
   "source": [
    "for idx, i in enumerate(normal_test):\n",
    "    img = cv2.imread(os.path.join(normal_dir, i), cv2.IMREAD_GRAYSCALE) # grayscale로 읽기\n",
    "    img_resize = cv2.resize(img, dsize=(1024, 1024)) # (1024, 1024) 로 resize\n",
    "    img_he = cv2.equalizeHist(img_resize) # Globla Equalize Histogram\n",
    "    img_bgr = cv2.cvtColor(img_he, cv2.COLOR_GRAY2BGR) # VGG16모델에 넣기 위해 GRAY to BGR 3채널로 변환\n",
    "    cv2.imwrite(os.path.join(test_path,f'normal\\\\normal_{idx}.jpg'), img_bgr)\n",
    "for idx, i in enumerate(bacteria_test):\n",
    "    img = cv2.imread(os.path.join(bacteria_dir, i), cv2.IMREAD_GRAYSCALE) # grayscale로 읽기\n",
    "    img_resize = cv2.resize(img, dsize=(1024, 1024)) # (1024, 1024) 로 resize\n",
    "    img_he = cv2.equalizeHist(img_resize) # Globla Equalize Histogram\n",
    "    img_bgr = cv2.cvtColor(img_he, cv2.COLOR_GRAY2BGR) # VGG16모델에 넣기 위해 GRAY to BGR 3채널로 변환\n",
    "    cv2.imwrite(os.path.join(test_path,f'bacteria\\\\bacteria_{idx}.jpg'), img_bgr)\n",
    "for idx, i in enumerate(virus_test):\n",
    "    img = cv2.imread(os.path.join(virus_dir, i), cv2.IMREAD_GRAYSCALE) # grayscale로 읽기\n",
    "    img_resize = cv2.resize(img, dsize=(1024, 1024)) # (1024, 1024) 로 resize\n",
    "    img_he = cv2.equalizeHist(img_resize) # Globla Equalize Histogram\n",
    "    img_bgr = cv2.cvtColor(img_he, cv2.COLOR_GRAY2BGR) # VGG16모델에 넣기 위해 GRAY to BGR 3채널로 변환\n",
    "    cv2.imwrite(os.path.join(test_path,f'virus\\\\virus_{idx}.jpg'), img_bgr)\n",
    "for idx, i in enumerate(covid_test):\n",
    "    img = cv2.imread(os.path.join(covid_dir, i), cv2.IMREAD_GRAYSCALE) # grayscale로 읽기\n",
    "    img_resize = cv2.resize(img, dsize=(1024, 1024)) # (1024, 1024) 로 resize\n",
    "    img_he = cv2.equalizeHist(img_resize) # Globla Equalize Histogram\n",
    "    img_bgr = cv2.cvtColor(img_he, cv2.COLOR_GRAY2BGR) # VGG16모델에 넣기 위해 GRAY to BGR 3채널로 변환\n",
    "    cv2.imwrite(os.path.join(test_path,f'covid\\\\covid_{idx}.jpg'), img_bgr)\n",
    "\n",
    "print(\"test preprocess done\")\n",
    "    "
   ]
  },
  {
   "cell_type": "code",
   "execution_count": null,
   "metadata": {},
   "outputs": [],
   "source": []
  }
 ],
 "metadata": {
  "interpreter": {
   "hash": "e9ed752a7e505fc75616f810a0f9c48c49c7ebda3966569fad47dcb1585d7300"
  },
  "kernelspec": {
   "display_name": "Python 3.8.12 64-bit ('jh': conda)",
   "name": "python3"
  },
  "language_info": {
   "codemirror_mode": {
    "name": "ipython",
    "version": 3
   },
   "file_extension": ".py",
   "mimetype": "text/x-python",
   "name": "python",
   "nbconvert_exporter": "python",
   "pygments_lexer": "ipython3",
   "version": "3.8.12"
  },
  "orig_nbformat": 4
 },
 "nbformat": 4,
 "nbformat_minor": 2
}
