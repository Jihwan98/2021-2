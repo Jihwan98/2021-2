{
 "cells": [
  {
   "cell_type": "markdown",
   "metadata": {},
   "source": [
    "# input : (256,256), VGG16 + fine tuning (Block 5 ~) + Dense 3개 drop out O"
   ]
  },
  {
   "cell_type": "code",
   "execution_count": 1,
   "metadata": {},
   "outputs": [
    {
     "name": "stdout",
     "output_type": "stream",
     "text": [
      "1 Physical GPUs, 1 Logical GPUs\n"
     ]
    }
   ],
   "source": [
    "import os\n",
    "import numpy as np\n",
    "import tensorflow as tf\n",
    "\n",
    "# gpu 문제로 코드가 안돌아가는 상황이 있어서 set_memory_growth 셋팅을 설정해준 코드\n",
    "gpus = tf.config.experimental.list_physical_devices('GPU')\n",
    "if gpus:\n",
    "    try:\n",
    "        for gpu in gpus:\n",
    "            tf.config.experimental.set_memory_growth(gpu, True)\n",
    "        logical_gpus = tf.config.experimental.list_logical_devices('GPU')\n",
    "        print(len(gpus), \"Physical GPUs,\", len(logical_gpus), \"Logical GPUs\")\n",
    "    except RuntimeError as e:\n",
    "        print(e)"
   ]
  },
  {
   "cell_type": "code",
   "execution_count": 2,
   "metadata": {},
   "outputs": [
    {
     "name": "stdout",
     "output_type": "stream",
     "text": [
      "train : 11507, validation : 1645, test : 3286\n"
     ]
    }
   ],
   "source": [
    "data_path = \"C:\\\\Users\\\\Owner6\\\\workspace\\\\midterm\\\\after_data\"\n",
    "\n",
    "train_path = os.path.join(data_path, 'train')\n",
    "validation_path = os.path.join(data_path, 'validation')\n",
    "test_path = os.path.join(data_path, 'test')\n",
    "\n",
    "train_len = len(os.listdir( os.path.join( train_path, 'normal' ) )) +\\\n",
    "    len(os.listdir( os.path.join( train_path, 'bacteria' ) )) +\\\n",
    "    len(os.listdir( os.path.join( train_path, 'virus' ) )) +\\\n",
    "    len(os.listdir( os.path.join( train_path, 'covid' ) ))\n",
    "    \n",
    "validation_len = len(os.listdir( os.path.join( validation_path, 'normal' ) )) +\\\n",
    "    len(os.listdir( os.path.join( validation_path, 'bacteria' ) )) +\\\n",
    "    len(os.listdir( os.path.join( validation_path, 'virus' ) )) +\\\n",
    "    len(os.listdir( os.path.join( validation_path, 'covid' ) ))\n",
    "    \n",
    "test_len = len(os.listdir( os.path.join( test_path, 'normal' ) )) +\\\n",
    "    len(os.listdir( os.path.join( test_path, 'bacteria' ) )) +\\\n",
    "    len(os.listdir( os.path.join( test_path, 'virus' ) )) +\\\n",
    "    len(os.listdir( os.path.join( test_path, 'covid' ) ))\n",
    "\n",
    "print(f'train : {train_len}, validation : {validation_len}, test : {test_len}')"
   ]
  },
  {
   "cell_type": "code",
   "execution_count": 3,
   "metadata": {},
   "outputs": [
    {
     "name": "stdout",
     "output_type": "stream",
     "text": [
      "Found 11507 images belonging to 4 classes.\n",
      "Found 1645 images belonging to 4 classes.\n",
      "Found 3286 images belonging to 4 classes.\n"
     ]
    }
   ],
   "source": [
    "# ImageDataGenerator를 통해 이미지를 원하는 shape으로 불러오고 augmentation 해줄 수 있음\n",
    "from tensorflow.keras.preprocessing.image import ImageDataGenerator\n",
    "\n",
    "# 데이터 0~1 정규화\n",
    "data_gen = ImageDataGenerator(rescale=1./255)\n",
    "\n",
    "# flow_from_directory를 통해서 폴더에 분류 있는 데이터들을 레이블과 함께 얻어올 수 있음\n",
    "train_data = data_gen.flow_from_directory(\n",
    "    train_path, class_mode='categorical', color_mode='rgb',\n",
    "    target_size=(256,256), batch_size=37 # 11507 = 37 * 311\n",
    ")\n",
    "\n",
    "validation_data = data_gen.flow_from_directory(\n",
    "    validation_path, class_mode='categorical', color_mode='rgb',\n",
    "    target_size=(256,256), batch_size=35 # 1645 = 35 * 47\n",
    ")\n",
    "\n",
    "test_data = data_gen.flow_from_directory(\n",
    "    test_path, class_mode='categorical', color_mode='rgb',\n",
    "    target_size=(256,256), batch_size=31 # 3286 = 31 * 106\n",
    ")\n",
    "\n",
    "# train_x, train_y = train_data.next()\n",
    "# validation_x, validation_y = validation_data.next()\n",
    "# test_x, test_y = test_data.next()\n",
    "\n",
    "# train_x.shape, train_y.shape"
   ]
  },
  {
   "cell_type": "code",
   "execution_count": 4,
   "metadata": {},
   "outputs": [],
   "source": [
    "# VGG16을 불러와 사용\n",
    "from tensorflow.keras.applications import VGG16\n",
    "\n",
    "conv_base = VGG16(weights='imagenet',\n",
    "                  include_top=False,\n",
    "                  input_shape=(256, 256, 3))"
   ]
  },
  {
   "cell_type": "code",
   "execution_count": 5,
   "metadata": {},
   "outputs": [
    {
     "name": "stdout",
     "output_type": "stream",
     "text": [
      "Model: \"vgg16\"\n",
      "_________________________________________________________________\n",
      "Layer (type)                 Output Shape              Param #   \n",
      "=================================================================\n",
      "input_1 (InputLayer)         [(None, 256, 256, 3)]     0         \n",
      "_________________________________________________________________\n",
      "block1_conv1 (Conv2D)        (None, 256, 256, 64)      1792      \n",
      "_________________________________________________________________\n",
      "block1_conv2 (Conv2D)        (None, 256, 256, 64)      36928     \n",
      "_________________________________________________________________\n",
      "block1_pool (MaxPooling2D)   (None, 128, 128, 64)      0         \n",
      "_________________________________________________________________\n",
      "block2_conv1 (Conv2D)        (None, 128, 128, 128)     73856     \n",
      "_________________________________________________________________\n",
      "block2_conv2 (Conv2D)        (None, 128, 128, 128)     147584    \n",
      "_________________________________________________________________\n",
      "block2_pool (MaxPooling2D)   (None, 64, 64, 128)       0         \n",
      "_________________________________________________________________\n",
      "block3_conv1 (Conv2D)        (None, 64, 64, 256)       295168    \n",
      "_________________________________________________________________\n",
      "block3_conv2 (Conv2D)        (None, 64, 64, 256)       590080    \n",
      "_________________________________________________________________\n",
      "block3_conv3 (Conv2D)        (None, 64, 64, 256)       590080    \n",
      "_________________________________________________________________\n",
      "block3_pool (MaxPooling2D)   (None, 32, 32, 256)       0         \n",
      "_________________________________________________________________\n",
      "block4_conv1 (Conv2D)        (None, 32, 32, 512)       1180160   \n",
      "_________________________________________________________________\n",
      "block4_conv2 (Conv2D)        (None, 32, 32, 512)       2359808   \n",
      "_________________________________________________________________\n",
      "block4_conv3 (Conv2D)        (None, 32, 32, 512)       2359808   \n",
      "_________________________________________________________________\n",
      "block4_pool (MaxPooling2D)   (None, 16, 16, 512)       0         \n",
      "_________________________________________________________________\n",
      "block5_conv1 (Conv2D)        (None, 16, 16, 512)       2359808   \n",
      "_________________________________________________________________\n",
      "block5_conv2 (Conv2D)        (None, 16, 16, 512)       2359808   \n",
      "_________________________________________________________________\n",
      "block5_conv3 (Conv2D)        (None, 16, 16, 512)       2359808   \n",
      "_________________________________________________________________\n",
      "block5_pool (MaxPooling2D)   (None, 8, 8, 512)         0         \n",
      "=================================================================\n",
      "Total params: 14,714,688\n",
      "Trainable params: 14,714,688\n",
      "Non-trainable params: 0\n",
      "_________________________________________________________________\n"
     ]
    }
   ],
   "source": [
    "# conv_base.trainable = False\n",
    "conv_base.summary()"
   ]
  },
  {
   "cell_type": "code",
   "execution_count": 6,
   "metadata": {},
   "outputs": [],
   "source": [
    "from tensorflow.keras import models, layers\n",
    "\n",
    "# VGG16 모델 뒤에 Dense layer 세 개 쌓고 overfitting을 막기 위해 사이 사이에 Dropout layer를 한 개씩 추가\n",
    "model = models.Sequential()\n",
    "model.add(conv_base)\n",
    "model.add(layers.Flatten())\n",
    "model.add(layers.Dense(1024, activation='relu'))\n",
    "model.add(layers.Dropout(0.3))\n",
    "model.add(layers.Dense(512, activation='relu'))\n",
    "model.add(layers.Dropout(0.3))\n",
    "model.add(layers.Dense(4, activation='softmax'))"
   ]
  },
  {
   "cell_type": "code",
   "execution_count": 7,
   "metadata": {},
   "outputs": [
    {
     "name": "stdout",
     "output_type": "stream",
     "text": [
      "Model: \"sequential\"\n",
      "_________________________________________________________________\n",
      "Layer (type)                 Output Shape              Param #   \n",
      "=================================================================\n",
      "vgg16 (Functional)           (None, 8, 8, 512)         14714688  \n",
      "_________________________________________________________________\n",
      "flatten (Flatten)            (None, 32768)             0         \n",
      "_________________________________________________________________\n",
      "dense (Dense)                (None, 1024)              33555456  \n",
      "_________________________________________________________________\n",
      "dropout (Dropout)            (None, 1024)              0         \n",
      "_________________________________________________________________\n",
      "dense_1 (Dense)              (None, 512)               524800    \n",
      "_________________________________________________________________\n",
      "dropout_1 (Dropout)          (None, 512)               0         \n",
      "_________________________________________________________________\n",
      "dense_2 (Dense)              (None, 4)                 2052      \n",
      "=================================================================\n",
      "Total params: 48,796,996\n",
      "Trainable params: 41,161,732\n",
      "Non-trainable params: 7,635,264\n",
      "_________________________________________________________________\n"
     ]
    }
   ],
   "source": [
    "# Fine Tuning 부분 (block5_conv1 layer 부터 trainable하게 바꾸어줌)\n",
    "conv_base.trainable = True\n",
    "\n",
    "set_trainable = False\n",
    "for layer in conv_base.layers:\n",
    "    if layer.name == 'block5_conv1':\n",
    "        set_trainable = True\n",
    "    if set_trainable:\n",
    "        layer.trainable = True\n",
    "    else:\n",
    "        layer.trainable = False\n",
    "model.summary()"
   ]
  },
  {
   "cell_type": "code",
   "execution_count": 8,
   "metadata": {},
   "outputs": [],
   "source": [
    "# epoch 마다 모델 성능이 나아졌을 때 마다 모델을 저장해주는 콜백 함수\n",
    "from tensorflow.keras.callbacks import ModelCheckpoint\n",
    "\n",
    "checkpoint_filepath = 'model/3/{epoch:02d}-{val_accuracy:.5f}.h5'\n",
    "model_checkpoint_callback = ModelCheckpoint(\n",
    "    filepath=checkpoint_filepath,\n",
    "    monitor='val_accuracy',\n",
    "    verbose=1,\n",
    "    save_best_only=True,\n",
    "    mode='auto'\n",
    ")"
   ]
  },
  {
   "cell_type": "code",
   "execution_count": 9,
   "metadata": {},
   "outputs": [],
   "source": [
    "model.compile(optimizer=\"rmsprop\", \\\n",
    "    loss='categorical_crossentropy', \n",
    "    metrics=['accuracy'])\n"
   ]
  },
  {
   "cell_type": "code",
   "execution_count": 10,
   "metadata": {},
   "outputs": [
    {
     "name": "stdout",
     "output_type": "stream",
     "text": [
      "Epoch 1/20\n",
      "311/311 [==============================] - 187s 578ms/step - loss: 2.6357 - accuracy: 0.7608 - val_loss: 0.3598 - val_accuracy: 0.8559\n",
      "\n",
      "Epoch 00001: val_accuracy improved from -inf to 0.85593, saving model to model/3\\01-0.85593.h5\n",
      "Epoch 2/20\n",
      "311/311 [==============================] - 177s 569ms/step - loss: 0.3258 - accuracy: 0.8742 - val_loss: 0.3257 - val_accuracy: 0.8663\n",
      "\n",
      "Epoch 00002: val_accuracy improved from 0.85593 to 0.86626, saving model to model/3\\02-0.86626.h5\n",
      "Epoch 3/20\n",
      "311/311 [==============================] - 177s 569ms/step - loss: 0.2885 - accuracy: 0.8969 - val_loss: 0.2294 - val_accuracy: 0.9064\n",
      "\n",
      "Epoch 00003: val_accuracy improved from 0.86626 to 0.90638, saving model to model/3\\03-0.90638.h5\n",
      "Epoch 4/20\n",
      "311/311 [==============================] - 177s 569ms/step - loss: 0.2790 - accuracy: 0.9104 - val_loss: 0.2218 - val_accuracy: 0.9161\n",
      "\n",
      "Epoch 00004: val_accuracy improved from 0.90638 to 0.91611, saving model to model/3\\04-0.91611.h5\n",
      "Epoch 5/20\n",
      "311/311 [==============================] - 178s 574ms/step - loss: 0.2316 - accuracy: 0.9189 - val_loss: 0.3315 - val_accuracy: 0.9112\n",
      "\n",
      "Epoch 00005: val_accuracy did not improve from 0.91611\n",
      "Epoch 6/20\n",
      "311/311 [==============================] - 179s 574ms/step - loss: 0.2069 - accuracy: 0.9245 - val_loss: 0.2489 - val_accuracy: 0.9064\n",
      "\n",
      "Epoch 00006: val_accuracy did not improve from 0.91611\n",
      "Epoch 7/20\n",
      "311/311 [==============================] - 179s 574ms/step - loss: 0.1952 - accuracy: 0.9300 - val_loss: 0.2432 - val_accuracy: 0.9179\n",
      "\n",
      "Epoch 00007: val_accuracy improved from 0.91611 to 0.91793, saving model to model/3\\07-0.91793.h5\n",
      "Epoch 8/20\n",
      "311/311 [==============================] - 179s 574ms/step - loss: 0.1888 - accuracy: 0.9345 - val_loss: 0.4669 - val_accuracy: 0.9149\n",
      "\n",
      "Epoch 00008: val_accuracy did not improve from 0.91793\n",
      "Epoch 9/20\n",
      "311/311 [==============================] - 178s 574ms/step - loss: 0.1658 - accuracy: 0.9424 - val_loss: 0.5298 - val_accuracy: 0.8833\n",
      "\n",
      "Epoch 00009: val_accuracy did not improve from 0.91793\n",
      "Epoch 10/20\n",
      "311/311 [==============================] - 179s 574ms/step - loss: 0.2180 - accuracy: 0.9443 - val_loss: 0.3800 - val_accuracy: 0.9106\n",
      "\n",
      "Epoch 00010: val_accuracy did not improve from 0.91793\n",
      "Epoch 11/20\n",
      "311/311 [==============================] - 177s 570ms/step - loss: 0.1499 - accuracy: 0.9522 - val_loss: 0.3597 - val_accuracy: 0.8942\n",
      "\n",
      "Epoch 00011: val_accuracy did not improve from 0.91793\n",
      "Epoch 12/20\n",
      "311/311 [==============================] - 177s 570ms/step - loss: 0.1434 - accuracy: 0.9570 - val_loss: 0.4306 - val_accuracy: 0.9076\n",
      "\n",
      "Epoch 00012: val_accuracy did not improve from 0.91793\n",
      "Epoch 13/20\n",
      "311/311 [==============================] - 177s 570ms/step - loss: 0.1431 - accuracy: 0.9620 - val_loss: 0.7342 - val_accuracy: 0.9009\n",
      "\n",
      "Epoch 00013: val_accuracy did not improve from 0.91793\n",
      "Epoch 14/20\n",
      "311/311 [==============================] - 177s 570ms/step - loss: 0.1280 - accuracy: 0.9644 - val_loss: 0.4910 - val_accuracy: 0.9021\n",
      "\n",
      "Epoch 00014: val_accuracy did not improve from 0.91793\n",
      "Epoch 15/20\n",
      "311/311 [==============================] - 177s 570ms/step - loss: 0.1172 - accuracy: 0.9673 - val_loss: 0.5866 - val_accuracy: 0.8997\n",
      "\n",
      "Epoch 00015: val_accuracy did not improve from 0.91793\n",
      "Epoch 16/20\n",
      "311/311 [==============================] - 177s 570ms/step - loss: 0.1276 - accuracy: 0.9724 - val_loss: 1.0439 - val_accuracy: 0.8948\n",
      "\n",
      "Epoch 00016: val_accuracy did not improve from 0.91793\n",
      "Epoch 17/20\n",
      "311/311 [==============================] - 178s 572ms/step - loss: 0.1065 - accuracy: 0.9764 - val_loss: 0.9360 - val_accuracy: 0.9198\n",
      "\n",
      "Epoch 00017: val_accuracy improved from 0.91793 to 0.91976, saving model to model/3\\17-0.91976.h5\n",
      "Epoch 18/20\n",
      "311/311 [==============================] - 178s 571ms/step - loss: 0.1314 - accuracy: 0.9755 - val_loss: 0.7234 - val_accuracy: 0.9040\n",
      "\n",
      "Epoch 00018: val_accuracy did not improve from 0.91976\n",
      "Epoch 19/20\n",
      "311/311 [==============================] - 177s 569ms/step - loss: 0.2201 - accuracy: 0.9721 - val_loss: 1.3875 - val_accuracy: 0.9112\n",
      "\n",
      "Epoch 00019: val_accuracy did not improve from 0.91976\n",
      "Epoch 20/20\n",
      "311/311 [==============================] - 177s 570ms/step - loss: 0.1101 - accuracy: 0.9813 - val_loss: 1.8525 - val_accuracy: 0.8535\n",
      "\n",
      "Epoch 00020: val_accuracy did not improve from 0.91976\n"
     ]
    }
   ],
   "source": [
    "history = model.fit(train_data, steps_per_epoch=311, epochs=20,\\\n",
    "    validation_data=validation_data, validation_steps=47, callbacks=[model_checkpoint_callback])"
   ]
  },
  {
   "cell_type": "code",
   "execution_count": 11,
   "metadata": {},
   "outputs": [
    {
     "data": {
      "text/plain": [
       "dict_keys(['loss', 'accuracy', 'val_loss', 'val_accuracy'])"
      ]
     },
     "execution_count": 11,
     "metadata": {},
     "output_type": "execute_result"
    }
   ],
   "source": [
    "history.history.keys()"
   ]
  },
  {
   "cell_type": "code",
   "execution_count": 12,
   "metadata": {},
   "outputs": [
    {
     "data": {
      "image/png": "[encoded data removed]",
      "text/plain": [
       "<Figure size 432x288 with 1 Axes>"
      ]
     },
     "metadata": {
      "needs_background": "light"
     },
     "output_type": "display_data"
    },
    {
     "data": {
      "image/png": "[encoded data removed]",
      "text/plain": [
       "<Figure size 432x288 with 1 Axes>"
      ]
     },
     "metadata": {
      "needs_background": "light"
     },
     "output_type": "display_data"
    }
   ],
   "source": [
    "# 학습 과정의 accuracy와 loss 값을 plot\n",
    "import matplotlib.pyplot as plt\n",
    "\n",
    "acc = history.history['accuracy']\n",
    "val_acc = history.history['val_accuracy']\n",
    "loss = history.history['loss']\n",
    "val_loss = history.history['val_loss']\n",
    "\n",
    "epochs = range(len(acc))\n",
    "\n",
    "plt.plot(epochs, acc, 'bo', label='Training acc')\n",
    "plt.plot(epochs, val_acc, 'b', label='Validation acc')\n",
    "plt.title('Training and validation accuracy')\n",
    "plt.legend()\n",
    "\n",
    "plt.figure()\n",
    "\n",
    "plt.plot(epochs, loss, 'bo', label='Training loss')\n",
    "plt.plot(epochs, val_loss, 'b', label='Validation loss')\n",
    "plt.title('Training and validation loss')\n",
    "plt.legend()\n",
    "\n",
    "plt.show()"
   ]
  },
  {
   "cell_type": "code",
   "execution_count": 13,
   "metadata": {},
   "outputs": [
    {
     "name": "stdout",
     "output_type": "stream",
     "text": [
      "106/106 [==============================] - 46s 414ms/step - loss: 1.9548 - accuracy: 0.8576\n"
     ]
    },
    {
     "data": {
      "text/plain": [
       "[1.9548126459121704, 0.8575776219367981]"
      ]
     },
     "execution_count": 13,
     "metadata": {},
     "output_type": "execute_result"
    }
   ],
   "source": [
    "model.evaluate(test_data, steps=3286 // 31)"
   ]
  },
  {
   "cell_type": "code",
   "execution_count": null,
   "metadata": {},
   "outputs": [],
   "source": []
  }
 ],
 "metadata": {
  "interpreter": {
   "hash": "e9ed752a7e505fc75616f810a0f9c48c49c7ebda3966569fad47dcb1585d7300"
  },
  "kernelspec": {
   "display_name": "Python 3.8.12 64-bit ('jh': conda)",
   "name": "python3"
  },
  "language_info": {
   "codemirror_mode": {
    "name": "ipython",
    "version": 3
   },
   "file_extension": ".py",
   "mimetype": "text/x-python",
   "name": "python",
   "nbconvert_exporter": "python",
   "pygments_lexer": "ipython3",
   "version": "3.8.12"
  },
  "orig_nbformat": 4
 },
 "nbformat": 4,
 "nbformat_minor": 2
}
