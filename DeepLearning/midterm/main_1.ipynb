{
 "cells": [
  {
   "cell_type": "markdown",
   "metadata": {},
   "source": [
    "# input : (200,200), VGG16 + fine tuning (Block 5 ~) + Dense 2개 drop out X"
   ]
  },
  {
   "cell_type": "code",
   "execution_count": 1,
   "metadata": {},
   "outputs": [
    {
     "name": "stdout",
     "output_type": "stream",
     "text": [
      "1 Physical GPUs, 1 Logical GPUs\n"
     ]
    }
   ],
   "source": [
    "import os\n",
    "import numpy as np\n",
    "import tensorflow as tf\n",
    "\n",
    "# gpu 문제로 코드가 안돌아가는 상황이 있어서 set_memory_growth 셋팅을 설정해준 코드\n",
    "gpus = tf.config.experimental.list_physical_devices('GPU')\n",
    "if gpus:\n",
    "    try:\n",
    "        for gpu in gpus:\n",
    "            tf.config.experimental.set_memory_growth(gpu, True)\n",
    "        logical_gpus = tf.config.experimental.list_logical_devices('GPU')\n",
    "        print(len(gpus), \"Physical GPUs,\", len(logical_gpus), \"Logical GPUs\")\n",
    "    except RuntimeError as e:\n",
    "        print(e)"
   ]
  },
  {
   "cell_type": "code",
   "execution_count": 2,
   "metadata": {},
   "outputs": [
    {
     "name": "stdout",
     "output_type": "stream",
     "text": [
      "train : 11507, validation : 1645, test : 3286\n"
     ]
    }
   ],
   "source": [
    "data_path = \"C:\\\\Users\\\\Owner6\\\\workspace\\\\midterm\\\\after_data\"\n",
    "\n",
    "train_path = os.path.join(data_path, 'train')\n",
    "validation_path = os.path.join(data_path, 'validation')\n",
    "test_path = os.path.join(data_path, 'test')\n",
    "\n",
    "train_len = len(os.listdir( os.path.join( train_path, 'normal' ) )) +\\\n",
    "    len(os.listdir( os.path.join( train_path, 'bacteria' ) )) +\\\n",
    "    len(os.listdir( os.path.join( train_path, 'virus' ) )) +\\\n",
    "    len(os.listdir( os.path.join( train_path, 'covid' ) ))\n",
    "    \n",
    "validation_len = len(os.listdir( os.path.join( validation_path, 'normal' ) )) +\\\n",
    "    len(os.listdir( os.path.join( validation_path, 'bacteria' ) )) +\\\n",
    "    len(os.listdir( os.path.join( validation_path, 'virus' ) )) +\\\n",
    "    len(os.listdir( os.path.join( validation_path, 'covid' ) ))\n",
    "    \n",
    "test_len = len(os.listdir( os.path.join( test_path, 'normal' ) )) +\\\n",
    "    len(os.listdir( os.path.join( test_path, 'bacteria' ) )) +\\\n",
    "    len(os.listdir( os.path.join( test_path, 'virus' ) )) +\\\n",
    "    len(os.listdir( os.path.join( test_path, 'covid' ) ))\n",
    "\n",
    "print(f'train : {train_len}, validation : {validation_len}, test : {test_len}')"
   ]
  },
  {
   "cell_type": "code",
   "execution_count": 3,
   "metadata": {},
   "outputs": [
    {
     "name": "stdout",
     "output_type": "stream",
     "text": [
      "Found 11507 images belonging to 4 classes.\n",
      "Found 1645 images belonging to 4 classes.\n",
      "Found 3286 images belonging to 4 classes.\n"
     ]
    }
   ],
   "source": [
    "# ImageDataGenerator를 통해 이미지를 원하는 shape으로 불러오고 augmentation 해줄 수 있음\n",
    "from tensorflow.keras.preprocessing.image import ImageDataGenerator\n",
    "\n",
    "# 데이터 0~1 정규화\n",
    "data_gen = ImageDataGenerator(rescale=1./255)\n",
    "\n",
    "# flow_from_directory를 통해서 폴더에 분류 있는 데이터들을 레이블과 함께 얻어올 수 있음\n",
    "train_data = data_gen.flow_from_directory(\n",
    "    train_path, class_mode='categorical', color_mode='rgb',\n",
    "    target_size=(200,200), batch_size=37 # 11507 = 37 * 311\n",
    ")\n",
    "\n",
    "validation_data = data_gen.flow_from_directory(\n",
    "    validation_path, class_mode='categorical', color_mode='rgb',\n",
    "    target_size=(200,200), batch_size=35 # 1645 = 35 * 47\n",
    ")\n",
    "\n",
    "test_data = data_gen.flow_from_directory(\n",
    "    test_path, class_mode='categorical', color_mode='rgb',\n",
    "    target_size=(200,200), batch_size=31 # 3286 = 31 * 106\n",
    ")\n",
    "\n",
    "# train_x, train_y = train_data.next()\n",
    "# validation_x, validation_y = validation_data.next()\n",
    "# test_x, test_y = test_data.next()\n",
    "\n",
    "# train_x.shape, train_y.shape"
   ]
  },
  {
   "cell_type": "code",
   "execution_count": 4,
   "metadata": {},
   "outputs": [],
   "source": [
    "# VGG16을 불러와 사용\n",
    "from tensorflow.keras.applications import VGG16\n",
    "\n",
    "conv_base = VGG16(weights='imagenet',\n",
    "                  include_top=False,\n",
    "                  input_shape=(200, 200, 3))"
   ]
  },
  {
   "cell_type": "code",
   "execution_count": 5,
   "metadata": {},
   "outputs": [
    {
     "name": "stdout",
     "output_type": "stream",
     "text": [
      "Model: \"vgg16\"\n",
      "_________________________________________________________________\n",
      "Layer (type)                 Output Shape              Param #   \n",
      "=================================================================\n",
      "input_1 (InputLayer)         [(None, 200, 200, 3)]     0         \n",
      "_________________________________________________________________\n",
      "block1_conv1 (Conv2D)        (None, 200, 200, 64)      1792      \n",
      "_________________________________________________________________\n",
      "block1_conv2 (Conv2D)        (None, 200, 200, 64)      36928     \n",
      "_________________________________________________________________\n",
      "block1_pool (MaxPooling2D)   (None, 100, 100, 64)      0         \n",
      "_________________________________________________________________\n",
      "block2_conv1 (Conv2D)        (None, 100, 100, 128)     73856     \n",
      "_________________________________________________________________\n",
      "block2_conv2 (Conv2D)        (None, 100, 100, 128)     147584    \n",
      "_________________________________________________________________\n",
      "block2_pool (MaxPooling2D)   (None, 50, 50, 128)       0         \n",
      "_________________________________________________________________\n",
      "block3_conv1 (Conv2D)        (None, 50, 50, 256)       295168    \n",
      "_________________________________________________________________\n",
      "block3_conv2 (Conv2D)        (None, 50, 50, 256)       590080    \n",
      "_________________________________________________________________\n",
      "block3_conv3 (Conv2D)        (None, 50, 50, 256)       590080    \n",
      "_________________________________________________________________\n",
      "block3_pool (MaxPooling2D)   (None, 25, 25, 256)       0         \n",
      "_________________________________________________________________\n",
      "block4_conv1 (Conv2D)        (None, 25, 25, 512)       1180160   \n",
      "_________________________________________________________________\n",
      "block4_conv2 (Conv2D)        (None, 25, 25, 512)       2359808   \n",
      "_________________________________________________________________\n",
      "block4_conv3 (Conv2D)        (None, 25, 25, 512)       2359808   \n",
      "_________________________________________________________________\n",
      "block4_pool (MaxPooling2D)   (None, 12, 12, 512)       0         \n",
      "_________________________________________________________________\n",
      "block5_conv1 (Conv2D)        (None, 12, 12, 512)       2359808   \n",
      "_________________________________________________________________\n",
      "block5_conv2 (Conv2D)        (None, 12, 12, 512)       2359808   \n",
      "_________________________________________________________________\n",
      "block5_conv3 (Conv2D)        (None, 12, 12, 512)       2359808   \n",
      "_________________________________________________________________\n",
      "block5_pool (MaxPooling2D)   (None, 6, 6, 512)         0         \n",
      "=================================================================\n",
      "Total params: 14,714,688\n",
      "Trainable params: 14,714,688\n",
      "Non-trainable params: 0\n",
      "_________________________________________________________________\n"
     ]
    }
   ],
   "source": [
    "conv_base.summary()"
   ]
  },
  {
   "cell_type": "code",
   "execution_count": 6,
   "metadata": {},
   "outputs": [],
   "source": [
    "from tensorflow.keras import models, layers\n",
    "\n",
    "# VGG16 모델 뒤에 Dense layer 두 개 쌓은것\n",
    "model = models.Sequential()\n",
    "model.add(conv_base)\n",
    "model.add(layers.Flatten())\n",
    "model.add(layers.Dense(512, activation='relu'))\n",
    "model.add(layers.Dense(4, activation='softmax'))"
   ]
  },
  {
   "cell_type": "code",
   "execution_count": 7,
   "metadata": {},
   "outputs": [
    {
     "name": "stdout",
     "output_type": "stream",
     "text": [
      "Model: \"sequential\"\n",
      "_________________________________________________________________\n",
      "Layer (type)                 Output Shape              Param #   \n",
      "=================================================================\n",
      "vgg16 (Functional)           (None, 6, 6, 512)         14714688  \n",
      "_________________________________________________________________\n",
      "flatten (Flatten)            (None, 18432)             0         \n",
      "_________________________________________________________________\n",
      "dense (Dense)                (None, 512)               9437696   \n",
      "_________________________________________________________________\n",
      "dense_1 (Dense)              (None, 4)                 2052      \n",
      "=================================================================\n",
      "Total params: 24,154,436\n",
      "Trainable params: 16,519,172\n",
      "Non-trainable params: 7,635,264\n",
      "_________________________________________________________________\n"
     ]
    }
   ],
   "source": [
    "# Fine Tuning 부분 (block5_conv1 layer 부터 trainable하게 바꾸어줌)\n",
    "conv_base.trainable = True\n",
    "\n",
    "set_trainable = False\n",
    "for layer in conv_base.layers:\n",
    "    if layer.name == 'block5_conv1':\n",
    "        set_trainable = True\n",
    "    if set_trainable:\n",
    "        layer.trainable = True\n",
    "    else:\n",
    "        layer.trainable = False\n",
    "model.summary()"
   ]
  },
  {
   "cell_type": "code",
   "execution_count": 8,
   "metadata": {},
   "outputs": [],
   "source": [
    "# epoch 마다 모델 성능이 나아졌을 때 마다 모델을 저장해주는 콜백 함수\n",
    "from tensorflow.keras.callbacks import ModelCheckpoint\n",
    "\n",
    "checkpoint_filepath = 'model/1/{epoch:02d}-{val_accuracy:.5f}.h5'\n",
    "model_checkpoint_callback = ModelCheckpoint(\n",
    "    filepath=checkpoint_filepath,\n",
    "    monitor='val_accuracy',\n",
    "    verbose=1,\n",
    "    save_best_only=True,\n",
    "    mode='auto'\n",
    ")"
   ]
  },
  {
   "cell_type": "code",
   "execution_count": 9,
   "metadata": {},
   "outputs": [],
   "source": [
    "model.compile(optimizer=\"rmsprop\", \\\n",
    "    loss='categorical_crossentropy', \n",
    "    metrics=['accuracy'])"
   ]
  },
  {
   "cell_type": "code",
   "execution_count": 11,
   "metadata": {},
   "outputs": [
    {
     "name": "stdout",
     "output_type": "stream",
     "text": [
      "Epoch 1/20\n",
      "311/311 [==============================] - 189s 586ms/step - loss: 2.9126 - accuracy: 0.7080 - val_loss: 0.2602 - val_accuracy: 0.8717\n",
      "\n",
      "Epoch 00001: val_accuracy improved from -inf to 0.87173, saving model to model/1\\01-0.87173.h5\n",
      "Epoch 2/20\n",
      "311/311 [==============================] - 186s 597ms/step - loss: 0.3322 - accuracy: 0.8824 - val_loss: 0.2196 - val_accuracy: 0.9112\n",
      "\n",
      "Epoch 00002: val_accuracy improved from 0.87173 to 0.91125, saving model to model/1\\02-0.91125.h5\n",
      "Epoch 3/20\n",
      "311/311 [==============================] - 184s 593ms/step - loss: 0.2511 - accuracy: 0.9082 - val_loss: 0.2695 - val_accuracy: 0.9076\n",
      "\n",
      "Epoch 00003: val_accuracy did not improve from 0.91125\n",
      "Epoch 4/20\n",
      "311/311 [==============================] - 184s 591ms/step - loss: 0.2103 - accuracy: 0.9251 - val_loss: 0.4240 - val_accuracy: 0.8985\n",
      "\n",
      "Epoch 00004: val_accuracy did not improve from 0.91125\n",
      "Epoch 5/20\n",
      "311/311 [==============================] - 184s 590ms/step - loss: 0.1982 - accuracy: 0.9294 - val_loss: 0.2650 - val_accuracy: 0.9131\n",
      "\n",
      "Epoch 00005: val_accuracy improved from 0.91125 to 0.91307, saving model to model/1\\05-0.91307.h5\n",
      "Epoch 6/20\n",
      "311/311 [==============================] - 185s 596ms/step - loss: 0.1824 - accuracy: 0.9374 - val_loss: 0.2234 - val_accuracy: 0.9216\n",
      "\n",
      "Epoch 00006: val_accuracy improved from 0.91307 to 0.92158, saving model to model/1\\06-0.92158.h5\n",
      "Epoch 7/20\n",
      "311/311 [==============================] - 185s 596ms/step - loss: 0.1686 - accuracy: 0.9428 - val_loss: 0.2107 - val_accuracy: 0.9015\n",
      "\n",
      "Epoch 00007: val_accuracy did not improve from 0.92158\n",
      "Epoch 8/20\n",
      "311/311 [==============================] - 186s 598ms/step - loss: 0.1530 - accuracy: 0.9479 - val_loss: 0.2407 - val_accuracy: 0.9258\n",
      "\n",
      "Epoch 00008: val_accuracy improved from 0.92158 to 0.92584, saving model to model/1\\08-0.92584.h5\n",
      "Epoch 9/20\n",
      "311/311 [==============================] - 183s 587ms/step - loss: 0.1330 - accuracy: 0.9550 - val_loss: 0.4260 - val_accuracy: 0.9161\n",
      "\n",
      "Epoch 00009: val_accuracy did not improve from 0.92584\n",
      "Epoch 10/20\n",
      "311/311 [==============================] - 181s 583ms/step - loss: 0.1192 - accuracy: 0.9618 - val_loss: 0.2386 - val_accuracy: 0.9179\n",
      "\n",
      "Epoch 00010: val_accuracy did not improve from 0.92584\n",
      "Epoch 11/20\n",
      "311/311 [==============================] - 181s 582ms/step - loss: 0.1005 - accuracy: 0.9682 - val_loss: 1.2184 - val_accuracy: 0.8821\n",
      "\n",
      "Epoch 00011: val_accuracy did not improve from 0.92584\n",
      "Epoch 12/20\n",
      "311/311 [==============================] - 181s 581ms/step - loss: 0.0980 - accuracy: 0.9707 - val_loss: 0.4800 - val_accuracy: 0.9137\n",
      "\n",
      "Epoch 00012: val_accuracy did not improve from 0.92584\n",
      "Epoch 13/20\n",
      "311/311 [==============================] - 181s 583ms/step - loss: 0.1086 - accuracy: 0.9764 - val_loss: 0.5197 - val_accuracy: 0.9015\n",
      "\n",
      "Epoch 00013: val_accuracy did not improve from 0.92584\n",
      "Epoch 14/20\n",
      "311/311 [==============================] - 181s 581ms/step - loss: 0.0775 - accuracy: 0.9780 - val_loss: 0.4263 - val_accuracy: 0.9216\n",
      "\n",
      "Epoch 00014: val_accuracy did not improve from 0.92584\n",
      "Epoch 15/20\n",
      "311/311 [==============================] - 181s 581ms/step - loss: 0.0700 - accuracy: 0.9836 - val_loss: 0.7808 - val_accuracy: 0.9100\n",
      "\n",
      "Epoch 00015: val_accuracy did not improve from 0.92584\n",
      "Epoch 16/20\n",
      "311/311 [==============================] - 181s 581ms/step - loss: 0.0733 - accuracy: 0.9834 - val_loss: 0.6738 - val_accuracy: 0.9149\n",
      "\n",
      "Epoch 00016: val_accuracy did not improve from 0.92584\n",
      "Epoch 17/20\n",
      "311/311 [==============================] - 180s 580ms/step - loss: 0.0769 - accuracy: 0.9851 - val_loss: 0.6350 - val_accuracy: 0.9058\n",
      "\n",
      "Epoch 00017: val_accuracy did not improve from 0.92584\n",
      "Epoch 18/20\n",
      "311/311 [==============================] - 181s 581ms/step - loss: 0.0557 - accuracy: 0.9897 - val_loss: 0.9770 - val_accuracy: 0.9216\n",
      "\n",
      "Epoch 00018: val_accuracy did not improve from 0.92584\n",
      "Epoch 19/20\n",
      "311/311 [==============================] - 180s 580ms/step - loss: 0.0646 - accuracy: 0.9886 - val_loss: 1.0345 - val_accuracy: 0.9234\n",
      "\n",
      "Epoch 00019: val_accuracy did not improve from 0.92584\n",
      "Epoch 20/20\n",
      "311/311 [==============================] - 181s 581ms/step - loss: 0.0659 - accuracy: 0.9873 - val_loss: 0.7075 - val_accuracy: 0.9222\n",
      "\n",
      "Epoch 00020: val_accuracy did not improve from 0.92584\n"
     ]
    }
   ],
   "source": [
    "history = model.fit(train_data, steps_per_epoch=311, epochs=20,\\\n",
    "    validation_data=validation_data, validation_steps=47, callbacks=[model_checkpoint_callback])"
   ]
  },
  {
   "cell_type": "code",
   "execution_count": 12,
   "metadata": {},
   "outputs": [
    {
     "data": {
      "text/plain": [
       "dict_keys(['loss', 'accuracy', 'val_loss', 'val_accuracy'])"
      ]
     },
     "execution_count": 12,
     "metadata": {},
     "output_type": "execute_result"
    }
   ],
   "source": [
    "history.history.keys()"
   ]
  },
  {
   "cell_type": "code",
   "execution_count": 13,
   "metadata": {},
   "outputs": [
    {
     "data": {
      "image/png": "[encoded data removed]",
      "text/plain": [
       "<Figure size 432x288 with 1 Axes>"
      ]
     },
     "metadata": {
      "needs_background": "light"
     },
     "output_type": "display_data"
    },
    {
     "data": {
      "image/png": "[encoded data removed]",
      "text/plain": [
       "<Figure size 432x288 with 1 Axes>"
      ]
     },
     "metadata": {
      "needs_background": "light"
     },
     "output_type": "display_data"
    }
   ],
   "source": [
    "# 학습 과정의 accuracy와 loss 값을 plot\n",
    "import matplotlib.pyplot as plt\n",
    "\n",
    "acc = history.history['accuracy']\n",
    "val_acc = history.history['val_accuracy']\n",
    "loss = history.history['loss']\n",
    "val_loss = history.history['val_loss']\n",
    "\n",
    "epochs = range(len(acc))\n",
    "\n",
    "plt.plot(epochs, acc, 'bo', label='Training acc')\n",
    "plt.plot(epochs, val_acc, 'b', label='Validation acc')\n",
    "plt.title('Training and validation accuracy')\n",
    "plt.legend()\n",
    "\n",
    "plt.figure()\n",
    "\n",
    "plt.plot(epochs, loss, 'bo', label='Training loss')\n",
    "plt.plot(epochs, val_loss, 'b', label='Validation loss')\n",
    "plt.title('Training and validation loss')\n",
    "plt.legend()\n",
    "\n",
    "plt.show()"
   ]
  },
  {
   "cell_type": "code",
   "execution_count": 14,
   "metadata": {},
   "outputs": [
    {
     "name": "stdout",
     "output_type": "stream",
     "text": [
      "106/106 [==============================] - 47s 424ms/step - loss: 0.7013 - accuracy: 0.9212\n"
     ]
    },
    {
     "data": {
      "text/plain": [
       "[0.7013196349143982, 0.921180784702301]"
      ]
     },
     "execution_count": 14,
     "metadata": {},
     "output_type": "execute_result"
    }
   ],
   "source": [
    "model.evaluate(test_data, steps=3286 // 31)"
   ]
  },
  {
   "cell_type": "code",
   "execution_count": null,
   "metadata": {},
   "outputs": [],
   "source": []
  }
 ],
 "metadata": {
  "interpreter": {
   "hash": "e9ed752a7e505fc75616f810a0f9c48c49c7ebda3966569fad47dcb1585d7300"
  },
  "kernelspec": {
   "display_name": "Python 3.8.12 64-bit ('jh': conda)",
   "name": "python3"
  },
  "language_info": {
   "codemirror_mode": {
    "name": "ipython",
    "version": 3
   },
   "file_extension": ".py",
   "mimetype": "text/x-python",
   "name": "python",
   "nbconvert_exporter": "python",
   "pygments_lexer": "ipython3",
   "version": "3.8.12"
  },
  "orig_nbformat": 4
 },
 "nbformat": 4,
 "nbformat_minor": 2
}
