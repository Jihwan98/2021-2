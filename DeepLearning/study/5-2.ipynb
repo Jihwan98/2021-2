{
 "cells": [
  {
   "cell_type": "code",
   "execution_count": 1,
   "source": [
    "import keras"
   ],
   "outputs": [],
   "metadata": {}
  },
  {
   "cell_type": "code",
   "execution_count": 2,
   "source": [
    "import os, shutil"
   ],
   "outputs": [],
   "metadata": {}
  },
  {
   "cell_type": "code",
   "execution_count": 3,
   "source": [
    "original_dataset_dir = 'datasets/train'\n",
    "\n",
    "base_dir = 'datasets/cats_and_dogs_small'\n",
    "\n",
    "if os.path.exists(base_dir):\n",
    "    shutil.rmtree(base_dir)\n",
    "os.mkdir(base_dir)\n",
    "\n",
    "train_dir = os.path.join(base_dir, 'train')\n",
    "os.mkdir(train_dir)\n",
    "validation_dir = os.path.join(base_dir, 'validation')\n",
    "os.mkdir(validation_dir)\n",
    "test_dir = os.path.join(base_dir, 'test')\n",
    "os.mkdir(test_dir)\n",
    "\n",
    "train_cats_dir = os.path.join(train_dir, 'cats')\n",
    "os.mkdir(train_cats_dir)\n",
    "\n",
    "train_dogs_dir = os.path.join(train_dir, 'dogs')\n",
    "os.mkdir(train_dogs_dir)\n",
    "\n",
    "validation_cats_dir = os.path.join(validation_dir, 'cats')\n",
    "os.mkdir(validation_cats_dir)\n",
    "\n",
    "validation_dogs_dir = os.path.join(validation_dir, 'dogs')\n",
    "os.mkdir(validation_dogs_dir)\n",
    "\n",
    "test_cats_dir = os.path.join(test_dir, 'cats')\n",
    "os.mkdir(test_cats_dir)\n",
    "\n",
    "test_dogs_dir = os.path.join(test_dir, 'dogs')\n",
    "os.mkdir(test_dogs_dir)\n",
    "\n",
    "fnames = ['cat.{}.jpg'.format(i) for i in range(1000)]\n",
    "for fname in fnames:\n",
    "    src = os.path.join(original_dataset_dir, fname)\n",
    "    dst = os.path.join(train_cats_dir, fname)\n",
    "    shutil.copyfile(src, dst)\n",
    "\n",
    "fnames = ['cat.{}.jpg'.format(i) for i in range(1000, 1500)]\n",
    "for fname in fnames:\n",
    "    src = os.path.join(original_dataset_dir, fname)\n",
    "    dst = os.path.join(validation_cats_dir, fname)\n",
    "    shutil.copyfile(src, dst)\n",
    "\n",
    "fnames = ['cat.{}.jpg'.format(i) for i in range(1500, 2000)]\n",
    "for fname in fnames:\n",
    "    src = os.path.join(original_dataset_dir, fname)\n",
    "    dst = os.path.join(test_cats_dir, fname)\n",
    "    shutil.copyfile(src, dst)\n",
    "\n",
    "fnames = ['dog.{}.jpg'.format(i) for i in range(1000)]\n",
    "for fname in fnames:\n",
    "    src = os.path.join(original_dataset_dir, fname)\n",
    "    dst = os.path.join(train_dogs_dir, fname)\n",
    "    shutil.copyfile(src, dst)\n",
    "\n",
    "fnames = ['dog.{}.jpg'.format(i) for i in range(1000, 1500)]\n",
    "for fname in fnames:\n",
    "    src = os.path.join(original_dataset_dir, fname)\n",
    "    dst = os.path.join(validation_dogs_dir, fname)\n",
    "    shutil.copyfile(src, dst)\n",
    "\n",
    "fnames = ['dog.{}.jpg'.format(i) for i in range(1500, 2000)]\n",
    "for fname in fnames:\n",
    "    src = os.path.join(original_dataset_dir, fname)\n",
    "    dst = os.path.join(test_dogs_dir, fname)\n",
    "    shutil.copyfile(src, dst)"
   ],
   "outputs": [],
   "metadata": {}
  },
  {
   "cell_type": "code",
   "execution_count": 4,
   "source": [
    "print('훈련용 고양이 이미지 전체 개수 :', len(os.listdir(train_cats_dir)))\n",
    "print('훈련용 강아지 이미지 전체 개수 :', len(os.listdir(train_dogs_dir)))\n",
    "print('검증용 고양이 이미지 전체 개수 :', len(os.listdir(validation_cats_dir)))\n",
    "print('검증용 강아지 이미지 전체 개수 :', len(os.listdir(validation_dogs_dir)))\n",
    "print('테스트용 고양이 이미지 전체 개수 :', len(os.listdir(test_cats_dir)))\n",
    "print('테스트용 강아지 이미지 전체 개수 :', len(os.listdir(test_dogs_dir)))"
   ],
   "outputs": [
    {
     "output_type": "stream",
     "name": "stdout",
     "text": [
      "훈련용 고양이 이미지 전체 개수 : 1000\n",
      "훈련용 강아지 이미지 전체 개수 : 1000\n",
      "검증용 고양이 이미지 전체 개수 : 500\n",
      "검증용 강아지 이미지 전체 개수 : 500\n",
      "테스트용 고양이 이미지 전체 개수 : 500\n",
      "테스트용 강아지 이미지 전체 개수 : 500\n"
     ]
    }
   ],
   "metadata": {}
  },
  {
   "cell_type": "code",
   "execution_count": 6,
   "source": [
    "from keras import layers\n",
    "from keras import models\n",
    "\n",
    "model = models.Sequential()\n",
    "model.add(layers.Conv2D(32, (3,3), activation='relu', input_shape=(150, 150, 3)))\n",
    "model.add(layers.MaxPool2D((2,2)))\n",
    "model.add(layers.Conv2D(64, (3,3), activation='relu'))\n",
    "model.add(layers.MaxPool2D((2,2)))\n",
    "model.add(layers.Conv2D(128, (3,3), activation='relu'))\n",
    "model.add(layers.MaxPool2D((2,2)))\n",
    "model.add(layers.Conv2D(128, (3,3), activation='relu'))\n",
    "model.add(layers.MaxPool2D((2,2)))\n",
    "model.add(layers.Flatten())\n",
    "model.add(layers.Dense(512, activation='relu'))\n",
    "model.add(layers.Dense(1, activation='sigmoid'))"
   ],
   "outputs": [
    {
     "output_type": "stream",
     "name": "stderr",
     "text": [
      "2021-09-26 15:41:29.514875: I tensorflow/compiler/jit/xla_cpu_device.cc:41] Not creating XLA devices, tf_xla_enable_xla_devices not set\n",
      "2021-09-26 15:41:29.515456: I tensorflow/core/platform/cpu_feature_guard.cc:142] This TensorFlow binary is optimized with oneAPI Deep Neural Network Library (oneDNN) to use the following CPU instructions in performance-critical operations:  SSE4.1 SSE4.2 AVX AVX2 FMA\n",
      "To enable them in other operations, rebuild TensorFlow with the appropriate compiler flags.\n",
      "2021-09-26 15:41:29.519408: I tensorflow/core/common_runtime/process_util.cc:146] Creating new thread pool with default inter op setting: 2. Tune using inter_op_parallelism_threads for best performance.\n"
     ]
    }
   ],
   "metadata": {}
  },
  {
   "cell_type": "code",
   "execution_count": 7,
   "source": [
    "model.summary()"
   ],
   "outputs": [
    {
     "output_type": "stream",
     "name": "stdout",
     "text": [
      "Model: \"sequential\"\n",
      "_________________________________________________________________\n",
      "Layer (type)                 Output Shape              Param #   \n",
      "=================================================================\n",
      "conv2d (Conv2D)              (None, 148, 148, 32)      896       \n",
      "_________________________________________________________________\n",
      "max_pooling2d (MaxPooling2D) (None, 74, 74, 32)        0         \n",
      "_________________________________________________________________\n",
      "conv2d_1 (Conv2D)            (None, 72, 72, 64)        18496     \n",
      "_________________________________________________________________\n",
      "max_pooling2d_1 (MaxPooling2 (None, 36, 36, 64)        0         \n",
      "_________________________________________________________________\n",
      "conv2d_2 (Conv2D)            (None, 34, 34, 128)       73856     \n",
      "_________________________________________________________________\n",
      "max_pooling2d_2 (MaxPooling2 (None, 17, 17, 128)       0         \n",
      "_________________________________________________________________\n",
      "conv2d_3 (Conv2D)            (None, 15, 15, 128)       147584    \n",
      "_________________________________________________________________\n",
      "max_pooling2d_3 (MaxPooling2 (None, 7, 7, 128)         0         \n",
      "_________________________________________________________________\n",
      "flatten (Flatten)            (None, 6272)              0         \n",
      "_________________________________________________________________\n",
      "dense (Dense)                (None, 512)               3211776   \n",
      "_________________________________________________________________\n",
      "dense_1 (Dense)              (None, 1)                 513       \n",
      "=================================================================\n",
      "Total params: 3,453,121\n",
      "Trainable params: 3,453,121\n",
      "Non-trainable params: 0\n",
      "_________________________________________________________________\n"
     ]
    }
   ],
   "metadata": {}
  },
  {
   "cell_type": "code",
   "execution_count": 10,
   "source": [
    "from keras import optimizers\n",
    "model.compile(loss='binary_crossentropy', \\\n",
    "    optimizer=optimizers.RMSprop(lr=1e-4), \n",
    "    metrics=['acc'])"
   ],
   "outputs": [],
   "metadata": {}
  },
  {
   "cell_type": "code",
   "execution_count": 11,
   "source": [
    "from keras.preprocessing.image import ImageDataGenerator\n",
    "\n",
    "train_datagen = ImageDataGenerator(rescale = 1./255)\n",
    "test_datagen = ImageDataGenerator(rescale = 1./255)\n",
    "\n",
    "train_generator = train_datagen.flow_from_directory(\n",
    "    train_dir, \n",
    "    target_size=(150, 150), \n",
    "    batch_size=20,\n",
    "    class_mode='binary'\n",
    ")\n",
    "\n",
    "validation_generator = test_datagen.flow_from_directory(\n",
    "    validation_dir,\n",
    "    target_size=(150,150),\n",
    "    batch_size=20,\n",
    "    class_mode='binary'\n",
    ")"
   ],
   "outputs": [
    {
     "output_type": "stream",
     "name": "stdout",
     "text": [
      "Found 2000 images belonging to 2 classes.\n",
      "Found 1000 images belonging to 2 classes.\n"
     ]
    }
   ],
   "metadata": {}
  },
  {
   "cell_type": "code",
   "execution_count": 12,
   "source": [
    "for data_batch, labels_batch in train_generator:\n",
    "    print('배치 데이터 크기:', data_batch.shape)\n",
    "    print('배치 레이블 크기:', labels_batch.shape)\n",
    "    break"
   ],
   "outputs": [
    {
     "output_type": "stream",
     "name": "stdout",
     "text": [
      "배치 데이터 크기: (20, 150, 150, 3)\n",
      "배치 레이블 크기: (20,)\n"
     ]
    }
   ],
   "metadata": {}
  },
  {
   "cell_type": "code",
   "execution_count": 13,
   "source": [
    "history = model.fit_generator(\n",
    "    train_generator,\n",
    "    steps_per_epoch=100,\n",
    "    epochs=30,\n",
    "    validation_data=validation_generator,\n",
    "    validation_steps=50\n",
    ")"
   ],
   "outputs": [
    {
     "output_type": "stream",
     "name": "stderr",
     "text": [
      "/home/jihwan/miniconda3/envs/dip/lib/python3.8/site-packages/tensorflow/python/keras/engine/training.py:1844: UserWarning: `Model.fit_generator` is deprecated and will be removed in a future version. Please use `Model.fit`, which supports generators.\n",
      "  warnings.warn('`Model.fit_generator` is deprecated and '\n",
      "2021-09-26 15:57:31.881828: I tensorflow/compiler/mlir/mlir_graph_optimization_pass.cc:116] None of the MLIR optimization passes are enabled (registered 2)\n",
      "2021-09-26 15:57:31.882724: I tensorflow/core/platform/profile_utils/cpu_utils.cc:112] CPU Frequency: 3701000000 Hz\n"
     ]
    },
    {
     "output_type": "stream",
     "name": "stdout",
     "text": [
      "Epoch 1/30\n",
      "100/100 [==============================] - 16s 149ms/step - loss: 0.6958 - acc: 0.5164 - val_loss: 0.6829 - val_acc: 0.5470\n",
      "Epoch 2/30\n",
      "100/100 [==============================] - 15s 151ms/step - loss: 0.6655 - acc: 0.6002 - val_loss: 0.6405 - val_acc: 0.6470\n",
      "Epoch 3/30\n",
      "100/100 [==============================] - 16s 157ms/step - loss: 0.6349 - acc: 0.6532 - val_loss: 0.6148 - val_acc: 0.6650\n",
      "Epoch 4/30\n",
      "100/100 [==============================] - 16s 156ms/step - loss: 0.5837 - acc: 0.6958 - val_loss: 0.5821 - val_acc: 0.6820\n",
      "Epoch 5/30\n",
      "100/100 [==============================] - 16s 157ms/step - loss: 0.5619 - acc: 0.7064 - val_loss: 0.5779 - val_acc: 0.6780\n",
      "Epoch 6/30\n",
      "100/100 [==============================] - 15s 155ms/step - loss: 0.5265 - acc: 0.7321 - val_loss: 0.5846 - val_acc: 0.6850\n",
      "Epoch 7/30\n",
      "100/100 [==============================] - 15s 153ms/step - loss: 0.4927 - acc: 0.7635 - val_loss: 0.5871 - val_acc: 0.6910\n",
      "Epoch 8/30\n",
      "100/100 [==============================] - 15s 149ms/step - loss: 0.4641 - acc: 0.7780 - val_loss: 0.5567 - val_acc: 0.6980\n",
      "Epoch 9/30\n",
      "100/100 [==============================] - 15s 145ms/step - loss: 0.4347 - acc: 0.7840 - val_loss: 0.5537 - val_acc: 0.7150\n",
      "Epoch 10/30\n",
      "100/100 [==============================] - 15s 149ms/step - loss: 0.4035 - acc: 0.8172 - val_loss: 0.6230 - val_acc: 0.6830\n",
      "Epoch 11/30\n",
      "100/100 [==============================] - 14s 144ms/step - loss: 0.3827 - acc: 0.8331 - val_loss: 0.5674 - val_acc: 0.7300\n",
      "Epoch 12/30\n",
      "100/100 [==============================] - 15s 148ms/step - loss: 0.3697 - acc: 0.8394 - val_loss: 0.5618 - val_acc: 0.7250\n",
      "Epoch 13/30\n",
      "100/100 [==============================] - 15s 154ms/step - loss: 0.3325 - acc: 0.8581 - val_loss: 0.5397 - val_acc: 0.7380\n",
      "Epoch 14/30\n",
      "100/100 [==============================] - 14s 142ms/step - loss: 0.3064 - acc: 0.8728 - val_loss: 0.5464 - val_acc: 0.7470\n",
      "Epoch 15/30\n",
      "100/100 [==============================] - 15s 148ms/step - loss: 0.2931 - acc: 0.8717 - val_loss: 0.5473 - val_acc: 0.7390\n",
      "Epoch 16/30\n",
      "100/100 [==============================] - 15s 149ms/step - loss: 0.2556 - acc: 0.9089 - val_loss: 0.6118 - val_acc: 0.7340\n",
      "Epoch 17/30\n",
      "100/100 [==============================] - 15s 153ms/step - loss: 0.2416 - acc: 0.9061 - val_loss: 0.5900 - val_acc: 0.7380\n",
      "Epoch 18/30\n",
      "100/100 [==============================] - 15s 146ms/step - loss: 0.2092 - acc: 0.9235 - val_loss: 0.6295 - val_acc: 0.7330\n",
      "Epoch 19/30\n",
      "100/100 [==============================] - 15s 147ms/step - loss: 0.1962 - acc: 0.9276 - val_loss: 0.6257 - val_acc: 0.7370\n",
      "Epoch 20/30\n",
      "100/100 [==============================] - 14s 143ms/step - loss: 0.1849 - acc: 0.9458 - val_loss: 0.6395 - val_acc: 0.7360\n",
      "Epoch 21/30\n",
      "100/100 [==============================] - 15s 146ms/step - loss: 0.1533 - acc: 0.9445 - val_loss: 0.6341 - val_acc: 0.7340\n",
      "Epoch 22/30\n",
      "100/100 [==============================] - 14s 143ms/step - loss: 0.1394 - acc: 0.9613 - val_loss: 0.6972 - val_acc: 0.7420\n",
      "Epoch 23/30\n",
      "100/100 [==============================] - 14s 142ms/step - loss: 0.1313 - acc: 0.9552 - val_loss: 0.6682 - val_acc: 0.7340\n",
      "Epoch 24/30\n",
      "100/100 [==============================] - 14s 141ms/step - loss: 0.1207 - acc: 0.9610 - val_loss: 0.7171 - val_acc: 0.7300\n",
      "Epoch 25/30\n",
      "100/100 [==============================] - 15s 146ms/step - loss: 0.1003 - acc: 0.9694 - val_loss: 0.7453 - val_acc: 0.7520\n",
      "Epoch 26/30\n",
      "100/100 [==============================] - 15s 145ms/step - loss: 0.0905 - acc: 0.9735 - val_loss: 0.7651 - val_acc: 0.7420\n",
      "Epoch 27/30\n",
      "100/100 [==============================] - 15s 147ms/step - loss: 0.0730 - acc: 0.9780 - val_loss: 0.8276 - val_acc: 0.7230\n",
      "Epoch 28/30\n",
      "100/100 [==============================] - 15s 149ms/step - loss: 0.0613 - acc: 0.9849 - val_loss: 0.8130 - val_acc: 0.7500\n",
      "Epoch 29/30\n",
      "100/100 [==============================] - 16s 155ms/step - loss: 0.0597 - acc: 0.9818 - val_loss: 0.8936 - val_acc: 0.7440\n",
      "Epoch 30/30\n",
      "100/100 [==============================] - 14s 144ms/step - loss: 0.0501 - acc: 0.9855 - val_loss: 0.8827 - val_acc: 0.7400\n"
     ]
    }
   ],
   "metadata": {}
  },
  {
   "cell_type": "code",
   "execution_count": 14,
   "source": [
    "model.save('cats_and_dogs_small_1.h5')"
   ],
   "outputs": [],
   "metadata": {}
  },
  {
   "cell_type": "code",
   "execution_count": null,
   "source": [],
   "outputs": [],
   "metadata": {}
  }
 ],
 "metadata": {
  "orig_nbformat": 4,
  "language_info": {
   "name": "python",
   "version": "3.8.11",
   "mimetype": "text/x-python",
   "codemirror_mode": {
    "name": "ipython",
    "version": 3
   },
   "pygments_lexer": "ipython3",
   "nbconvert_exporter": "python",
   "file_extension": ".py"
  },
  "kernelspec": {
   "name": "python3",
   "display_name": "Python 3.8.11 64-bit ('dip': conda)"
  },
  "interpreter": {
   "hash": "a6a359b9dd1c6868bab919c6182d9c8915b120ea399d4b5cf7ad55af3277d885"
  }
 },
 "nbformat": 4,
 "nbformat_minor": 2
}