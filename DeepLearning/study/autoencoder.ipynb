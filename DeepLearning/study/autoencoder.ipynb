{
  "nbformat": 4,
  "nbformat_minor": 0,
  "metadata": {
    "accelerator": "GPU",
    "colab": {
      "name": "autoencoder.ipynb",
      "provenance": [],
      "authorship_tag": "ABX9TyORO3RToLHn8TBpKi7wMpOW",
      "include_colab_link": true
    },
    "kernelspec": {
      "display_name": "Python 3",
      "name": "python3"
    },
    "language_info": {
      "name": "python"
    }
  },
  "cells": [
    {
      "cell_type": "markdown",
      "metadata": {
        "id": "view-in-github",
        "colab_type": "text"
      },
      "source": [
        "<a href=\"https://colab.research.google.com/github/Jihwan98/2021-2/blob/main/DeepLearning/study/autoencoder.ipynb\" target=\"_parent\"><img src=\"https://colab.research.google.com/assets/colab-badge.svg\" alt=\"Open In Colab\"/></a>"
      ]
    },
    {
      "cell_type": "code",
      "metadata": {
        "id": "mV0CZRMdr1vz"
      },
      "source": [
        "from tensorflow.keras.layers import Input, Dense, Conv2D, MaxPooling2D, UpSampling2D\n",
        "from tensorflow.keras.models import Model"
      ],
      "execution_count": null,
      "outputs": []
    },
    {
      "cell_type": "code",
      "metadata": {
        "colab": {
          "base_uri": "https://localhost:8080/"
        },
        "id": "AN1qyVzPsMWq",
        "outputId": "0b2ae49a-3c12-4491-c2f0-1a177479f8ea"
      },
      "source": [
        "from tensorflow.keras.datasets import mnist\n",
        "import numpy as np\n",
        "\n",
        "(x_train, _), (x_test, _) = mnist.load_data()"
      ],
      "execution_count": null,
      "outputs": [
        {
          "name": "stdout",
          "output_type": "stream",
          "text": [
            "Downloading data from https://storage.googleapis.com/tensorflow/tf-keras-datasets/mnist.npz\n",
            "11493376/11490434 [==============================] - 0s 0us/step\n",
            "11501568/11490434 [==============================] - 0s 0us/step\n"
          ]
        }
      ]
    },
    {
      "cell_type": "code",
      "metadata": {
        "id": "WwCs18O_sW7P"
      },
      "source": [
        "x_train = x_train.astype(np.float32) / 255\n",
        "x_test = x_test.astype(np.float32) / 255\n",
        "x_train = x_train.reshape((len(x_train), np.prod(x_train.shape[1:])))\n",
        "x_test = x_test.reshape((len(x_test), np.prod(x_test.shape[1:])))"
      ],
      "execution_count": null,
      "outputs": []
    },
    {
      "cell_type": "code",
      "metadata": {
        "id": "qy1KCvKcs_Ue"
      },
      "source": [
        "input_img = Input(shape=(np.prod(x_train.shape[1:]),))\n",
        "encoded = Dense(32, activation='relu')(input_img)\n",
        "decoded = Dense(784, activation='sigmoid')(encoded)\n",
        "\n",
        "autoencoder = Model(input_img, decoded)\n",
        "autoencoder.compile(optimizer='rmsprop',loss='binary_crossentropy')"
      ],
      "execution_count": null,
      "outputs": []
    },
    {
      "cell_type": "code",
      "metadata": {
        "id": "S3dWC1C_vFP1"
      },
      "source": [
        "autoencoder.fit(x_train, x_train, epochs=100, batch_size=256, shuffle=True, validation_data=(x_test, x_test))"
      ],
      "execution_count": null,
      "outputs": []
    },
    {
      "cell_type": "code",
      "metadata": {
        "colab": {
          "base_uri": "https://localhost:8080/"
        },
        "id": "YcYQSiifxNxN",
        "outputId": "12b29749-11c9-4a82-9f71-42b0ebcb27db"
      },
      "source": [
        "autoencoder.summary()"
      ],
      "execution_count": null,
      "outputs": [
        {
          "name": "stdout",
          "output_type": "stream",
          "text": [
            "Model: \"model\"\n",
            "_________________________________________________________________\n",
            "Layer (type)                 Output Shape              Param #   \n",
            "=================================================================\n",
            "input_1 (InputLayer)         [(None, 784)]             0         \n",
            "_________________________________________________________________\n",
            "dense (Dense)                (None, 32)                25120     \n",
            "_________________________________________________________________\n",
            "dense_1 (Dense)              (None, 784)               25872     \n",
            "=================================================================\n",
            "Total params: 50,992\n",
            "Trainable params: 50,992\n",
            "Non-trainable params: 0\n",
            "_________________________________________________________________\n"
          ]
        }
      ]
    },
    {
      "cell_type": "code",
      "metadata": {
        "colab": {
          "base_uri": "https://localhost:8080/"
        },
        "id": "ZR78WD5wyYK7",
        "outputId": "c796a71f-45cc-4e42-9154-8b53b3a68aa7"
      },
      "source": [
        "x_test[0].shape"
      ],
      "execution_count": null,
      "outputs": [
        {
          "data": {
            "text/plain": [
              "(784,)"
            ]
          },
          "execution_count": 13,
          "metadata": {},
          "output_type": "execute_result"
        }
      ]
    },
    {
      "cell_type": "code",
      "metadata": {
        "id": "Q7f80GZdzyBL"
      },
      "source": [
        "input_test = x_test[0].reshape(1,784)\n",
        "test_img = x_test[0].reshape(28,28)"
      ],
      "execution_count": null,
      "outputs": []
    },
    {
      "cell_type": "code",
      "metadata": {
        "colab": {
          "base_uri": "https://localhost:8080/",
          "height": 201
        },
        "id": "DH_o15Ox0EYZ",
        "outputId": "11440c35-b71c-43b7-c055-8be831e91164"
      },
      "source": [
        "predict = autoencoder.predict(input_test).reshape(28,28)\n",
        "\n",
        "import matplotlib.pyplot as plt\n",
        "plt.subplot(121)\n",
        "plt.imshow(test_img, cmap='gray')\n",
        "plt.subplot(122)\n",
        "plt.imshow(predict, cmap='gray')\n",
        "plt.show()"
      ],
      "execution_count": null,
      "outputs": [
        {
          "data": {
            "image/png": "[encoded data removed]",
            "text/plain": [
              "<Figure size 432x288 with 2 Axes>"
            ]
          },
          "metadata": {},
          "output_type": "display_data"
        }
      ]
    },
    {
      "cell_type": "code",
      "metadata": {
        "id": "ZTMiYGXj1IIb"
      },
      "source": [
        "(x_train, _), (x_test, _) = mnist.load_data()\n",
        "\n",
        "x_train = x_train.astype(np.float32) / 255\n",
        "x_test = x_test.astype(np.float32) / 255\n",
        "x_train = x_train.reshape((x_train.shape[0], x_train.shape[1], x_train.shape[2], 1))\n",
        "x_test = x_test.reshape((x_test.shape[0], x_test.shape[1], x_test.shape[2], 1))"
      ],
      "execution_count": null,
      "outputs": []
    },
    {
      "cell_type": "code",
      "metadata": {
        "id": "RCZ0a__VDWsv"
      },
      "source": [
        "conv_input = Input(shape=(28,28,1))\n",
        "encoder = Conv2D(16,(3,3), activation='relu', padding='same')(conv_input)\n",
        "encoder = MaxPooling2D((2,2), padding='same')(encoder)\n",
        "encoder = Conv2D(8,(3,3), activation='relu', padding='same')(encoder)\n",
        "encoder = MaxPooling2D((2,2), padding='same')(encoder)\n",
        "encoder = Conv2D(8,(3,3), activation='relu', padding='same')(encoder)\n",
        "encoded = MaxPooling2D((2,2), padding='same')(encoder)\n",
        "\n",
        "decoder = Conv2D(8, (3,3), activation='relu', padding='same')(encoded)\n",
        "decoder = UpSampling2D((2,2))(decoder)\n",
        "decoder = Conv2D(8, (3,3), activation='relu', padding='same')(decoder)\n",
        "decoder = UpSampling2D((2,2))(decoder)\n",
        "decoder = Conv2D(16, (3,3), activation='relu')(decoder)\n",
        "decoder = UpSampling2D((2,2))(decoder)\n",
        "\n",
        "decoded = Conv2D(1, (3,3), activation='sigmoid', padding='same')(decoder)\n",
        "\n",
        "autoencoder_2 = Model(conv_input, decoded)\n",
        "autoencoder_2.compile(optimizer='rmsprop', loss='binary_crossentropy')"
      ],
      "execution_count": null,
      "outputs": []
    },
    {
      "cell_type": "code",
      "metadata": {
        "colab": {
          "base_uri": "https://localhost:8080/"
        },
        "id": "82lKuADBPMDG",
        "outputId": "a5e6abdf-c38c-4418-fc06-a87cebaed845"
      },
      "source": [
        "autoencoder_2.summary()"
      ],
      "execution_count": null,
      "outputs": [
        {
          "name": "stdout",
          "output_type": "stream",
          "text": [
            "Model: \"model\"\n",
            "_________________________________________________________________\n",
            "Layer (type)                 Output Shape              Param #   \n",
            "=================================================================\n",
            "input_1 (InputLayer)         [(None, 28, 28, 1)]       0         \n",
            "_________________________________________________________________\n",
            "conv2d (Conv2D)              (None, 28, 28, 16)        160       \n",
            "_________________________________________________________________\n",
            "max_pooling2d (MaxPooling2D) (None, 14, 14, 16)        0         \n",
            "_________________________________________________________________\n",
            "conv2d_1 (Conv2D)            (None, 14, 14, 8)         1160      \n",
            "_________________________________________________________________\n",
            "max_pooling2d_1 (MaxPooling2 (None, 7, 7, 8)           0         \n",
            "_________________________________________________________________\n",
            "conv2d_2 (Conv2D)            (None, 7, 7, 8)           584       \n",
            "_________________________________________________________________\n",
            "max_pooling2d_2 (MaxPooling2 (None, 4, 4, 8)           0         \n",
            "_________________________________________________________________\n",
            "conv2d_3 (Conv2D)            (None, 4, 4, 8)           584       \n",
            "_________________________________________________________________\n",
            "up_sampling2d (UpSampling2D) (None, 8, 8, 8)           0         \n",
            "_________________________________________________________________\n",
            "conv2d_4 (Conv2D)            (None, 8, 8, 8)           584       \n",
            "_________________________________________________________________\n",
            "up_sampling2d_1 (UpSampling2 (None, 16, 16, 8)         0         \n",
            "_________________________________________________________________\n",
            "conv2d_5 (Conv2D)            (None, 14, 14, 16)        1168      \n",
            "_________________________________________________________________\n",
            "up_sampling2d_2 (UpSampling2 (None, 28, 28, 16)        0         \n",
            "_________________________________________________________________\n",
            "conv2d_6 (Conv2D)            (None, 28, 28, 1)         145       \n",
            "=================================================================\n",
            "Total params: 4,385\n",
            "Trainable params: 4,385\n",
            "Non-trainable params: 0\n",
            "_________________________________________________________________\n"
          ]
        }
      ]
    },
    {
      "cell_type": "code",
      "metadata": {
        "colab": {
          "background_save": true,
          "base_uri": "https://localhost:8080/"
        },
        "id": "xRH8uNm6GkoB",
        "outputId": "1075390a-7d04-40e5-a5bf-470e9adf089a"
      },
      "source": [
        "autoencoder_2.fit(x_train, x_train, epochs=100, batch_size=256, shuffle=True, validation_data=(x_test, x_test))"
      ],
      "execution_count": null,
      "outputs": [
        {
          "name": "stdout",
          "output_type": "stream",
          "text": [
            "Epoch 1/100\n",
            "235/235 [==============================] - 74s 309ms/step - loss: 0.2416 - val_loss: 0.1798\n",
            "Epoch 2/100\n",
            "235/235 [==============================] - 71s 302ms/step - loss: 0.1710 - val_loss: 0.1591\n",
            "Epoch 3/100\n",
            "235/235 [==============================] - 71s 303ms/step - loss: 0.1544 - val_loss: 0.1514\n",
            "Epoch 4/100\n",
            "235/235 [==============================] - 71s 303ms/step - loss: 0.1444 - val_loss: 0.1410\n",
            "Epoch 5/100\n",
            "235/235 [==============================] - 72s 306ms/step - loss: 0.1381 - val_loss: 0.1342\n",
            "Epoch 6/100\n",
            "235/235 [==============================] - 71s 302ms/step - loss: 0.1337 - val_loss: 0.1279\n",
            "Epoch 7/100\n",
            "235/235 [==============================] - 78s 333ms/step - loss: 0.1303 - val_loss: 0.1289\n",
            "Epoch 8/100\n",
            "235/235 [==============================] - 76s 321ms/step - loss: 0.1274 - val_loss: 0.1245\n",
            "Epoch 9/100\n",
            "235/235 [==============================] - 74s 315ms/step - loss: 0.1251 - val_loss: 0.1206\n",
            "Epoch 10/100\n",
            "235/235 [==============================] - 71s 303ms/step - loss: 0.1230 - val_loss: 0.1174\n",
            "Epoch 11/100\n",
            "235/235 [==============================] - 72s 306ms/step - loss: 0.1213 - val_loss: 0.1155\n",
            "Epoch 12/100\n",
            "235/235 [==============================] - 75s 321ms/step - loss: 0.1197 - val_loss: 0.1168\n",
            "Epoch 13/100\n",
            "235/235 [==============================] - 72s 305ms/step - loss: 0.1185 - val_loss: 0.1160\n",
            "Epoch 14/100\n",
            "235/235 [==============================] - 71s 303ms/step - loss: 0.1171 - val_loss: 0.1177\n",
            "Epoch 15/100\n",
            "235/235 [==============================] - 72s 305ms/step - loss: 0.1160 - val_loss: 0.1134\n",
            "Epoch 16/100\n",
            "235/235 [==============================] - 73s 311ms/step - loss: 0.1151 - val_loss: 0.1107\n",
            "Epoch 17/100\n",
            "235/235 [==============================] - 72s 306ms/step - loss: 0.1141 - val_loss: 0.1104\n",
            "Epoch 18/100\n",
            "235/235 [==============================] - 72s 307ms/step - loss: 0.1133 - val_loss: 0.1106\n",
            "Epoch 19/100\n",
            "235/235 [==============================] - 72s 307ms/step - loss: 0.1125 - val_loss: 0.1116\n",
            "Epoch 20/100\n",
            "235/235 [==============================] - 71s 303ms/step - loss: 0.1118 - val_loss: 0.1106\n",
            "Epoch 21/100\n",
            "235/235 [==============================] - 71s 304ms/step - loss: 0.1111 - val_loss: 0.1083\n",
            "Epoch 22/100\n",
            "235/235 [==============================] - 72s 305ms/step - loss: 0.1105 - val_loss: 0.1080\n",
            "Epoch 23/100\n",
            "235/235 [==============================] - 74s 314ms/step - loss: 0.1099 - val_loss: 0.1126\n",
            "Epoch 24/100\n",
            "235/235 [==============================] - 72s 307ms/step - loss: 0.1093 - val_loss: 0.1113\n",
            "Epoch 25/100\n",
            "235/235 [==============================] - 73s 310ms/step - loss: 0.1088 - val_loss: 0.1048\n",
            "Epoch 26/100\n",
            "235/235 [==============================] - 72s 307ms/step - loss: 0.1084 - val_loss: 0.1043\n",
            "Epoch 27/100\n",
            "235/235 [==============================] - 71s 303ms/step - loss: 0.1079 - val_loss: 0.1028\n",
            "Epoch 28/100\n",
            "235/235 [==============================] - 79s 338ms/step - loss: 0.1074 - val_loss: 0.1083\n",
            "Epoch 29/100\n",
            "235/235 [==============================] - 77s 326ms/step - loss: 0.1070 - val_loss: 0.1042\n",
            "Epoch 30/100\n",
            "235/235 [==============================] - 73s 311ms/step - loss: 0.1066 - val_loss: 0.1050\n",
            "Epoch 31/100\n",
            "235/235 [==============================] - 74s 313ms/step - loss: 0.1063 - val_loss: 0.1020\n",
            "Epoch 32/100\n",
            "235/235 [==============================] - 78s 333ms/step - loss: 0.1058 - val_loss: 0.1043\n",
            "Epoch 33/100\n",
            "235/235 [==============================] - 78s 331ms/step - loss: 0.1055 - val_loss: 0.1035\n",
            "Epoch 34/100\n",
            "235/235 [==============================] - 70s 299ms/step - loss: 0.1052 - val_loss: 0.1101\n",
            "Epoch 35/100\n",
            "235/235 [==============================] - 70s 297ms/step - loss: 0.1048 - val_loss: 0.1033\n",
            "Epoch 36/100\n",
            "235/235 [==============================] - 70s 297ms/step - loss: 0.1045 - val_loss: 0.1084\n",
            "Epoch 37/100\n",
            "235/235 [==============================] - 70s 297ms/step - loss: 0.1042 - val_loss: 0.1055\n",
            "Epoch 38/100\n",
            "235/235 [==============================] - 70s 298ms/step - loss: 0.1039 - val_loss: 0.1007\n",
            "Epoch 39/100\n",
            "235/235 [==============================] - 70s 298ms/step - loss: 0.1037 - val_loss: 0.1013\n",
            "Epoch 40/100\n",
            "235/235 [==============================] - 73s 310ms/step - loss: 0.1034 - val_loss: 0.1043\n",
            "Epoch 41/100\n",
            "235/235 [==============================] - 74s 314ms/step - loss: 0.1032 - val_loss: 0.1035\n",
            "Epoch 42/100\n",
            "235/235 [==============================] - 76s 325ms/step - loss: 0.1029 - val_loss: 0.1021\n",
            "Epoch 43/100\n",
            "235/235 [==============================] - 83s 351ms/step - loss: 0.1026 - val_loss: 0.1050\n",
            "Epoch 44/100\n",
            "235/235 [==============================] - 102s 433ms/step - loss: 0.1025 - val_loss: 0.0994\n",
            "Epoch 45/100\n",
            "235/235 [==============================] - 75s 318ms/step - loss: 0.1021 - val_loss: 0.1006\n",
            "Epoch 46/100\n",
            "235/235 [==============================] - 75s 318ms/step - loss: 0.1020 - val_loss: 0.1021\n",
            "Epoch 47/100\n",
            "235/235 [==============================] - 74s 317ms/step - loss: 0.1018 - val_loss: 0.1009\n",
            "Epoch 48/100\n",
            "235/235 [==============================] - 73s 312ms/step - loss: 0.1015 - val_loss: 0.1009\n",
            "Epoch 49/100\n",
            "198/235 [========================>.....] - ETA: 11s - loss: 0.1014"
          ]
        }
      ]
    },
    {
      "cell_type": "code",
      "metadata": {
        "colab": {
          "base_uri": "https://localhost:8080/"
        },
        "id": "P61UaeEoHN2M",
        "outputId": "6291d05c-50be-4930-c6a7-de86c6bfceb9"
      },
      "source": [
        "x_test[0].shape"
      ],
      "execution_count": null,
      "outputs": [
        {
          "data": {
            "text/plain": [
              "(28, 28, 1)"
            ]
          },
          "execution_count": 7,
          "metadata": {},
          "output_type": "execute_result"
        }
      ]
    },
    {
      "cell_type": "code",
      "metadata": {
        "colab": {
          "base_uri": "https://localhost:8080/",
          "height": 201
        },
        "id": "YJIJiHKWOU6N",
        "outputId": "1d400f1c-afdd-4b33-9269-bea519daf61b"
      },
      "source": [
        "predict = autoencoder_2.predict(x_test[1].reshape(1,28,28,1))\n",
        "predict = np.squeeze(predict)\n",
        "import matplotlib.pyplot as plt\n",
        "\n",
        "plt.subplot(121)\n",
        "plt.imshow(np.squeeze(x_test[1]), cmap='gray')\n",
        "plt.subplot(122)\n",
        "plt.imshow(predict, cmap='gray')\n",
        "plt.show()"
      ],
      "execution_count": null,
      "outputs": [
        {
          "data": {
            "image/png": "[encoded data removed]",
            "text/plain": [
              "<Figure size 432x288 with 2 Axes>"
            ]
          },
          "metadata": {},
          "output_type": "display_data"
        }
      ]
    },
    {
      "cell_type": "code",
      "metadata": {
        "id": "3nPSULXvQ42v"
      },
      "source": [
        ""
      ],
      "execution_count": null,
      "outputs": []
    }
  ]
}