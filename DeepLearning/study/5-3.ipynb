{
 "cells": [
  {
   "cell_type": "code",
   "execution_count": 1,
   "source": [
    "import tensorflow as tf\r\n",
    "import tensorflow.keras"
   ],
   "outputs": [],
   "metadata": {}
  },
  {
   "cell_type": "code",
   "execution_count": 2,
   "source": [
    "tensorflow.keras.__version__"
   ],
   "outputs": [
    {
     "output_type": "execute_result",
     "data": {
      "text/plain": [
       "'2.5.0'"
      ]
     },
     "metadata": {},
     "execution_count": 2
    }
   ],
   "metadata": {}
  },
  {
   "cell_type": "code",
   "execution_count": 3,
   "source": [
    "tf.__version__"
   ],
   "outputs": [
    {
     "output_type": "execute_result",
     "data": {
      "text/plain": [
       "'2.5.0'"
      ]
     },
     "metadata": {},
     "execution_count": 3
    }
   ],
   "metadata": {}
  },
  {
   "cell_type": "code",
   "execution_count": 4,
   "source": [
    "from tensorflow.keras.applications import VGG16\r\n",
    "\r\n",
    "conv_base = VGG16(weights='imagenet',\\\r\n",
    "    include_top=False, input_shape=(150,150,3))"
   ],
   "outputs": [
    {
     "output_type": "stream",
     "name": "stdout",
     "text": [
      "Downloading data from https://storage.googleapis.com/tensorflow/keras-applications/vgg16/vgg16_weights_tf_dim_ordering_tf_kernels_notop.h5\n",
      "58892288/58889256 [==============================] - 5s 0us/step\n"
     ]
    }
   ],
   "metadata": {}
  },
  {
   "cell_type": "code",
   "execution_count": 5,
   "source": [
    "conv_base.summary()"
   ],
   "outputs": [
    {
     "output_type": "stream",
     "name": "stdout",
     "text": [
      "Model: \"vgg16\"\n",
      "_________________________________________________________________\n",
      "Layer (type)                 Output Shape              Param #   \n",
      "=================================================================\n",
      "input_1 (InputLayer)         [(None, 150, 150, 3)]     0         \n",
      "_________________________________________________________________\n",
      "block1_conv1 (Conv2D)        (None, 150, 150, 64)      1792      \n",
      "_________________________________________________________________\n",
      "block1_conv2 (Conv2D)        (None, 150, 150, 64)      36928     \n",
      "_________________________________________________________________\n",
      "block1_pool (MaxPooling2D)   (None, 75, 75, 64)        0         \n",
      "_________________________________________________________________\n",
      "block2_conv1 (Conv2D)        (None, 75, 75, 128)       73856     \n",
      "_________________________________________________________________\n",
      "block2_conv2 (Conv2D)        (None, 75, 75, 128)       147584    \n",
      "_________________________________________________________________\n",
      "block2_pool (MaxPooling2D)   (None, 37, 37, 128)       0         \n",
      "_________________________________________________________________\n",
      "block3_conv1 (Conv2D)        (None, 37, 37, 256)       295168    \n",
      "_________________________________________________________________\n",
      "block3_conv2 (Conv2D)        (None, 37, 37, 256)       590080    \n",
      "_________________________________________________________________\n",
      "block3_conv3 (Conv2D)        (None, 37, 37, 256)       590080    \n",
      "_________________________________________________________________\n",
      "block3_pool (MaxPooling2D)   (None, 18, 18, 256)       0         \n",
      "_________________________________________________________________\n",
      "block4_conv1 (Conv2D)        (None, 18, 18, 512)       1180160   \n",
      "_________________________________________________________________\n",
      "block4_conv2 (Conv2D)        (None, 18, 18, 512)       2359808   \n",
      "_________________________________________________________________\n",
      "block4_conv3 (Conv2D)        (None, 18, 18, 512)       2359808   \n",
      "_________________________________________________________________\n",
      "block4_pool (MaxPooling2D)   (None, 9, 9, 512)         0         \n",
      "_________________________________________________________________\n",
      "block5_conv1 (Conv2D)        (None, 9, 9, 512)         2359808   \n",
      "_________________________________________________________________\n",
      "block5_conv2 (Conv2D)        (None, 9, 9, 512)         2359808   \n",
      "_________________________________________________________________\n",
      "block5_conv3 (Conv2D)        (None, 9, 9, 512)         2359808   \n",
      "_________________________________________________________________\n",
      "block5_pool (MaxPooling2D)   (None, 4, 4, 512)         0         \n",
      "=================================================================\n",
      "Total params: 14,714,688\n",
      "Trainable params: 14,714,688\n",
      "Non-trainable params: 0\n",
      "_________________________________________________________________\n"
     ]
    }
   ],
   "metadata": {}
  },
  {
   "cell_type": "code",
   "execution_count": 7,
   "source": [
    "import os\r\n",
    "import numpy as np\r\n",
    "from tensorflow.keras.preprocessing.image import ImageDataGenerator\r\n",
    "\r\n",
    "base_dir = 'datasets/cats_and_dogs_small'\r\n",
    "\r\n",
    "train_dir = os.path.join(base_dir, 'train')\r\n",
    "validation_dir = os.path.join(base_dir, 'validation')\r\n",
    "test_dir = os.path.join(base_dir, 'test')\r\n",
    "\r\n",
    "datagen = ImageDataGenerator(rescale=1./255)\r\n",
    "batch_size = 20\r\n",
    "\r\n",
    "def extract_features(directory, sample_count):\r\n",
    "    features = np.zeros(shape=(sample_count, 4, 4, 512))\r\n",
    "    labels = np.zeros(shape=(sample_count))\r\n",
    "    generator = datagen.flow_from_directory(\r\n",
    "        directory,\r\n",
    "        target_size=(150,150),\r\n",
    "        batch_size=batch_size,\r\n",
    "        class_mode='binary'\r\n",
    "    )\r\n",
    "    i = 0\r\n",
    "    for inputs_batch, labels_batch in generator:\r\n",
    "        features_batch = conv_base.predict(inputs_batch)\r\n",
    "        features[i * batch_size : (i + 1) * batch_size] = features_batch\r\n",
    "        labels[i * batch_size : (i + 1) * batch_size] = labels_batch\r\n",
    "        i += 1\r\n",
    "        if i * batch_size >= sample_count:\r\n",
    "            break\r\n",
    "    return features, labels\r\n",
    "\r\n",
    "with tf.device('/GPU:0'):\r\n",
    "    train_features, train_labels = extract_features(train_dir, 2000)\r\n",
    "    validation_features, validation_labels = extract_features(validation_dir, 1000)\r\n",
    "    test_features, test_labels = extract_features(test_dir, 1000)\r\n",
    "    "
   ],
   "outputs": [
    {
     "output_type": "stream",
     "name": "stdout",
     "text": [
      "Found 2000 images belonging to 2 classes.\n",
      "Found 1000 images belonging to 2 classes.\n",
      "Found 1000 images belonging to 2 classes.\n"
     ]
    }
   ],
   "metadata": {}
  },
  {
   "cell_type": "code",
   "execution_count": 8,
   "source": [
    "train_features = np.reshape(train_features, (2000, 4 * 4 * 512))\r\n",
    "validation_features = np.reshape(validation_features, (1000, 4 * 4 * 512))\r\n",
    "test_features = np.reshape(test_features, (1000, 4 * 4 * 512))"
   ],
   "outputs": [],
   "metadata": {}
  },
  {
   "cell_type": "code",
   "execution_count": 10,
   "source": [
    "from tensorflow.keras import models, layers, optimizers\r\n",
    "\r\n",
    "with tf.device('/GPU:0'):\r\n",
    "    model = models.Sequential()\r\n",
    "    model.add(layers.Dense(256, activation='relu', input_dim = 4 * 4 * 512))\r\n",
    "    model.add(layers.Dropout(0.5))\r\n",
    "    model.add(layers.Dense(1, activation='sigmoid'))\r\n",
    "\r\n",
    "    model.compile(loss='binary_crossentropy',\\\r\n",
    "        optimizer = optimizers.RMSprop(learning_rate=2e-5),\r\n",
    "        metrics=['acc'])\r\n",
    "\r\n",
    "    history = model.fit(\r\n",
    "        train_features,\r\n",
    "        train_labels,\r\n",
    "        epochs=30,\r\n",
    "        batch_size=20,\r\n",
    "        validation_data=(validation_features, validation_labels)\r\n",
    "    )"
   ],
   "outputs": [
    {
     "output_type": "stream",
     "name": "stdout",
     "text": [
      "Epoch 1/30\n",
      "100/100 [==============================] - 1s 8ms/step - loss: 0.6090 - acc: 0.6725 - val_loss: 0.4360 - val_acc: 0.8330\n",
      "Epoch 2/30\n",
      "100/100 [==============================] - 1s 5ms/step - loss: 0.4270 - acc: 0.8090 - val_loss: 0.3578 - val_acc: 0.8600\n",
      "Epoch 3/30\n",
      "100/100 [==============================] - 0s 5ms/step - loss: 0.3547 - acc: 0.8495 - val_loss: 0.3162 - val_acc: 0.8800\n",
      "Epoch 4/30\n",
      "100/100 [==============================] - 0s 5ms/step - loss: 0.3139 - acc: 0.8610 - val_loss: 0.2966 - val_acc: 0.8770\n",
      "Epoch 5/30\n",
      "100/100 [==============================] - 0s 5ms/step - loss: 0.2920 - acc: 0.8815 - val_loss: 0.2794 - val_acc: 0.8880\n",
      "Epoch 6/30\n",
      "100/100 [==============================] - 1s 5ms/step - loss: 0.2701 - acc: 0.8890 - val_loss: 0.2711 - val_acc: 0.8920\n",
      "Epoch 7/30\n",
      "100/100 [==============================] - 0s 5ms/step - loss: 0.2479 - acc: 0.9050 - val_loss: 0.2597 - val_acc: 0.8970\n",
      "Epoch 8/30\n",
      "100/100 [==============================] - 0s 5ms/step - loss: 0.2282 - acc: 0.9125 - val_loss: 0.2562 - val_acc: 0.8920\n",
      "Epoch 9/30\n",
      "100/100 [==============================] - 0s 5ms/step - loss: 0.2177 - acc: 0.9115 - val_loss: 0.2818 - val_acc: 0.8770\n",
      "Epoch 10/30\n",
      "100/100 [==============================] - 1s 7ms/step - loss: 0.2088 - acc: 0.9215 - val_loss: 0.2558 - val_acc: 0.8940\n",
      "Epoch 11/30\n",
      "100/100 [==============================] - 1s 6ms/step - loss: 0.1991 - acc: 0.9240 - val_loss: 0.2465 - val_acc: 0.9010\n",
      "Epoch 12/30\n",
      "100/100 [==============================] - 1s 5ms/step - loss: 0.1927 - acc: 0.9280 - val_loss: 0.2465 - val_acc: 0.9000\n",
      "Epoch 13/30\n",
      "100/100 [==============================] - 0s 5ms/step - loss: 0.1798 - acc: 0.9340 - val_loss: 0.2400 - val_acc: 0.9020\n",
      "Epoch 14/30\n",
      "100/100 [==============================] - 0s 5ms/step - loss: 0.1665 - acc: 0.9425 - val_loss: 0.2375 - val_acc: 0.9050\n",
      "Epoch 15/30\n",
      "100/100 [==============================] - 0s 5ms/step - loss: 0.1629 - acc: 0.9350 - val_loss: 0.2371 - val_acc: 0.9050\n",
      "Epoch 16/30\n",
      "100/100 [==============================] - 1s 7ms/step - loss: 0.1566 - acc: 0.9465 - val_loss: 0.2509 - val_acc: 0.8950\n",
      "Epoch 17/30\n",
      "100/100 [==============================] - 1s 5ms/step - loss: 0.1485 - acc: 0.9480 - val_loss: 0.2376 - val_acc: 0.9040\n",
      "Epoch 18/30\n",
      "100/100 [==============================] - 0s 5ms/step - loss: 0.1420 - acc: 0.9560 - val_loss: 0.2345 - val_acc: 0.9050\n",
      "Epoch 19/30\n",
      "100/100 [==============================] - 0s 5ms/step - loss: 0.1392 - acc: 0.9550 - val_loss: 0.2351 - val_acc: 0.9050\n",
      "Epoch 20/30\n",
      "100/100 [==============================] - 0s 5ms/step - loss: 0.1304 - acc: 0.9555 - val_loss: 0.2366 - val_acc: 0.9030\n",
      "Epoch 21/30\n",
      "100/100 [==============================] - 0s 5ms/step - loss: 0.1243 - acc: 0.9600 - val_loss: 0.2351 - val_acc: 0.9020\n",
      "Epoch 22/30\n",
      "100/100 [==============================] - 1s 5ms/step - loss: 0.1188 - acc: 0.9590 - val_loss: 0.2366 - val_acc: 0.9050\n",
      "Epoch 23/30\n",
      "100/100 [==============================] - 1s 5ms/step - loss: 0.1142 - acc: 0.9660 - val_loss: 0.2357 - val_acc: 0.9040\n",
      "Epoch 24/30\n",
      "100/100 [==============================] - 1s 5ms/step - loss: 0.1086 - acc: 0.9680 - val_loss: 0.2380 - val_acc: 0.9030\n",
      "Epoch 25/30\n",
      "100/100 [==============================] - 1s 5ms/step - loss: 0.1060 - acc: 0.9630 - val_loss: 0.2427 - val_acc: 0.9020\n",
      "Epoch 26/30\n",
      "100/100 [==============================] - 0s 5ms/step - loss: 0.0999 - acc: 0.9685 - val_loss: 0.2352 - val_acc: 0.9020\n",
      "Epoch 27/30\n",
      "100/100 [==============================] - 0s 5ms/step - loss: 0.0992 - acc: 0.9715 - val_loss: 0.2428 - val_acc: 0.9000\n",
      "Epoch 28/30\n",
      "100/100 [==============================] - 0s 5ms/step - loss: 0.1013 - acc: 0.9650 - val_loss: 0.2408 - val_acc: 0.9020\n",
      "Epoch 29/30\n",
      "100/100 [==============================] - 0s 5ms/step - loss: 0.0894 - acc: 0.9700 - val_loss: 0.2421 - val_acc: 0.9020\n",
      "Epoch 30/30\n",
      "100/100 [==============================] - 0s 5ms/step - loss: 0.0871 - acc: 0.9720 - val_loss: 0.2354 - val_acc: 0.9050\n"
     ]
    }
   ],
   "metadata": {}
  },
  {
   "cell_type": "code",
   "execution_count": 11,
   "source": [
    "import matplotlib.pyplot as plt"
   ],
   "outputs": [],
   "metadata": {}
  },
  {
   "cell_type": "code",
   "execution_count": 12,
   "source": [
    "history.history.keys()"
   ],
   "outputs": [
    {
     "output_type": "execute_result",
     "data": {
      "text/plain": [
       "dict_keys(['loss', 'acc', 'val_loss', 'val_acc'])"
      ]
     },
     "metadata": {},
     "execution_count": 12
    }
   ],
   "metadata": {}
  },
  {
   "cell_type": "code",
   "execution_count": 13,
   "source": [
    "acc = history.history['acc']\r\n",
    "val_acc = history.history['val_acc']\r\n",
    "loss = history.history['loss']\r\n",
    "val_loss = history.history['val_loss']\r\n",
    "\r\n",
    "epochs = range(len(acc))\r\n",
    "\r\n",
    "plt.plot(epochs, acc, 'bo', label='Train acc')\r\n",
    "plt.plot(epochs, val_acc, 'b', label='Validation acc')\r\n",
    "plt.title('Train and Validation Accuracy')\r\n",
    "plt.legend()\r\n",
    "\r\n",
    "plt.figure()\r\n",
    "\r\n",
    "plt.plot(epochs, loss, 'bo', label='Train loss')\r\n",
    "plt.plot(epochs, val_loss, 'b', label='Validation loss')\r\n",
    "plt.title('Train and Validation loss')\r\n",
    "plt.legend()\r\n",
    "\r\n",
    "plt.show()"
   ],
   "outputs": [
    {
     "output_type": "display_data",
     "data": {
      "image/png": "[encoded data removed]",
      "text/plain": [
       "<Figure size 432x288 with 1 Axes>"
      ]
     },
     "metadata": {
      "needs_background": "light"
     }
    },
    {
     "output_type": "display_data",
     "data": {
      "image/png": "[encoded data removed]",
      "text/plain": [
       "<Figure size 432x288 with 1 Axes>"
      ]
     },
     "metadata": {
      "needs_background": "light"
     }
    }
   ],
   "metadata": {}
  },
  {
   "cell_type": "code",
   "execution_count": 28,
   "source": [
    "model = models.Sequential()\r\n",
    "model.add(conv_base)\r\n",
    "model.add(layers.Flatten())\r\n",
    "model.add(layers.Dense(256, activation='relu'))\r\n",
    "model.add(layers.Dense(1, activation='sigmoid'))"
   ],
   "outputs": [],
   "metadata": {}
  },
  {
   "cell_type": "code",
   "execution_count": 29,
   "source": [
    "model.summary()"
   ],
   "outputs": [
    {
     "output_type": "stream",
     "name": "stdout",
     "text": [
      "Model: \"sequential_3\"\n",
      "_________________________________________________________________\n",
      "Layer (type)                 Output Shape              Param #   \n",
      "=================================================================\n",
      "vgg16 (Functional)           (None, 4, 4, 512)         14714688  \n",
      "_________________________________________________________________\n",
      "flatten_1 (Flatten)          (None, 8192)              0         \n",
      "_________________________________________________________________\n",
      "dense_6 (Dense)              (None, 256)               2097408   \n",
      "_________________________________________________________________\n",
      "dense_7 (Dense)              (None, 1)                 257       \n",
      "=================================================================\n",
      "Total params: 16,812,353\n",
      "Trainable params: 2,097,665\n",
      "Non-trainable params: 14,714,688\n",
      "_________________________________________________________________\n"
     ]
    }
   ],
   "metadata": {}
  },
  {
   "cell_type": "code",
   "execution_count": 30,
   "source": [
    "print('conv_base를 동결하기 전 훈련되는 가중치의 수:',\\\r\n",
    "    len(model.trainable_weights))"
   ],
   "outputs": [
    {
     "output_type": "stream",
     "name": "stdout",
     "text": [
      "conv_base를 동결하기 전 훈련되는 가중치의 수: 4\n"
     ]
    }
   ],
   "metadata": {}
  },
  {
   "cell_type": "code",
   "execution_count": 31,
   "source": [
    "conv_base.trainable = False"
   ],
   "outputs": [],
   "metadata": {}
  },
  {
   "cell_type": "code",
   "execution_count": 20,
   "source": [
    "print('conv_base를 동결한 후 훈련되는 가중치의 수:',\\\r\n",
    "    len(model.trainable_weights))"
   ],
   "outputs": [
    {
     "output_type": "stream",
     "name": "stdout",
     "text": [
      "conv_base를 동결한 후 훈련되는 가중치의 수: 4\n"
     ]
    }
   ],
   "metadata": {}
  },
  {
   "cell_type": "code",
   "execution_count": 32,
   "source": [
    "train_datagen = ImageDataGenerator(\r\n",
    "    rescale=1./255,\r\n",
    "    rotation_range=20,\r\n",
    "    width_shift_range=0.1,\r\n",
    "    height_shift_range=0.1,\r\n",
    "    shear_range=0.1,\r\n",
    "    zoom_range=0.1,\r\n",
    "    horizontal_flip=True,\r\n",
    "    fill_mode='nearest'\r\n",
    ")\r\n",
    "\r\n",
    "test_datagen = ImageDataGenerator(rescale=1./255)\r\n",
    "\r\n",
    "train_generator = train_datagen.flow_from_directory(\r\n",
    "    train_dir,\r\n",
    "    target_size=(150,150),\r\n",
    "    batch_size=20,\r\n",
    "    class_mode='binary'\r\n",
    ")\r\n",
    "\r\n",
    "validation_generator = test_datagen.flow_from_directory(\r\n",
    "    validation_dir,\r\n",
    "    target_size=(150,150),\r\n",
    "    batch_size=20,\r\n",
    "    class_mode='binary'\r\n",
    ")\r\n",
    "\r\n",
    "model.compile(loss='binary_crossentropy', \\\r\n",
    "    optimizer=optimizers.RMSprop(learning_rate=2e-5),\r\n",
    "    metrics=['acc'])\r\n",
    "\r\n",
    "history = model.fit(train_generator, steps_per_epoch=100, epochs=30,\\\r\n",
    "    validation_data=validation_generator, validation_steps=50, verbose=2)"
   ],
   "outputs": [
    {
     "output_type": "stream",
     "name": "stdout",
     "text": [
      "Found 2000 images belonging to 2 classes.\n",
      "Found 1000 images belonging to 2 classes.\n",
      "Epoch 1/30\n",
      "100/100 - 13s - loss: 0.5394 - acc: 0.7490 - val_loss: 0.4168 - val_acc: 0.8480\n",
      "Epoch 2/30\n",
      "100/100 - 12s - loss: 0.4168 - acc: 0.8265 - val_loss: 0.3530 - val_acc: 0.8480\n",
      "Epoch 3/30\n",
      "100/100 - 11s - loss: 0.3533 - acc: 0.8610 - val_loss: 0.3146 - val_acc: 0.8700\n",
      "Epoch 4/30\n",
      "100/100 - 12s - loss: 0.3228 - acc: 0.8680 - val_loss: 0.2887 - val_acc: 0.8880\n",
      "Epoch 5/30\n",
      "100/100 - 11s - loss: 0.3160 - acc: 0.8735 - val_loss: 0.2762 - val_acc: 0.8950\n",
      "Epoch 6/30\n",
      "100/100 - 11s - loss: 0.2923 - acc: 0.8830 - val_loss: 0.2677 - val_acc: 0.8920\n",
      "Epoch 7/30\n",
      "100/100 - 11s - loss: 0.2894 - acc: 0.8845 - val_loss: 0.2594 - val_acc: 0.8890\n",
      "Epoch 8/30\n",
      "100/100 - 11s - loss: 0.2742 - acc: 0.8870 - val_loss: 0.2583 - val_acc: 0.8930\n",
      "Epoch 9/30\n",
      "100/100 - 11s - loss: 0.2659 - acc: 0.8880 - val_loss: 0.2467 - val_acc: 0.8990\n",
      "Epoch 10/30\n",
      "100/100 - 11s - loss: 0.2600 - acc: 0.8905 - val_loss: 0.2456 - val_acc: 0.8960\n",
      "Epoch 11/30\n",
      "100/100 - 11s - loss: 0.2479 - acc: 0.8985 - val_loss: 0.2450 - val_acc: 0.8980\n",
      "Epoch 12/30\n",
      "100/100 - 11s - loss: 0.2422 - acc: 0.9045 - val_loss: 0.2410 - val_acc: 0.9000\n",
      "Epoch 13/30\n",
      "100/100 - 11s - loss: 0.2400 - acc: 0.9025 - val_loss: 0.2379 - val_acc: 0.9000\n",
      "Epoch 14/30\n",
      "100/100 - 11s - loss: 0.2367 - acc: 0.9055 - val_loss: 0.2358 - val_acc: 0.9000\n",
      "Epoch 15/30\n",
      "100/100 - 12s - loss: 0.2182 - acc: 0.9140 - val_loss: 0.2340 - val_acc: 0.9070\n",
      "Epoch 16/30\n",
      "100/100 - 11s - loss: 0.2264 - acc: 0.9120 - val_loss: 0.2325 - val_acc: 0.9040\n",
      "Epoch 17/30\n",
      "100/100 - 11s - loss: 0.2215 - acc: 0.9135 - val_loss: 0.2327 - val_acc: 0.9060\n",
      "Epoch 18/30\n",
      "100/100 - 11s - loss: 0.2176 - acc: 0.9170 - val_loss: 0.2317 - val_acc: 0.9050\n",
      "Epoch 19/30\n",
      "100/100 - 11s - loss: 0.2137 - acc: 0.9130 - val_loss: 0.2300 - val_acc: 0.9060\n",
      "Epoch 20/30\n",
      "100/100 - 11s - loss: 0.2102 - acc: 0.9110 - val_loss: 0.2286 - val_acc: 0.9090\n",
      "Epoch 21/30\n",
      "100/100 - 11s - loss: 0.2064 - acc: 0.9210 - val_loss: 0.2345 - val_acc: 0.9050\n",
      "Epoch 22/30\n",
      "100/100 - 11s - loss: 0.2044 - acc: 0.9200 - val_loss: 0.2331 - val_acc: 0.9100\n",
      "Epoch 23/30\n",
      "100/100 - 11s - loss: 0.2082 - acc: 0.9150 - val_loss: 0.2289 - val_acc: 0.9080\n",
      "Epoch 24/30\n",
      "100/100 - 11s - loss: 0.2063 - acc: 0.9130 - val_loss: 0.2297 - val_acc: 0.9120\n",
      "Epoch 25/30\n",
      "100/100 - 11s - loss: 0.1935 - acc: 0.9240 - val_loss: 0.2475 - val_acc: 0.9030\n",
      "Epoch 26/30\n",
      "100/100 - 11s - loss: 0.1967 - acc: 0.9210 - val_loss: 0.2287 - val_acc: 0.9090\n",
      "Epoch 27/30\n",
      "100/100 - 11s - loss: 0.1926 - acc: 0.9265 - val_loss: 0.2347 - val_acc: 0.9080\n",
      "Epoch 28/30\n",
      "100/100 - 11s - loss: 0.1886 - acc: 0.9275 - val_loss: 0.2283 - val_acc: 0.9090\n",
      "Epoch 29/30\n",
      "100/100 - 11s - loss: 0.1886 - acc: 0.9225 - val_loss: 0.2279 - val_acc: 0.9120\n",
      "Epoch 30/30\n",
      "100/100 - 11s - loss: 0.1903 - acc: 0.9285 - val_loss: 0.2301 - val_acc: 0.9110\n"
     ]
    }
   ],
   "metadata": {}
  },
  {
   "cell_type": "code",
   "execution_count": 33,
   "source": [
    "model.save('cats_and_dogs_small_3.h5')"
   ],
   "outputs": [],
   "metadata": {}
  },
  {
   "cell_type": "code",
   "execution_count": 34,
   "source": [
    "acc = history.history['acc']\r\n",
    "val_acc = history.history['val_acc']\r\n",
    "loss = history.history['loss']\r\n",
    "val_loss = history.history['val_loss']\r\n",
    "\r\n",
    "epochs = range(len(acc))\r\n",
    "\r\n",
    "plt.plot(epochs, acc, 'bo', label='Training acc')\r\n",
    "plt.plot(epochs, val_acc, 'b', label='Validation acc')\r\n",
    "plt.title('Training and validation accuracy')\r\n",
    "plt.legend()\r\n",
    "\r\n",
    "plt.figure()\r\n",
    "\r\n",
    "plt.plot(epochs, loss, 'bo', label='Training loss')\r\n",
    "plt.plot(epochs, val_loss, 'b', label='Validation loss')\r\n",
    "plt.title('Training and validation loss')\r\n",
    "plt.legend()\r\n",
    "\r\n",
    "plt.show()"
   ],
   "outputs": [
    {
     "output_type": "display_data",
     "data": {
      "image/png": "[encoded data removed]",
      "text/plain": [
       "<Figure size 432x288 with 1 Axes>"
      ]
     },
     "metadata": {
      "needs_background": "light"
     }
    },
    {
     "output_type": "display_data",
     "data": {
      "image/png": "[encoded data removed]",
      "text/plain": [
       "<Figure size 432x288 with 1 Axes>"
      ]
     },
     "metadata": {
      "needs_background": "light"
     }
    }
   ],
   "metadata": {}
  },
  {
   "cell_type": "code",
   "execution_count": 35,
   "source": [
    "conv_base.summary()"
   ],
   "outputs": [
    {
     "output_type": "stream",
     "name": "stdout",
     "text": [
      "Model: \"vgg16\"\n",
      "_________________________________________________________________\n",
      "Layer (type)                 Output Shape              Param #   \n",
      "=================================================================\n",
      "input_1 (InputLayer)         [(None, 150, 150, 3)]     0         \n",
      "_________________________________________________________________\n",
      "block1_conv1 (Conv2D)        (None, 150, 150, 64)      1792      \n",
      "_________________________________________________________________\n",
      "block1_conv2 (Conv2D)        (None, 150, 150, 64)      36928     \n",
      "_________________________________________________________________\n",
      "block1_pool (MaxPooling2D)   (None, 75, 75, 64)        0         \n",
      "_________________________________________________________________\n",
      "block2_conv1 (Conv2D)        (None, 75, 75, 128)       73856     \n",
      "_________________________________________________________________\n",
      "block2_conv2 (Conv2D)        (None, 75, 75, 128)       147584    \n",
      "_________________________________________________________________\n",
      "block2_pool (MaxPooling2D)   (None, 37, 37, 128)       0         \n",
      "_________________________________________________________________\n",
      "block3_conv1 (Conv2D)        (None, 37, 37, 256)       295168    \n",
      "_________________________________________________________________\n",
      "block3_conv2 (Conv2D)        (None, 37, 37, 256)       590080    \n",
      "_________________________________________________________________\n",
      "block3_conv3 (Conv2D)        (None, 37, 37, 256)       590080    \n",
      "_________________________________________________________________\n",
      "block3_pool (MaxPooling2D)   (None, 18, 18, 256)       0         \n",
      "_________________________________________________________________\n",
      "block4_conv1 (Conv2D)        (None, 18, 18, 512)       1180160   \n",
      "_________________________________________________________________\n",
      "block4_conv2 (Conv2D)        (None, 18, 18, 512)       2359808   \n",
      "_________________________________________________________________\n",
      "block4_conv3 (Conv2D)        (None, 18, 18, 512)       2359808   \n",
      "_________________________________________________________________\n",
      "block4_pool (MaxPooling2D)   (None, 9, 9, 512)         0         \n",
      "_________________________________________________________________\n",
      "block5_conv1 (Conv2D)        (None, 9, 9, 512)         2359808   \n",
      "_________________________________________________________________\n",
      "block5_conv2 (Conv2D)        (None, 9, 9, 512)         2359808   \n",
      "_________________________________________________________________\n",
      "block5_conv3 (Conv2D)        (None, 9, 9, 512)         2359808   \n",
      "_________________________________________________________________\n",
      "block5_pool (MaxPooling2D)   (None, 4, 4, 512)         0         \n",
      "=================================================================\n",
      "Total params: 14,714,688\n",
      "Trainable params: 0\n",
      "Non-trainable params: 14,714,688\n",
      "_________________________________________________________________\n"
     ]
    }
   ],
   "metadata": {}
  },
  {
   "cell_type": "code",
   "execution_count": 37,
   "source": [
    "for layer in conv_base.layers:\r\n",
    "    print(layer.name)"
   ],
   "outputs": [
    {
     "output_type": "stream",
     "name": "stdout",
     "text": [
      "input_1\n",
      "block1_conv1\n",
      "block1_conv2\n",
      "block1_pool\n",
      "block2_conv1\n",
      "block2_conv2\n",
      "block2_pool\n",
      "block3_conv1\n",
      "block3_conv2\n",
      "block3_conv3\n",
      "block3_pool\n",
      "block4_conv1\n",
      "block4_conv2\n",
      "block4_conv3\n",
      "block4_pool\n",
      "block5_conv1\n",
      "block5_conv2\n",
      "block5_conv3\n",
      "block5_pool\n"
     ]
    }
   ],
   "metadata": {}
  },
  {
   "cell_type": "code",
   "execution_count": 38,
   "source": [
    "conv_base.trainable = True\r\n",
    "\r\n",
    "set_trainable = False\r\n",
    "for layer in conv_base.layers:\r\n",
    "    if layer.name == 'block5_conv1':\r\n",
    "        set_trainable = True\r\n",
    "    if set_trainable:\r\n",
    "        layer.trainable = True\r\n",
    "    else:\r\n",
    "        layer.trainable = False"
   ],
   "outputs": [],
   "metadata": {}
  },
  {
   "cell_type": "code",
   "execution_count": 39,
   "source": [
    "model.compile(loss='binary_crossentropy',\\\r\n",
    "    optimizer=optimizers.RMSprop(learning_rate=1e-5),\r\n",
    "    metrics=['acc'])\r\n",
    "\r\n",
    "history = model.fit(train_generator, steps_per_epoch=100, \\\r\n",
    "    epochs=100, validation_data=validation_generator,\r\n",
    "    validation_steps=50)"
   ],
   "outputs": [
    {
     "output_type": "stream",
     "name": "stdout",
     "text": [
      "Epoch 1/100\n",
      "100/100 [==============================] - 24s 226ms/step - loss: 0.1983 - acc: 0.9190 - val_loss: 0.2158 - val_acc: 0.9140\n",
      "Epoch 2/100\n",
      "100/100 [==============================] - 25s 249ms/step - loss: 0.1696 - acc: 0.9330 - val_loss: 0.2365 - val_acc: 0.9000\n",
      "Epoch 3/100\n",
      "100/100 [==============================] - 11s 110ms/step - loss: 0.1461 - acc: 0.9410 - val_loss: 0.1998 - val_acc: 0.9190\n",
      "Epoch 4/100\n",
      "100/100 [==============================] - 18s 184ms/step - loss: 0.1110 - acc: 0.9525 - val_loss: 0.2416 - val_acc: 0.9080\n",
      "Epoch 5/100\n",
      "100/100 [==============================] - 12s 118ms/step - loss: 0.0953 - acc: 0.9655 - val_loss: 0.2501 - val_acc: 0.9160\n",
      "Epoch 6/100\n",
      "100/100 [==============================] - 11s 113ms/step - loss: 0.1006 - acc: 0.9630 - val_loss: 0.2083 - val_acc: 0.9250\n",
      "Epoch 7/100\n",
      "100/100 [==============================] - 12s 121ms/step - loss: 0.0850 - acc: 0.9705 - val_loss: 0.2155 - val_acc: 0.9280\n",
      "Epoch 8/100\n",
      "100/100 [==============================] - 11s 111ms/step - loss: 0.0730 - acc: 0.9750 - val_loss: 0.2541 - val_acc: 0.9120\n",
      "Epoch 9/100\n",
      "100/100 [==============================] - 12s 117ms/step - loss: 0.0700 - acc: 0.9775 - val_loss: 0.2236 - val_acc: 0.9270\n",
      "Epoch 10/100\n",
      "100/100 [==============================] - 11s 106ms/step - loss: 0.0544 - acc: 0.9800 - val_loss: 0.2484 - val_acc: 0.9180\n",
      "Epoch 11/100\n",
      "100/100 [==============================] - 11s 109ms/step - loss: 0.0617 - acc: 0.9800 - val_loss: 0.2103 - val_acc: 0.9260\n",
      "Epoch 12/100\n",
      "100/100 [==============================] - 10s 104ms/step - loss: 0.0440 - acc: 0.9850 - val_loss: 0.2788 - val_acc: 0.9160\n",
      "Epoch 13/100\n",
      "100/100 [==============================] - 11s 105ms/step - loss: 0.0448 - acc: 0.9855 - val_loss: 0.2187 - val_acc: 0.9280\n",
      "Epoch 14/100\n",
      "100/100 [==============================] - 11s 106ms/step - loss: 0.0337 - acc: 0.9880 - val_loss: 0.2229 - val_acc: 0.9220\n",
      "Epoch 15/100\n",
      "100/100 [==============================] - 10s 104ms/step - loss: 0.0330 - acc: 0.9895 - val_loss: 0.2262 - val_acc: 0.9300\n",
      "Epoch 16/100\n",
      "100/100 [==============================] - 11s 111ms/step - loss: 0.0350 - acc: 0.9870 - val_loss: 0.2472 - val_acc: 0.9210\n",
      "Epoch 17/100\n",
      "100/100 [==============================] - 12s 117ms/step - loss: 0.0257 - acc: 0.9900 - val_loss: 0.2393 - val_acc: 0.9290\n",
      "Epoch 18/100\n",
      "100/100 [==============================] - 11s 111ms/step - loss: 0.0270 - acc: 0.9920 - val_loss: 0.2456 - val_acc: 0.9310\n",
      "Epoch 19/100\n",
      "100/100 [==============================] - 11s 114ms/step - loss: 0.0207 - acc: 0.9945 - val_loss: 0.2434 - val_acc: 0.9240\n",
      "Epoch 20/100\n",
      "100/100 [==============================] - 11s 112ms/step - loss: 0.0234 - acc: 0.9930 - val_loss: 0.2422 - val_acc: 0.9190\n",
      "Epoch 21/100\n",
      "100/100 [==============================] - 11s 110ms/step - loss: 0.0213 - acc: 0.9925 - val_loss: 0.2563 - val_acc: 0.9250\n",
      "Epoch 22/100\n",
      "100/100 [==============================] - 11s 110ms/step - loss: 0.0202 - acc: 0.9925 - val_loss: 0.2492 - val_acc: 0.9330\n",
      "Epoch 23/100\n",
      "100/100 [==============================] - 11s 110ms/step - loss: 0.0190 - acc: 0.9960 - val_loss: 0.2766 - val_acc: 0.9240\n",
      "Epoch 24/100\n",
      "100/100 [==============================] - 11s 110ms/step - loss: 0.0229 - acc: 0.9920 - val_loss: 0.2601 - val_acc: 0.9330\n",
      "Epoch 25/100\n",
      "100/100 [==============================] - 11s 113ms/step - loss: 0.0144 - acc: 0.9950 - val_loss: 0.2574 - val_acc: 0.9270\n",
      "Epoch 26/100\n",
      "100/100 [==============================] - 11s 110ms/step - loss: 0.0186 - acc: 0.9950 - val_loss: 0.2377 - val_acc: 0.9280\n",
      "Epoch 27/100\n",
      "100/100 [==============================] - 11s 109ms/step - loss: 0.0161 - acc: 0.9945 - val_loss: 0.2989 - val_acc: 0.9250\n",
      "Epoch 28/100\n",
      "100/100 [==============================] - 11s 109ms/step - loss: 0.0167 - acc: 0.9935 - val_loss: 0.2605 - val_acc: 0.9330\n",
      "Epoch 29/100\n",
      "100/100 [==============================] - 11s 110ms/step - loss: 0.0105 - acc: 0.9970 - val_loss: 0.2839 - val_acc: 0.9290\n",
      "Epoch 30/100\n",
      "100/100 [==============================] - 11s 109ms/step - loss: 0.0150 - acc: 0.9955 - val_loss: 0.2952 - val_acc: 0.9260\n",
      "Epoch 31/100\n",
      "100/100 [==============================] - 11s 109ms/step - loss: 0.0113 - acc: 0.9950 - val_loss: 0.2998 - val_acc: 0.9240\n",
      "Epoch 32/100\n",
      "100/100 [==============================] - 11s 109ms/step - loss: 0.0110 - acc: 0.9965 - val_loss: 0.3003 - val_acc: 0.9240\n",
      "Epoch 33/100\n",
      "100/100 [==============================] - 11s 110ms/step - loss: 0.0087 - acc: 0.9965 - val_loss: 0.2762 - val_acc: 0.9260\n",
      "Epoch 34/100\n",
      "100/100 [==============================] - 11s 110ms/step - loss: 0.0072 - acc: 0.9985 - val_loss: 0.3614 - val_acc: 0.9190\n",
      "Epoch 35/100\n",
      "100/100 [==============================] - 11s 109ms/step - loss: 0.0173 - acc: 0.9960 - val_loss: 0.3567 - val_acc: 0.9130\n",
      "Epoch 36/100\n",
      "100/100 [==============================] - 11s 110ms/step - loss: 0.0093 - acc: 0.9970 - val_loss: 0.2630 - val_acc: 0.9320\n",
      "Epoch 37/100\n",
      "100/100 [==============================] - 11s 109ms/step - loss: 0.0059 - acc: 0.9985 - val_loss: 0.5263 - val_acc: 0.8910\n",
      "Epoch 38/100\n",
      "100/100 [==============================] - 11s 114ms/step - loss: 0.0080 - acc: 0.9970 - val_loss: 0.2869 - val_acc: 0.9370\n",
      "Epoch 39/100\n",
      "100/100 [==============================] - 11s 109ms/step - loss: 0.0062 - acc: 0.9975 - val_loss: 0.2842 - val_acc: 0.9320\n",
      "Epoch 40/100\n",
      "100/100 [==============================] - 11s 109ms/step - loss: 0.0127 - acc: 0.9950 - val_loss: 0.2921 - val_acc: 0.9350\n",
      "Epoch 41/100\n",
      "100/100 [==============================] - 11s 109ms/step - loss: 0.0105 - acc: 0.9955 - val_loss: 0.3665 - val_acc: 0.9190\n",
      "Epoch 42/100\n",
      "100/100 [==============================] - 11s 110ms/step - loss: 0.0058 - acc: 0.9985 - val_loss: 0.3119 - val_acc: 0.9220\n",
      "Epoch 43/100\n",
      "100/100 [==============================] - 11s 110ms/step - loss: 0.0056 - acc: 0.9975 - val_loss: 0.3404 - val_acc: 0.9160\n",
      "Epoch 44/100\n",
      "100/100 [==============================] - 11s 110ms/step - loss: 0.0060 - acc: 0.9995 - val_loss: 0.3296 - val_acc: 0.9280\n",
      "Epoch 45/100\n",
      "100/100 [==============================] - 11s 110ms/step - loss: 0.0046 - acc: 0.9985 - val_loss: 0.3299 - val_acc: 0.9340\n",
      "Epoch 46/100\n",
      "100/100 [==============================] - 11s 109ms/step - loss: 0.0067 - acc: 0.9970 - val_loss: 0.4243 - val_acc: 0.9130\n",
      "Epoch 47/100\n",
      "100/100 [==============================] - 11s 110ms/step - loss: 0.0047 - acc: 0.9985 - val_loss: 0.3099 - val_acc: 0.9360\n",
      "Epoch 48/100\n",
      "100/100 [==============================] - 11s 112ms/step - loss: 0.0047 - acc: 0.9980 - val_loss: 0.3230 - val_acc: 0.9350\n",
      "Epoch 49/100\n",
      "100/100 [==============================] - 11s 113ms/step - loss: 0.0053 - acc: 0.9980 - val_loss: 0.2801 - val_acc: 0.9370\n",
      "Epoch 50/100\n",
      "100/100 [==============================] - 11s 111ms/step - loss: 0.0055 - acc: 0.9980 - val_loss: 0.2816 - val_acc: 0.9390\n",
      "Epoch 51/100\n",
      "100/100 [==============================] - 12s 115ms/step - loss: 0.0029 - acc: 0.9990 - val_loss: 0.2995 - val_acc: 0.9340\n",
      "Epoch 52/100\n",
      "100/100 [==============================] - 11s 113ms/step - loss: 0.0061 - acc: 0.9980 - val_loss: 0.3206 - val_acc: 0.9270\n",
      "Epoch 53/100\n",
      "100/100 [==============================] - 11s 113ms/step - loss: 0.0047 - acc: 0.9995 - val_loss: 0.3767 - val_acc: 0.9240\n",
      "Epoch 54/100\n",
      "100/100 [==============================] - 11s 113ms/step - loss: 0.0065 - acc: 0.9980 - val_loss: 0.3081 - val_acc: 0.9350\n",
      "Epoch 55/100\n",
      "100/100 [==============================] - 11s 109ms/step - loss: 0.0019 - acc: 0.9995 - val_loss: 0.3434 - val_acc: 0.9330\n",
      "Epoch 56/100\n",
      "100/100 [==============================] - 11s 109ms/step - loss: 0.0023 - acc: 0.9995 - val_loss: 0.3450 - val_acc: 0.9340\n",
      "Epoch 57/100\n",
      "100/100 [==============================] - 11s 109ms/step - loss: 0.0039 - acc: 0.9985 - val_loss: 0.4721 - val_acc: 0.9190\n",
      "Epoch 58/100\n",
      "100/100 [==============================] - 11s 110ms/step - loss: 0.0072 - acc: 0.9975 - val_loss: 0.3582 - val_acc: 0.9320\n",
      "Epoch 59/100\n",
      "100/100 [==============================] - 11s 110ms/step - loss: 0.0031 - acc: 0.9985 - val_loss: 0.3569 - val_acc: 0.9280\n",
      "Epoch 60/100\n",
      "100/100 [==============================] - 11s 110ms/step - loss: 0.0045 - acc: 0.9985 - val_loss: 0.3586 - val_acc: 0.9330\n",
      "Epoch 61/100\n",
      "100/100 [==============================] - 11s 110ms/step - loss: 0.0084 - acc: 0.9970 - val_loss: 0.3551 - val_acc: 0.9330\n",
      "Epoch 62/100\n",
      "100/100 [==============================] - 11s 109ms/step - loss: 0.0066 - acc: 0.9980 - val_loss: 0.3422 - val_acc: 0.9290\n",
      "Epoch 63/100\n",
      "100/100 [==============================] - 11s 109ms/step - loss: 0.0045 - acc: 0.9985 - val_loss: 0.3366 - val_acc: 0.9340\n",
      "Epoch 64/100\n",
      "100/100 [==============================] - 11s 109ms/step - loss: 0.0054 - acc: 0.9975 - val_loss: 0.3148 - val_acc: 0.9370\n",
      "Epoch 65/100\n",
      "100/100 [==============================] - 11s 110ms/step - loss: 0.0025 - acc: 0.9990 - val_loss: 0.3954 - val_acc: 0.9230\n",
      "Epoch 66/100\n",
      "100/100 [==============================] - 11s 108ms/step - loss: 0.0030 - acc: 0.9995 - val_loss: 0.3279 - val_acc: 0.9260\n",
      "Epoch 67/100\n",
      "100/100 [==============================] - 11s 109ms/step - loss: 0.0014 - acc: 1.0000 - val_loss: 0.4613 - val_acc: 0.9230\n",
      "Epoch 68/100\n",
      "100/100 [==============================] - 11s 110ms/step - loss: 0.0038 - acc: 0.9990 - val_loss: 0.4036 - val_acc: 0.9290\n",
      "Epoch 69/100\n",
      "100/100 [==============================] - 11s 110ms/step - loss: 0.0027 - acc: 0.9985 - val_loss: 0.3663 - val_acc: 0.9310\n",
      "Epoch 70/100\n",
      "100/100 [==============================] - 11s 110ms/step - loss: 0.0065 - acc: 0.9970 - val_loss: 0.3494 - val_acc: 0.9300\n",
      "Epoch 71/100\n",
      "100/100 [==============================] - 11s 109ms/step - loss: 0.0026 - acc: 0.9995 - val_loss: 0.3785 - val_acc: 0.9320\n",
      "Epoch 72/100\n",
      "100/100 [==============================] - 11s 110ms/step - loss: 0.0036 - acc: 0.9985 - val_loss: 0.3356 - val_acc: 0.9320\n",
      "Epoch 73/100\n",
      "100/100 [==============================] - 11s 110ms/step - loss: 0.0018 - acc: 0.9995 - val_loss: 0.3465 - val_acc: 0.9330\n",
      "Epoch 74/100\n",
      "100/100 [==============================] - 11s 109ms/step - loss: 0.0076 - acc: 0.9975 - val_loss: 0.3763 - val_acc: 0.9370\n",
      "Epoch 75/100\n",
      "100/100 [==============================] - 11s 110ms/step - loss: 0.0026 - acc: 0.9990 - val_loss: 0.3740 - val_acc: 0.9380\n",
      "Epoch 76/100\n",
      "100/100 [==============================] - 11s 109ms/step - loss: 0.0026 - acc: 0.9995 - val_loss: 0.3543 - val_acc: 0.9340\n",
      "Epoch 77/100\n",
      "100/100 [==============================] - 11s 109ms/step - loss: 0.0026 - acc: 0.9995 - val_loss: 0.3721 - val_acc: 0.9330\n",
      "Epoch 78/100\n",
      "100/100 [==============================] - 11s 109ms/step - loss: 0.0024 - acc: 0.9995 - val_loss: 0.4385 - val_acc: 0.9270\n",
      "Epoch 79/100\n",
      "100/100 [==============================] - 11s 109ms/step - loss: 0.0017 - acc: 0.9990 - val_loss: 0.3741 - val_acc: 0.9350\n",
      "Epoch 80/100\n",
      "100/100 [==============================] - 11s 112ms/step - loss: 9.8106e-04 - acc: 1.0000 - val_loss: 0.4521 - val_acc: 0.9240\n",
      "Epoch 81/100\n",
      "100/100 [==============================] - 11s 110ms/step - loss: 0.0026 - acc: 0.9990 - val_loss: 0.3416 - val_acc: 0.9330\n",
      "Epoch 82/100\n",
      "100/100 [==============================] - 11s 109ms/step - loss: 0.0034 - acc: 0.9985 - val_loss: 0.3610 - val_acc: 0.9400\n",
      "Epoch 83/100\n",
      "100/100 [==============================] - 11s 111ms/step - loss: 4.9474e-04 - acc: 1.0000 - val_loss: 0.3681 - val_acc: 0.9330\n",
      "Epoch 84/100\n",
      "100/100 [==============================] - 11s 110ms/step - loss: 0.0024 - acc: 0.9995 - val_loss: 0.3904 - val_acc: 0.9340\n",
      "Epoch 85/100\n",
      "100/100 [==============================] - 11s 110ms/step - loss: 0.0012 - acc: 0.9995 - val_loss: 0.4527 - val_acc: 0.9280\n",
      "Epoch 86/100\n",
      "100/100 [==============================] - 11s 113ms/step - loss: 0.0039 - acc: 0.9985 - val_loss: 0.3542 - val_acc: 0.9330\n",
      "Epoch 87/100\n",
      "100/100 [==============================] - 11s 105ms/step - loss: 0.0029 - acc: 0.9990 - val_loss: 0.4517 - val_acc: 0.9240\n",
      "Epoch 88/100\n",
      "100/100 [==============================] - 11s 106ms/step - loss: 0.0056 - acc: 0.9995 - val_loss: 0.4036 - val_acc: 0.9310\n",
      "Epoch 89/100\n",
      "100/100 [==============================] - 11s 105ms/step - loss: 0.0037 - acc: 0.9995 - val_loss: 0.3764 - val_acc: 0.9370\n",
      "Epoch 90/100\n",
      "100/100 [==============================] - 10s 104ms/step - loss: 0.0045 - acc: 0.9995 - val_loss: 0.3977 - val_acc: 0.9340\n",
      "Epoch 91/100\n",
      "100/100 [==============================] - 10s 103ms/step - loss: 0.0032 - acc: 0.9990 - val_loss: 0.3792 - val_acc: 0.9380\n",
      "Epoch 92/100\n",
      "100/100 [==============================] - 11s 105ms/step - loss: 0.0063 - acc: 0.9970 - val_loss: 0.3360 - val_acc: 0.9380\n",
      "Epoch 93/100\n",
      "100/100 [==============================] - 10s 103ms/step - loss: 9.0019e-04 - acc: 0.9995 - val_loss: 0.3634 - val_acc: 0.9400\n",
      "Epoch 94/100\n",
      "100/100 [==============================] - 10s 103ms/step - loss: 0.0056 - acc: 0.9985 - val_loss: 0.3562 - val_acc: 0.9350\n",
      "Epoch 95/100\n",
      "100/100 [==============================] - 11s 105ms/step - loss: 0.0017 - acc: 0.9995 - val_loss: 0.3490 - val_acc: 0.9360\n",
      "Epoch 96/100\n",
      "100/100 [==============================] - 10s 103ms/step - loss: 0.0055 - acc: 0.9985 - val_loss: 0.3540 - val_acc: 0.9350\n",
      "Epoch 97/100\n",
      "100/100 [==============================] - 10s 104ms/step - loss: 0.0031 - acc: 0.9990 - val_loss: 0.4101 - val_acc: 0.9320\n",
      "Epoch 98/100\n",
      "100/100 [==============================] - 11s 108ms/step - loss: 0.0028 - acc: 0.9990 - val_loss: 0.3845 - val_acc: 0.9380\n",
      "Epoch 99/100\n",
      "100/100 [==============================] - 10s 104ms/step - loss: 0.0019 - acc: 0.9990 - val_loss: 0.4316 - val_acc: 0.9380\n",
      "Epoch 100/100\n",
      "100/100 [==============================] - 10s 104ms/step - loss: 4.1228e-04 - acc: 1.0000 - val_loss: 0.6664 - val_acc: 0.9200\n"
     ]
    }
   ],
   "metadata": {}
  },
  {
   "cell_type": "code",
   "execution_count": 40,
   "source": [
    "model.save('cats_and_dogs_small_4.h5')"
   ],
   "outputs": [],
   "metadata": {}
  },
  {
   "cell_type": "code",
   "execution_count": 41,
   "source": [
    "acc = history.history['acc']\r\n",
    "val_acc = history.history['val_acc']\r\n",
    "loss = history.history['loss']\r\n",
    "val_loss = history.history['val_loss']\r\n",
    "\r\n",
    "epochs = range(len(acc))\r\n",
    "\r\n",
    "plt.plot(epochs, acc, 'bo', label='Training acc')\r\n",
    "plt.plot(epochs, val_acc, 'b', label='Validation acc')\r\n",
    "plt.title('Training and validation accuracy')\r\n",
    "plt.legend()\r\n",
    "\r\n",
    "plt.figure()\r\n",
    "\r\n",
    "plt.plot(epochs, loss, 'bo', label='Training loss')\r\n",
    "plt.plot(epochs, val_loss, 'b', label='Validation loss')\r\n",
    "plt.title('Training and validation loss')\r\n",
    "plt.legend()\r\n",
    "\r\n",
    "plt.show()"
   ],
   "outputs": [
    {
     "output_type": "display_data",
     "data": {
      "image/png": "[encoded data removed]",
      "text/plain": [
       "<Figure size 432x288 with 1 Axes>"
      ]
     },
     "metadata": {
      "needs_background": "light"
     }
    },
    {
     "output_type": "display_data",
     "data": {
      "image/png": "[encoded data removed]",
      "text/plain": [
       "<Figure size 432x288 with 1 Axes>"
      ]
     },
     "metadata": {
      "needs_background": "light"
     }
    }
   ],
   "metadata": {}
  },
  {
   "cell_type": "code",
   "execution_count": 42,
   "source": [
    "def smooth_curve(points, factor=0.8):\r\n",
    "  smoothed_points = []\r\n",
    "  for point in points:\r\n",
    "    if smoothed_points:\r\n",
    "      previous = smoothed_points[-1]\r\n",
    "      smoothed_points.append(previous * factor + point * (1 - factor))\r\n",
    "    else:\r\n",
    "      smoothed_points.append(point)\r\n",
    "  return smoothed_points\r\n",
    "\r\n",
    "plt.plot(epochs,\r\n",
    "         smooth_curve(acc), 'bo', label='Smoothed training acc')\r\n",
    "plt.plot(epochs,\r\n",
    "         smooth_curve(val_acc), 'b', label='Smoothed validation acc')\r\n",
    "plt.title('Training and validation accuracy')\r\n",
    "plt.legend()\r\n",
    "\r\n",
    "plt.figure()\r\n",
    "\r\n",
    "plt.plot(epochs,\r\n",
    "         smooth_curve(loss), 'bo', label='Smoothed training loss')\r\n",
    "plt.plot(epochs,\r\n",
    "         smooth_curve(val_loss), 'b', label='Smoothed validation loss')\r\n",
    "plt.title('Training and validation loss')\r\n",
    "plt.legend()\r\n",
    "\r\n",
    "plt.show()"
   ],
   "outputs": [
    {
     "output_type": "display_data",
     "data": {
      "image/png": "[encoded data removed]",
      "text/plain": [
       "<Figure size 432x288 with 1 Axes>"
      ]
     },
     "metadata": {
      "needs_background": "light"
     }
    },
    {
     "output_type": "display_data",
     "data": {
      "image/png": "[encoded data removed]",
      "text/plain": [
       "<Figure size 432x288 with 1 Axes>"
      ]
     },
     "metadata": {
      "needs_background": "light"
     }
    }
   ],
   "metadata": {}
  },
  {
   "cell_type": "code",
   "execution_count": 43,
   "source": [
    "test_generator = test_datagen.flow_from_directory(\r\n",
    "    test_dir,\r\n",
    "    target_size=(150,150),\r\n",
    "    batch_size=20,\r\n",
    "    class_mode='binary'\r\n",
    ")\r\n",
    "\r\n",
    "test_loss, test_acc = model.evaluate(test_generator, steps=50)\r\n",
    "print(\"test acc :\", test_acc)"
   ],
   "outputs": [
    {
     "output_type": "stream",
     "name": "stdout",
     "text": [
      "Found 1000 images belonging to 2 classes.\n",
      "50/50 [==============================] - 2s 43ms/step - loss: 0.7136 - acc: 0.9180\n",
      "test acc : 0.9179999828338623\n"
     ]
    }
   ],
   "metadata": {}
  },
  {
   "cell_type": "code",
   "execution_count": null,
   "source": [],
   "outputs": [],
   "metadata": {}
  }
 ],
 "metadata": {
  "orig_nbformat": 4,
  "language_info": {
   "name": "python",
   "version": "3.8.12",
   "mimetype": "text/x-python",
   "codemirror_mode": {
    "name": "ipython",
    "version": 3
   },
   "pygments_lexer": "ipython3",
   "nbconvert_exporter": "python",
   "file_extension": ".py"
  },
  "kernelspec": {
   "name": "python3",
   "display_name": "Python 3.8.12 64-bit ('tf': conda)"
  },
  "interpreter": {
   "hash": "43b8d4b0421e31837ee631fba45bd9c555ae9d60ac346ba1acc74c5ea3718cef"
  }
 },
 "nbformat": 4,
 "nbformat_minor": 2
}