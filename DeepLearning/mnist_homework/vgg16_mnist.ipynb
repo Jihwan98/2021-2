{
 "cells": [
  {
   "cell_type": "code",
   "execution_count": 1,
   "source": [
    "import cv2\r\n",
    "import numpy as np\r\n",
    "import matplotlib.pyplot as plt\r\n",
    "from tensorflow.keras.datasets import mnist\r\n",
    "(train_images, train_labels), (test_images, test_labels) = mnist.load_data()"
   ],
   "outputs": [],
   "metadata": {}
  },
  {
   "cell_type": "code",
   "execution_count": 2,
   "source": [
    "from tensorflow.keras.utils import to_categorical\r\n",
    "train_labels = to_categorical(train_labels)\r\n",
    "test_labels = to_categorical(test_labels)"
   ],
   "outputs": [],
   "metadata": {}
  },
  {
   "cell_type": "code",
   "execution_count": 3,
   "source": [
    "concat_train = np.concatenate((train_images, test_images), axis=0)\r\n",
    "concat_labels = np.concatenate((train_labels, test_labels), axis=0)\r\n",
    "concat_train.shape, concat_labels.shape"
   ],
   "outputs": [
    {
     "output_type": "execute_result",
     "data": {
      "text/plain": [
       "((70000, 28, 28), (70000, 10))"
      ]
     },
     "metadata": {},
     "execution_count": 3
    }
   ],
   "metadata": {}
  },
  {
   "cell_type": "code",
   "execution_count": 4,
   "source": [
    "train_images_150 = []\r\n",
    "for i in concat_train:\r\n",
    "    img = i\r\n",
    "    img2 = cv2.resize(img, dsize=(150,150))\r\n",
    "    train_images_150.append(img2)"
   ],
   "outputs": [],
   "metadata": {}
  },
  {
   "cell_type": "code",
   "execution_count": 5,
   "source": [
    "train_images_150 = np.array(train_images_150)\r\n",
    "train_images_150.shape"
   ],
   "outputs": [
    {
     "output_type": "execute_result",
     "data": {
      "text/plain": [
       "(70000, 150, 150)"
      ]
     },
     "metadata": {},
     "execution_count": 5
    }
   ],
   "metadata": {}
  },
  {
   "cell_type": "code",
   "execution_count": 6,
   "source": [
    "train_dir = 'mnist_num/train'\r\n",
    "test_dir = 'mnist_num/test'\r\n",
    "\r\n",
    "import tensorflow as tf\r\n",
    "test_data = tf.keras.preprocessing.image_dataset_from_directory(\r\n",
    "    test_dir, label_mode='categorical', color_mode='grayscale',\r\n",
    "    image_size=(150,150), batch_size=98\r\n",
    ")\r\n",
    "\r\n",
    "for i, j in test_data.take(1):\r\n",
    "    test_data_x = i\r\n",
    "    test_data_y = j\r\n",
    "\r\n",
    "test_data_x = np.squeeze(np.array(test_data_x))\r\n",
    "test_data_y = np.array(test_data_y)\r\n",
    "\r\n",
    "test_data_x.shape, test_data_y.shape"
   ],
   "outputs": [
    {
     "output_type": "stream",
     "name": "stdout",
     "text": [
      "Found 98 files belonging to 10 classes.\n"
     ]
    },
    {
     "output_type": "execute_result",
     "data": {
      "text/plain": [
       "((98, 150, 150), (98, 10))"
      ]
     },
     "metadata": {},
     "execution_count": 6
    }
   ],
   "metadata": {}
  },
  {
   "cell_type": "code",
   "execution_count": 7,
   "source": [
    "train_data = tf.keras.preprocessing.image_dataset_from_directory(\r\n",
    "    train_dir, label_mode='categorical', color_mode='grayscale',\r\n",
    "    image_size=(150,150), batch_size=245\r\n",
    ")\r\n",
    "\r\n",
    "for i, j in train_data.take(1):\r\n",
    "    train_data_x = i\r\n",
    "    train_data_y = j\r\n",
    "\r\n",
    "train_data_x = np.squeeze(np.array(train_data_x))\r\n",
    "train_data_y = np.array(train_data_y)\r\n",
    "\r\n",
    "train_data_x.shape, train_data_y.shape"
   ],
   "outputs": [
    {
     "output_type": "stream",
     "name": "stdout",
     "text": [
      "Found 245 files belonging to 10 classes.\n"
     ]
    },
    {
     "output_type": "execute_result",
     "data": {
      "text/plain": [
       "((245, 150, 150), (245, 10))"
      ]
     },
     "metadata": {},
     "execution_count": 7
    }
   ],
   "metadata": {}
  },
  {
   "cell_type": "code",
   "execution_count": 8,
   "source": [
    "# 모든 Train data 합쳐주기\r\n",
    "concat_train_x = np.concatenate((train_images_150, train_data_x), axis=0)\r\n",
    "concat_train_y = np.concatenate((concat_labels, train_data_y), axis=0)\r\n",
    "\r\n",
    "# Data Normalization\r\n",
    "concat_train_x = concat_train_x.astype('float32') / 255\r\n",
    "test_data_x = test_data_x.astype('float32') / 255\r\n",
    "\r\n",
    "concat_train_x.shape, concat_train_y.shape"
   ],
   "outputs": [
    {
     "output_type": "execute_result",
     "data": {
      "text/plain": [
       "((70245, 150, 150), (70245, 10))"
      ]
     },
     "metadata": {},
     "execution_count": 8
    }
   ],
   "metadata": {}
  },
  {
   "cell_type": "code",
   "execution_count": 9,
   "source": [
    "from sklearn.utils import shuffle\r\n",
    "X, y = shuffle(concat_train_x, concat_train_y)"
   ],
   "outputs": [],
   "metadata": {}
  },
  {
   "cell_type": "code",
   "execution_count": 10,
   "source": [
    "X.shape, y.shape"
   ],
   "outputs": [
    {
     "output_type": "execute_result",
     "data": {
      "text/plain": [
       "((70245, 150, 150), (70245, 10))"
      ]
     },
     "metadata": {},
     "execution_count": 10
    }
   ],
   "metadata": {}
  },
  {
   "cell_type": "code",
   "execution_count": 11,
   "source": [
    "X = np.stack((X, X, X), axis=-1)\r\n",
    "X.shape"
   ],
   "outputs": [
    {
     "output_type": "execute_result",
     "data": {
      "text/plain": [
       "(70245, 150, 150, 3)"
      ]
     },
     "metadata": {},
     "execution_count": 11
    }
   ],
   "metadata": {}
  },
  {
   "cell_type": "code",
   "execution_count": 12,
   "source": [
    "test_data_x = np.stack((test_data_x, test_data_x, test_data_x), axis=-1)\r\n",
    "test_data_x.shape"
   ],
   "outputs": [
    {
     "output_type": "execute_result",
     "data": {
      "text/plain": [
       "(98, 150, 150, 3)"
      ]
     },
     "metadata": {},
     "execution_count": 12
    }
   ],
   "metadata": {}
  },
  {
   "cell_type": "code",
   "execution_count": 13,
   "source": [
    "train_x = X[:60000,:,:]\r\n",
    "train_y = y[:60000,:]\r\n",
    "validation_x = X[60000:,:,:]\r\n",
    "validation_y = y[60000:,:]\r\n",
    "train_x.shape, train_y.shape, validation_x.shape, validation_y.shape"
   ],
   "outputs": [
    {
     "output_type": "execute_result",
     "data": {
      "text/plain": [
       "((60000, 150, 150, 3), (60000, 10), (10245, 150, 150, 3), (10245, 10))"
      ]
     },
     "metadata": {},
     "execution_count": 13
    }
   ],
   "metadata": {}
  },
  {
   "cell_type": "markdown",
   "source": [
    "# Model"
   ],
   "metadata": {}
  },
  {
   "cell_type": "code",
   "execution_count": 14,
   "source": [
    "from tensorflow.keras.applications import VGG16\r\n",
    "conv_base = VGG16(weights='imagenet', include_top=False, input_shape=(150, 150, 3))"
   ],
   "outputs": [],
   "metadata": {}
  },
  {
   "cell_type": "code",
   "execution_count": 15,
   "source": [
    "conv_base.summary()"
   ],
   "outputs": [
    {
     "output_type": "stream",
     "name": "stdout",
     "text": [
      "Model: \"vgg16\"\n",
      "_________________________________________________________________\n",
      "Layer (type)                 Output Shape              Param #   \n",
      "=================================================================\n",
      "input_1 (InputLayer)         [(None, 150, 150, 3)]     0         \n",
      "_________________________________________________________________\n",
      "block1_conv1 (Conv2D)        (None, 150, 150, 64)      1792      \n",
      "_________________________________________________________________\n",
      "block1_conv2 (Conv2D)        (None, 150, 150, 64)      36928     \n",
      "_________________________________________________________________\n",
      "block1_pool (MaxPooling2D)   (None, 75, 75, 64)        0         \n",
      "_________________________________________________________________\n",
      "block2_conv1 (Conv2D)        (None, 75, 75, 128)       73856     \n",
      "_________________________________________________________________\n",
      "block2_conv2 (Conv2D)        (None, 75, 75, 128)       147584    \n",
      "_________________________________________________________________\n",
      "block2_pool (MaxPooling2D)   (None, 37, 37, 128)       0         \n",
      "_________________________________________________________________\n",
      "block3_conv1 (Conv2D)        (None, 37, 37, 256)       295168    \n",
      "_________________________________________________________________\n",
      "block3_conv2 (Conv2D)        (None, 37, 37, 256)       590080    \n",
      "_________________________________________________________________\n",
      "block3_conv3 (Conv2D)        (None, 37, 37, 256)       590080    \n",
      "_________________________________________________________________\n",
      "block3_pool (MaxPooling2D)   (None, 18, 18, 256)       0         \n",
      "_________________________________________________________________\n",
      "block4_conv1 (Conv2D)        (None, 18, 18, 512)       1180160   \n",
      "_________________________________________________________________\n",
      "block4_conv2 (Conv2D)        (None, 18, 18, 512)       2359808   \n",
      "_________________________________________________________________\n",
      "block4_conv3 (Conv2D)        (None, 18, 18, 512)       2359808   \n",
      "_________________________________________________________________\n",
      "block4_pool (MaxPooling2D)   (None, 9, 9, 512)         0         \n",
      "_________________________________________________________________\n",
      "block5_conv1 (Conv2D)        (None, 9, 9, 512)         2359808   \n",
      "_________________________________________________________________\n",
      "block5_conv2 (Conv2D)        (None, 9, 9, 512)         2359808   \n",
      "_________________________________________________________________\n",
      "block5_conv3 (Conv2D)        (None, 9, 9, 512)         2359808   \n",
      "_________________________________________________________________\n",
      "block5_pool (MaxPooling2D)   (None, 4, 4, 512)         0         \n",
      "=================================================================\n",
      "Total params: 14,714,688\n",
      "Trainable params: 14,714,688\n",
      "Non-trainable params: 0\n",
      "_________________________________________________________________\n"
     ]
    }
   ],
   "metadata": {}
  },
  {
   "cell_type": "code",
   "execution_count": 16,
   "source": [
    "conv_base.trainable = False"
   ],
   "outputs": [],
   "metadata": {}
  },
  {
   "cell_type": "code",
   "execution_count": 42,
   "source": [
    "from tensorflow.keras import models, layers\r\n",
    "\r\n",
    "model = models.Sequential()\r\n",
    "model.add(conv_base)\r\n",
    "model.add(layers.Flatten())\r\n",
    "model.add(layers.Dense(512, activation='relu'))\r\n",
    "model.add(layers.Dense(10, activation='softmax'))"
   ],
   "outputs": [],
   "metadata": {}
  },
  {
   "cell_type": "code",
   "execution_count": 43,
   "source": [
    "conv_base.trainable = True\r\n",
    "\r\n",
    "set_trainable = False\r\n",
    "for layer in conv_base.layers:\r\n",
    "    if layer.name == 'block5_conv1':\r\n",
    "        set_trainable = True\r\n",
    "    if set_trainable:\r\n",
    "        layer.trainable = True\r\n",
    "    else:\r\n",
    "        layer.trainable = False"
   ],
   "outputs": [],
   "metadata": {}
  },
  {
   "cell_type": "code",
   "execution_count": 44,
   "source": [
    "model.summary()"
   ],
   "outputs": [
    {
     "output_type": "stream",
     "name": "stdout",
     "text": [
      "Model: \"sequential_3\"\n",
      "_________________________________________________________________\n",
      "Layer (type)                 Output Shape              Param #   \n",
      "=================================================================\n",
      "vgg16 (Functional)           (None, 4, 4, 512)         14714688  \n",
      "_________________________________________________________________\n",
      "flatten_3 (Flatten)          (None, 8192)              0         \n",
      "_________________________________________________________________\n",
      "dense_6 (Dense)              (None, 512)               4194816   \n",
      "_________________________________________________________________\n",
      "dense_7 (Dense)              (None, 10)                5130      \n",
      "=================================================================\n",
      "Total params: 18,914,634\n",
      "Trainable params: 11,279,370\n",
      "Non-trainable params: 7,635,264\n",
      "_________________________________________________________________\n"
     ]
    }
   ],
   "metadata": {}
  },
  {
   "cell_type": "code",
   "execution_count": 45,
   "source": [
    "model.compile(optimizer='rmsprop', loss='categorical_crossentropy', metrics=['accuracy'])\r\n",
    "\r\n",
    "history = model.fit(train_x, train_y, epochs=5, batch_size=100,\r\n",
    "                    validation_data=(validation_x, validation_y))\r\n",
    "                "
   ],
   "outputs": [
    {
     "output_type": "stream",
     "name": "stdout",
     "text": [
      "Epoch 1/5\n",
      "600/600 [==============================] - 64s 105ms/step - loss: 0.0770 - accuracy: 0.9919 - val_loss: 0.0374 - val_accuracy: 0.9961\n",
      "Epoch 2/5\n",
      "600/600 [==============================] - 70s 116ms/step - loss: 0.0372 - accuracy: 0.9960 - val_loss: 0.1302 - val_accuracy: 0.9936\n",
      "Epoch 3/5\n",
      "600/600 [==============================] - 71s 118ms/step - loss: 0.0332 - accuracy: 0.9969 - val_loss: 0.0580 - val_accuracy: 0.9958\n",
      "Epoch 4/5\n",
      "600/600 [==============================] - 71s 119ms/step - loss: 0.0305 - accuracy: 0.9971 - val_loss: 0.0787 - val_accuracy: 0.9939\n",
      "Epoch 5/5\n",
      "600/600 [==============================] - 71s 119ms/step - loss: 0.0242 - accuracy: 0.9977 - val_loss: 0.0652 - val_accuracy: 0.9943\n"
     ]
    }
   ],
   "metadata": {}
  },
  {
   "cell_type": "code",
   "execution_count": 46,
   "source": [
    "acc = history.history['accuracy']\r\n",
    "val_acc = history.history['val_accuracy']\r\n",
    "loss = history.history['loss']\r\n",
    "val_loss = history.history['val_loss']\r\n",
    "\r\n",
    "epochs = range(len(acc))\r\n",
    "\r\n",
    "plt.plot(epochs, acc, 'bo', label='Training acc')\r\n",
    "plt.plot(epochs, val_acc, 'b', label='Validation acc')\r\n",
    "plt.title('Training and validation accuracy')\r\n",
    "plt.legend()\r\n",
    "\r\n",
    "plt.figure()\r\n",
    "\r\n",
    "plt.plot(epochs, loss, 'bo', label='Training loss')\r\n",
    "plt.plot(epochs, val_loss, 'b', label='Validation loss')\r\n",
    "plt.title('Training and validation loss')\r\n",
    "plt.legend()\r\n",
    "\r\n",
    "plt.show()"
   ],
   "outputs": [
    {
     "output_type": "display_data",
     "data": {
      "image/png": "[encoded data removed]",
      "text/plain": [
       "<Figure size 432x288 with 1 Axes>"
      ]
     },
     "metadata": {
      "needs_background": "light"
     }
    },
    {
     "output_type": "display_data",
     "data": {
      "image/png": "[encoded data removed]",
      "text/plain": [
       "<Figure size 432x288 with 1 Axes>"
      ]
     },
     "metadata": {
      "needs_background": "light"
     }
    }
   ],
   "metadata": {}
  },
  {
   "cell_type": "code",
   "execution_count": 47,
   "source": [
    "model.evaluate(test_data_x, test_data_y)"
   ],
   "outputs": [
    {
     "output_type": "stream",
     "name": "stdout",
     "text": [
      "4/4 [==============================] - 0s 20ms/step - loss: 0.4341 - accuracy: 0.9694\n"
     ]
    },
    {
     "output_type": "execute_result",
     "data": {
      "text/plain": [
       "[0.4341133236885071, 0.9693877696990967]"
      ]
     },
     "metadata": {},
     "execution_count": 47
    }
   ],
   "metadata": {}
  },
  {
   "cell_type": "code",
   "execution_count": 48,
   "source": [
    "model.fit(validation_x, validation_y, epochs=2, batch_size=100)"
   ],
   "outputs": [
    {
     "output_type": "stream",
     "name": "stdout",
     "text": [
      "Epoch 1/2\n",
      "103/103 [==============================] - 10s 92ms/step - loss: 0.0825 - accuracy: 0.9929\n",
      "Epoch 2/2\n",
      "103/103 [==============================] - 9s 91ms/step - loss: 0.0115 - accuracy: 0.9973\n"
     ]
    },
    {
     "output_type": "execute_result",
     "data": {
      "text/plain": [
       "<tensorflow.python.keras.callbacks.History at 0x21d177a9580>"
      ]
     },
     "metadata": {},
     "execution_count": 48
    }
   ],
   "metadata": {}
  },
  {
   "cell_type": "code",
   "execution_count": 49,
   "source": [
    "model.evaluate(test_data_x, test_data_y)"
   ],
   "outputs": [
    {
     "output_type": "stream",
     "name": "stdout",
     "text": [
      "4/4 [==============================] - 0s 18ms/step - loss: 2.1696 - accuracy: 0.9388\n"
     ]
    },
    {
     "output_type": "execute_result",
     "data": {
      "text/plain": [
       "[2.1696197986602783, 0.9387755393981934]"
      ]
     },
     "metadata": {},
     "execution_count": 49
    }
   ],
   "metadata": {}
  },
  {
   "cell_type": "code",
   "execution_count": 51,
   "source": [
    "predict = model.predict(test_data_x)"
   ],
   "outputs": [],
   "metadata": {}
  },
  {
   "cell_type": "code",
   "execution_count": 57,
   "source": [
    "pred = []\r\n",
    "label = []\r\n",
    "for i in predict:\r\n",
    "    pred.append(np.argmax(i))\r\n",
    "\r\n",
    "for i in test_data_y:\r\n",
    "    label.append(np.argmax(i))\r\n",
    "\r\n",
    "pred = np.array(pred)\r\n",
    "label = np.array(label)\r\n",
    "\r\n",
    "a = test_data_x[pred != label]\r\n",
    "b = pred[pred != label]\r\n",
    "a.shape"
   ],
   "outputs": [
    {
     "output_type": "execute_result",
     "data": {
      "text/plain": [
       "(6, 150, 150, 3)"
      ]
     },
     "metadata": {},
     "execution_count": 57
    }
   ],
   "metadata": {}
  },
  {
   "cell_type": "code",
   "execution_count": 62,
   "source": [
    "fig = plt.figure(figsize=(10,8))\r\n",
    "for i in range(6):\r\n",
    "    ax = fig.add_subplot(2, 3, i+1)\r\n",
    "    plt.imshow(a[i])\r\n",
    "    plt.title(\"Predict :\" + str(b[i]))"
   ],
   "outputs": [
    {
     "output_type": "display_data",
     "data": {
      "image/png": "[encoded data removed]",
      "text/plain": [
       "<Figure size 720x576 with 6 Axes>"
      ]
     },
     "metadata": {
      "needs_background": "light"
     }
    }
   ],
   "metadata": {}
  },
  {
   "cell_type": "code",
   "execution_count": null,
   "source": [],
   "outputs": [],
   "metadata": {}
  }
 ],
 "metadata": {
  "orig_nbformat": 4,
  "language_info": {
   "name": "python",
   "version": "3.8.12",
   "mimetype": "text/x-python",
   "codemirror_mode": {
    "name": "ipython",
    "version": 3
   },
   "pygments_lexer": "ipython3",
   "nbconvert_exporter": "python",
   "file_extension": ".py"
  },
  "kernelspec": {
   "name": "python3",
   "display_name": "Python 3.8.12 64-bit ('jh': conda)"
  },
  "interpreter": {
   "hash": "e9ed752a7e505fc75616f810a0f9c48c49c7ebda3966569fad47dcb1585d7300"
  }
 },
 "nbformat": 4,
 "nbformat_minor": 2
}