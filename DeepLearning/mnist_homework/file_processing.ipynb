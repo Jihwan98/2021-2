{
 "cells": [
  {
   "cell_type": "code",
   "execution_count": 13,
   "source": [
    "import os, shutil"
   ],
   "outputs": [],
   "metadata": {}
  },
  {
   "cell_type": "code",
   "execution_count": 26,
   "source": [
    "base_dir = 'images/mnist_num/before_process'\r\n",
    "test_folder_list = os.listdir(os.path.join(base_dir,'test'))\r\n",
    "train_folder_list = os.listdir(os.path.join(base_dir, 'train'))"
   ],
   "outputs": [],
   "metadata": {}
  },
  {
   "cell_type": "code",
   "execution_count": 11,
   "source": [
    "count = 0\r\n",
    "for name in test_folder_list:\r\n",
    "    print(count, end=' ')\r\n",
    "    name = os.path.join(base_dir, \"test\", name)\r\n",
    "    new_name = \"test_set_\" + str(count)\r\n",
    "    new_name = os.path.join(base_dir, \"test\", new_name)\r\n",
    "    os.rename(name, new_name)\r\n",
    "    count += 1"
   ],
   "outputs": [
    {
     "output_type": "stream",
     "name": "stdout",
     "text": [
      "0 1 2 3 4 5 6 7 8 9 "
     ]
    }
   ],
   "metadata": {}
  },
  {
   "cell_type": "code",
   "execution_count": 12,
   "source": [
    "count = 0\r\n",
    "for name in train_folder_list:\r\n",
    "    print(count, end=' ')\r\n",
    "    name = os.path.join(base_dir, \"train\", name)\r\n",
    "    new_name = \"train_set_\" + str(count)\r\n",
    "    new_name = os.path.join(base_dir, \"train\", new_name)\r\n",
    "    os.rename(name, new_name)\r\n",
    "    count += 1"
   ],
   "outputs": [
    {
     "output_type": "stream",
     "name": "stdout",
     "text": [
      "0 1 2 3 4 5 6 7 8 9 10 11 12 13 14 15 16 17 18 19 20 21 22 23 24 "
     ]
    }
   ],
   "metadata": {}
  },
  {
   "cell_type": "code",
   "execution_count": 27,
   "source": [
    "test_folder_list = os.listdir(os.path.join(base_dir,'test'))\r\n",
    "train_folder_list = os.listdir(os.path.join(base_dir, 'train'))"
   ],
   "outputs": [],
   "metadata": {}
  },
  {
   "cell_type": "code",
   "execution_count": 28,
   "source": [
    "os.listdir(os.path.join(base_dir,'test','test_set_0'))"
   ],
   "outputs": [
    {
     "output_type": "execute_result",
     "data": {
      "text/plain": [
       "['0.png',\n",
       " '1.png',\n",
       " '2.png',\n",
       " '3.png',\n",
       " '4.png',\n",
       " '5.png',\n",
       " '6.png',\n",
       " '7.png',\n",
       " '8.png',\n",
       " '9.png']"
      ]
     },
     "metadata": {},
     "execution_count": 28
    }
   ],
   "metadata": {}
  },
  {
   "cell_type": "code",
   "execution_count": 30,
   "source": [
    "new_dir = 'images/mnist_num/after_process'\r\n",
    "os.mkdir(new_dir)"
   ],
   "outputs": [],
   "metadata": {}
  },
  {
   "cell_type": "code",
   "execution_count": 31,
   "source": [
    "train_dir = os.path.join(new_dir, 'train')\r\n",
    "os.mkdir(train_dir)\r\n",
    "\r\n",
    "test_dir = os.path.join(new_dir, 'test')\r\n",
    "os.mkdir(test_dir)"
   ],
   "outputs": [],
   "metadata": {}
  },
  {
   "cell_type": "code",
   "execution_count": 33,
   "source": [
    "for i in range(10):\r\n",
    "    folder = os.path.join(train_dir, str(i))\r\n",
    "    os.mkdir(folder)\r\n",
    "    folder = os.path.join(test_dir, str(i))\r\n",
    "    os.mkdir(folder)"
   ],
   "outputs": [],
   "metadata": {}
  },
  {
   "cell_type": "code",
   "execution_count": 44,
   "source": [
    "count = 0\r\n",
    "for folder in test_folder_list:\r\n",
    "    for name in os.listdir(os.path.join(base_dir, 'test', folder)):\r\n",
    "        src = os.path.join(base_dir, 'test', folder, name)\r\n",
    "        number = name.split(\".\")[0]\r\n",
    "        fname = \"test\" + str(count) + \".jpg\"\r\n",
    "        if number == \"0\":\r\n",
    "            dst = os.path.join(test_dir, \"0\", fname)\r\n",
    "            shutil.copyfile(src, dst)\r\n",
    "        elif number == \"1\":\r\n",
    "            dst = os.path.join(test_dir, \"1\", fname)\r\n",
    "            shutil.copyfile(src, dst)\r\n",
    "        elif number == \"2\":\r\n",
    "            dst = os.path.join(test_dir, \"2\", fname)\r\n",
    "            shutil.copyfile(src, dst)\r\n",
    "        elif number == \"3\":\r\n",
    "            dst = os.path.join(test_dir, \"3\", fname)\r\n",
    "            shutil.copyfile(src, dst)\r\n",
    "        elif number == \"4\":\r\n",
    "            dst = os.path.join(test_dir, \"4\", fname)\r\n",
    "            shutil.copyfile(src, dst)\r\n",
    "        elif number == \"5\":\r\n",
    "            dst = os.path.join(test_dir, \"5\", fname)\r\n",
    "            shutil.copyfile(src, dst)\r\n",
    "        elif number == \"6\":\r\n",
    "            dst = os.path.join(test_dir, \"6\", fname)\r\n",
    "            shutil.copyfile(src, dst)\r\n",
    "        elif number == \"7\":\r\n",
    "            dst = os.path.join(test_dir, \"7\", fname)\r\n",
    "            shutil.copyfile(src, dst)\r\n",
    "        elif number == \"8\":\r\n",
    "            dst = os.path.join(test_dir, \"8\", fname)\r\n",
    "            shutil.copyfile(src, dst)\r\n",
    "        elif number == \"9\":\r\n",
    "            dst = os.path.join(test_dir, \"9\", fname)\r\n",
    "            shutil.copyfile(src, dst)\r\n",
    "        count += 1"
   ],
   "outputs": [],
   "metadata": {}
  },
  {
   "cell_type": "code",
   "execution_count": 45,
   "source": [
    "count = 0\r\n",
    "for folder in train_folder_list:\r\n",
    "    for name in os.listdir(os.path.join(base_dir, 'train', folder)):\r\n",
    "        src = os.path.join(base_dir, 'train', folder, name)\r\n",
    "        number = name.split(\".\")[0]\r\n",
    "        fname = \"train\" + str(count) + \".jpg\"\r\n",
    "        if number == \"0\":\r\n",
    "            dst = os.path.join(train_dir, \"0\", fname)\r\n",
    "            shutil.copyfile(src, dst)\r\n",
    "        elif number == \"1\":\r\n",
    "            dst = os.path.join(train_dir, \"1\", fname)\r\n",
    "            shutil.copyfile(src, dst)\r\n",
    "        elif number == \"2\":\r\n",
    "            dst = os.path.join(train_dir, \"2\", fname)\r\n",
    "            shutil.copyfile(src, dst)\r\n",
    "        elif number == \"3\":\r\n",
    "            dst = os.path.join(train_dir, \"3\", fname)\r\n",
    "            shutil.copyfile(src, dst)\r\n",
    "        elif number == \"4\":\r\n",
    "            dst = os.path.join(train_dir, \"4\", fname)\r\n",
    "            shutil.copyfile(src, dst)\r\n",
    "        elif number == \"5\":\r\n",
    "            dst = os.path.join(train_dir, \"5\", fname)\r\n",
    "            shutil.copyfile(src, dst)\r\n",
    "        elif number == \"6\":\r\n",
    "            dst = os.path.join(train_dir, \"6\", fname)\r\n",
    "            shutil.copyfile(src, dst)\r\n",
    "        elif number == \"7\":\r\n",
    "            dst = os.path.join(train_dir, \"7\", fname)\r\n",
    "            shutil.copyfile(src, dst)\r\n",
    "        elif number == \"8\":\r\n",
    "            dst = os.path.join(train_dir, \"8\", fname)\r\n",
    "            shutil.copyfile(src, dst)\r\n",
    "        elif number == \"9\":\r\n",
    "            dst = os.path.join(train_dir, \"9\", fname)\r\n",
    "            shutil.copyfile(src, dst)\r\n",
    "        count += 1"
   ],
   "outputs": [],
   "metadata": {}
  },
  {
   "cell_type": "code",
   "execution_count": null,
   "source": [],
   "outputs": [],
   "metadata": {}
  }
 ],
 "metadata": {
  "orig_nbformat": 4,
  "language_info": {
   "name": "python",
   "version": "3.8.12",
   "mimetype": "text/x-python",
   "codemirror_mode": {
    "name": "ipython",
    "version": 3
   },
   "pygments_lexer": "ipython3",
   "nbconvert_exporter": "python",
   "file_extension": ".py"
  },
  "kernelspec": {
   "name": "python3",
   "display_name": "Python 3.8.12 64-bit ('dl': conda)"
  },
  "interpreter": {
   "hash": "4e04b608b1d2eced9d088dfbe6bb09bdf80b0001021d42b89dbef197270da932"
  }
 },
 "nbformat": 4,
 "nbformat_minor": 2
}